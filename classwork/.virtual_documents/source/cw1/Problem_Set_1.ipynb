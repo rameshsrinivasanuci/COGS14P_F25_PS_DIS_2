


# your going to need numpy to do this assignment 
import numpy as np 
#frankly, in this class, you will always need numpy.  





### BEGIN SOLUTION
food = ['onion','egg','bacon','tomato','ham','cheese']
### END SOLUTION


assert len(food)== 6





### BEGIN SOLUTION
meat = list()
meat.append(food[2])
meat.append(food[4])
veggie = list()
veggie.append(food[3])
veggie.append(food[0])
### END SOLUTION


assert meat[0] == 'bacon'
assert len(meat) == 2


assert veggie[0] == 'tomato'
assert len(veggie) == 2





### BEGIN SOLUTION
numbers = np.array([6,24,13,16,8,10,21])
skip1 = numbers[0:7:2] #note this syntax will get you indices 0,2,4,6
### END SOLUTION


assert len(numbers) == 7


assert len(skip1) == 4
assert skip1[-1] == 21
assert skip1[1] == 13





### BEGIN SOLUTION
z = np.linspace(-100,100,21)
### END SOLUTION


assert np.all(np.diff(z) == 10)
### BEGIN HIDDEN TESTS
assert np.size(z) == 21
### END HIDDEN TESTS





### BEGIN SOLUTION
x = np.arange(1,20,2)
### END SOLUTION 


assert ~np.any(x%2 == 0)





### BEGIN SOLUTION
exponents = np.arange(1,9,1)
power = 2**exponents
### END SOLUTION


assert len(power) == 8
assert np,max(power) == 2**8
assert np.min(power) == 2
