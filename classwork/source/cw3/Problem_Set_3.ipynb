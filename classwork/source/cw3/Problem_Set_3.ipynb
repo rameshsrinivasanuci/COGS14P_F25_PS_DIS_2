{
 "cells": [
  {
   "cell_type": "markdown",
   "id": "f560cb29-5c26-472a-bc56-ed82e9cc5f32",
   "metadata": {
    "tags": []
   },
   "source": [
    "## **Problem Set 3** Execution Control I\n",
    "\n",
    "This is a problem set. You can work on it with the help of your classmates, Google, or ask me any questions you would like.\n",
    "\n",
    "I encourage discussion during these problem sets.  "
   ]
  },
  {
   "cell_type": "code",
   "execution_count": 1,
   "id": "5b487076-710f-4572-a17f-fe9570c93ca4",
   "metadata": {},
   "outputs": [],
   "source": [
    "import numpy as np"
   ]
  },
  {
   "cell_type": "markdown",
   "id": "421c2a51",
   "metadata": {},
   "source": [
    "1. Write a function called **clip** that takes as input arguments an array of integers **x** and two values **upper** and **lower**.  The function replaces any values in the array greater than **upper** with the value **upper** and lower thant **lower** with the value **lower**.  The function should return the new array with modified values.  Solve the problem using logical indexing.       "
   ]
  },
  {
   "cell_type": "code",
   "execution_count": 2,
   "id": "0e4d9939",
   "metadata": {
    "nbgrader": {
     "grade": false,
     "grade_id": "cell-ed628adef9122d0e",
     "locked": false,
     "schema_version": 3,
     "solution": true,
     "task": false
    }
   },
   "outputs": [],
   "source": [
    "### BEGIN SOLUTION\n",
    "def clip(x,upper,lower):\n",
    "    x[x>upper] = upper\n",
    "    x[x<lower] = lower\n",
    "    return x\n",
    "### END SOLUTION    "
   ]
  },
  {
   "cell_type": "code",
   "execution_count": 3,
   "id": "e7575fa5",
   "metadata": {
    "nbgrader": {
     "grade": true,
     "grade_id": "cell-338ae9bd6b6478af",
     "locked": true,
     "points": 2,
     "schema_version": 3,
     "solution": false,
     "task": false
    }
   },
   "outputs": [],
   "source": [
    "x = np.arange(10,200,10)\n",
    "upper = 100\n",
    "lower = 50\n",
    "x = clip(x, upper, lower)\n",
    "assert x[3] == 50  \n",
    "assert x[10] == 100      "
   ]
  },
  {
   "cell_type": "markdown",
   "id": "9f02ee08",
   "metadata": {},
   "source": [
    "2.  A store is having a sale based on what the customer spends. \n",
    "\n",
    "* If they spend less than 100, they receive no discount.\n",
    "* If the user spends between 100 and 150, they receive 25 off.\n",
    "* If they user spends 150 or more, they receive 50 off. \n",
    "\n",
    "Write a function **discount** that calculates the sale price the customer pays.\n",
    "\n",
    "The argument for this function is the price of the items the customer purchases. "
   ]
  },
  {
   "cell_type": "code",
   "execution_count": 4,
   "id": "c1120bbb",
   "metadata": {
    "nbgrader": {
     "grade": false,
     "grade_id": "cell-59ac799a002e3ebb",
     "locked": false,
     "schema_version": 3,
     "solution": true,
     "task": false
    }
   },
   "outputs": [],
   "source": [
    "### BEGIN SOLUTION\n",
    "def discount(price):\n",
    "    if price >= 150:\n",
    "        price = price - 50\n",
    "    elif price >= 100:\n",
    "        price = price - 25\n",
    "    return price \n",
    "### END SOLUTION    "
   ]
  },
  {
   "cell_type": "code",
   "execution_count": 5,
   "id": "4b9a2365",
   "metadata": {
    "nbgrader": {
     "grade": true,
     "grade_id": "cell-15bef6706414f9c7",
     "locked": true,
     "points": 2,
     "schema_version": 3,
     "solution": false,
     "task": false
    }
   },
   "outputs": [],
   "source": [
    "price = 90\n",
    "saleprice = discount(price)\n",
    "assert saleprice == price"
   ]
  },
  {
   "cell_type": "code",
   "execution_count": 6,
   "id": "dd98f284",
   "metadata": {
    "nbgrader": {
     "grade": true,
     "grade_id": "cell-3d940bd592341be5",
     "locked": true,
     "points": 2,
     "schema_version": 3,
     "solution": false,
     "task": false
    }
   },
   "outputs": [],
   "source": [
    "price = 120\n",
    "saleprice = discount(price)\n",
    "assert saleprice == price-25"
   ]
  },
  {
   "cell_type": "code",
   "execution_count": 7,
   "id": "8821e1a9",
   "metadata": {
    "nbgrader": {
     "grade": true,
     "grade_id": "cell-d02ff3e5ae414724",
     "locked": true,
     "points": 2,
     "schema_version": 3,
     "solution": false,
     "task": false
    }
   },
   "outputs": [],
   "source": [
    "price = 150\n",
    "saleprice = discount(price)\n",
    "assert saleprice == price-50"
   ]
  },
  {
   "cell_type": "markdown",
   "id": "e1460431",
   "metadata": {},
   "source": [
    "3. Write a function called **trianglename**. \n",
    "- The input arguments to the function are the lengths of the 3 sides of the triangle - a, b and c.  \n",
    "- Your function should use a statement of the type (`if`-`elif`-`else`) to determine if the triangle is 'equilateral', 'isosceles' or 'obtuse' and return the correct triangle name \n",
    "* 'equilateral' means all sides are equal, \n",
    "* 'isosceles' means two of the sides are equal but not the third one, \n",
    "* 'obtuse' means all 3 sides are different.\n",
    "- There is no preferred way to do this problem, and there are many possible solutions. \n",
    "- Note that I have created 3 test cases here. When testing a piece of code, you should always test that all possible cases work. "
   ]
  },
  {
   "cell_type": "code",
   "execution_count": 8,
   "id": "64edb1c1",
   "metadata": {
    "nbgrader": {
     "grade": false,
     "grade_id": "cell-6a863cd8f2f710ce",
     "locked": false,
     "schema_version": 3,
     "solution": true,
     "task": false
    }
   },
   "outputs": [],
   "source": [
    "### BEGIN SOLUTION\n",
    "def trianglename(a,b,c):\n",
    "    if (a == b) & (a == c):\n",
    "        triangle = 'equilateral'\n",
    "    elif (a==b) | (a==c) | (b==c):\n",
    "        triangle = 'isosceles'\n",
    "    else:\n",
    "        triangle = 'obtuse'\n",
    "    return triangle\n",
    "### END SOLUTION "
   ]
  },
  {
   "cell_type": "code",
   "execution_count": 9,
   "id": "48b56591",
   "metadata": {
    "nbgrader": {
     "grade": true,
     "grade_id": "cell-616f43338754cde7",
     "locked": true,
     "points": 2,
     "schema_version": 3,
     "solution": false,
     "task": false
    }
   },
   "outputs": [],
   "source": [
    "x = 6 \n",
    "y = 7\n",
    "z = 7\n",
    "triangle = trianglename(x,y,z)\n",
    "assert triangle == 'isosceles'"
   ]
  },
  {
   "cell_type": "code",
   "execution_count": 10,
   "id": "d35e2673",
   "metadata": {
    "nbgrader": {
     "grade": true,
     "grade_id": "cell-bf336b105b6ecee5",
     "locked": true,
     "points": 2,
     "schema_version": 3,
     "solution": false,
     "task": false
    }
   },
   "outputs": [],
   "source": [
    "x = 7 \n",
    "y = 7\n",
    "z = 7\n",
    "triangle = trianglename(x,y,z)\n",
    "assert triangle == 'equilateral'"
   ]
  },
  {
   "cell_type": "code",
   "execution_count": 11,
   "id": "03fb174a",
   "metadata": {
    "nbgrader": {
     "grade": true,
     "grade_id": "cell-d88d286035d01233",
     "locked": true,
     "points": 2,
     "schema_version": 3,
     "solution": false,
     "task": false
    }
   },
   "outputs": [],
   "source": [
    "x = 6 \n",
    "y = 7\n",
    "z = 8\n",
    "triangle = trianglename(x,y,z)\n",
    "assert triangle == 'obtuse'"
   ]
  },
  {
   "cell_type": "markdown",
   "id": "8405501c",
   "metadata": {},
   "source": [
    "4.  Write a function  that checks if a positive whole number provided as an argument is a prime number. The function should return the string 'prime' if the number is prime, and 'not prime' if the number is not prime. A prime number is divisible by exactly two numbers: itself and 1.  Do not use any loops (if you know how to use them).\n",
    "\n",
    "   Hint:  \n",
    "* % tells you the remainder when dividing a number by a number or an array\n",
    "* np.arange can be used to make an array"
   ]
  },
  {
   "cell_type": "code",
   "execution_count": 12,
   "id": "9be46d7f",
   "metadata": {
    "nbgrader": {
     "grade": false,
     "grade_id": "cell-abac5d0d0749ddd6",
     "locked": false,
     "schema_version": 3,
     "solution": true,
     "task": false
    }
   },
   "outputs": [],
   "source": [
    "### BEGIN SOLUTION\n",
    "def isprime(n):\n",
    "    if n == 1:\n",
    "        primecheck = 'not prime'\n",
    "    else:\n",
    "        divisors = np.arange(2,n)\n",
    "        remainders = n%divisors\n",
    "        if np.any(remainders == 0):\n",
    "            primecheck = 'not prime'\n",
    "        else:\n",
    "            primecheck = 'prime'\n",
    "    return primecheck\n",
    "### END SOLUTION"
   ]
  },
  {
   "cell_type": "code",
   "execution_count": 13,
   "id": "8daed8d5",
   "metadata": {
    "nbgrader": {
     "grade": true,
     "grade_id": "cell-735b98f4df1eca7d",
     "locked": true,
     "points": 2,
     "schema_version": 3,
     "solution": false,
     "task": false
    }
   },
   "outputs": [],
   "source": [
    "assert isprime(8) == 'not prime'\n",
    "### BEGIN HIDDEN TESTS ###\n",
    "assert isprime(7) == 'prime'\n",
    "### END HIDDEN TESTS ###"
   ]
  },
  {
   "cell_type": "code",
   "execution_count": 14,
   "id": "bd6e86d5-d065-4279-9e41-a9a5f5fac713",
   "metadata": {
    "nbgrader": {
     "grade": true,
     "grade_id": "cell-13196bb4dcd60f06",
     "locked": true,
     "points": 2,
     "schema_version": 3,
     "solution": false,
     "task": false
    }
   },
   "outputs": [],
   "source": [
    "assert isprime(31) == 'prime'\n",
    "### BEGIN HIDDEN TESTS ###\n",
    "assert isprime(30) == 'not prime'\n",
    "### END HIDDEN TESTS ###"
   ]
  },
  {
   "cell_type": "code",
   "execution_count": 15,
   "id": "04dee51c-16ab-46e2-9ccb-1d18d3cb70c8",
   "metadata": {
    "nbgrader": {
     "grade": true,
     "grade_id": "cell-634914584a356eb3",
     "locked": true,
     "points": 2,
     "schema_version": 3,
     "solution": false,
     "task": false
    }
   },
   "outputs": [],
   "source": [
    "assert isprime(1) == 'not prime'"
   ]
  }
 ],
 "metadata": {
  "kernelspec": {
   "display_name": "Python 3 (ipykernel)",
   "language": "python",
   "name": "python3"
  },
  "language_info": {
   "codemirror_mode": {
    "name": "ipython",
    "version": 3
   },
   "file_extension": ".py",
   "mimetype": "text/x-python",
   "name": "python",
   "nbconvert_exporter": "python",
   "pygments_lexer": "ipython3",
   "version": "3.13.5"
  }
 },
 "nbformat": 4,
 "nbformat_minor": 5
}
