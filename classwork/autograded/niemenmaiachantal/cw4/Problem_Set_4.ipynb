{
 "cells": [
  {
   "cell_type": "markdown",
   "id": "8e932758",
   "metadata": {},
   "source": [
    "Before you turn this problem in, make sure everything runs as expected. First, **restart the kernel** (in the menubar, select  **Restart** and **Clear All Outputs**, then select **Run All**).\n",
    "\n",
    "Make sure you fill in any place that says `YOUR CODE HERE` or \"YOUR ANSWER HERE\", as well as your name and collaborators below:"
   ]
  },
  {
   "cell_type": "code",
   "execution_count": 1,
   "id": "01fdcfd7",
   "metadata": {
    "execution": {
     "iopub.execute_input": "2025-10-28T00:08:54.396797Z",
     "iopub.status.busy": "2025-10-28T00:08:54.396592Z",
     "iopub.status.idle": "2025-10-28T00:08:54.401143Z",
     "shell.execute_reply": "2025-10-28T00:08:54.400719Z"
    }
   },
   "outputs": [],
   "source": [
    "NAME = \"Maia Niemen\"\n",
    "COLLABORATORS = \"BOCCHI\""
   ]
  },
  {
   "cell_type": "markdown",
   "id": "f118d24d",
   "metadata": {},
   "source": [
    "---"
   ]
  },
  {
   "cell_type": "markdown",
   "id": "637b2640-bda0-4622-8ef9-513c7ebf444f",
   "metadata": {
    "tags": []
   },
   "source": [
    "# **Problem Set 4** \n",
    "### This is a problem set.  You can work on it with the help of your classmates, Google, or ask me any questions you would like. \n",
    "### I encourage discussion during these problem sets.  Todays problem set is relatively short.  \n"
   ]
  },
  {
   "cell_type": "code",
   "execution_count": 2,
   "id": "51a2aa38-b471-45b2-a91d-120c945e0542",
   "metadata": {
    "execution": {
     "iopub.execute_input": "2025-10-28T00:08:54.403654Z",
     "iopub.status.busy": "2025-10-28T00:08:54.403468Z",
     "iopub.status.idle": "2025-10-28T00:08:54.655177Z",
     "shell.execute_reply": "2025-10-28T00:08:54.654646Z"
    }
   },
   "outputs": [],
   "source": [
    "import numpy as np\n",
    "from matplotlib import pyplot as plt"
   ]
  },
  {
   "cell_type": "markdown",
   "id": "484e46ab",
   "metadata": {},
   "source": [
    "1. Write a for loop that prints a countdown starting from the number **n** to the number 1. For your test case, set n = 10 "
   ]
  },
  {
   "cell_type": "code",
   "execution_count": 3,
   "id": "d14af533",
   "metadata": {
    "deletable": false,
    "execution": {
     "iopub.execute_input": "2025-10-28T00:08:54.658233Z",
     "iopub.status.busy": "2025-10-28T00:08:54.657953Z",
     "iopub.status.idle": "2025-10-28T00:08:54.662106Z",
     "shell.execute_reply": "2025-10-28T00:08:54.661672Z"
    },
    "nbgrader": {
     "cell_type": "code",
     "checksum": "bc969a86fbcba3c3618efe359da3ac09",
     "grade": true,
     "grade_id": "cell-c7608d833c216217",
     "locked": false,
     "points": 3,
     "schema_version": 3,
     "solution": true,
     "task": false
    }
   },
   "outputs": [
    {
     "name": "stdout",
     "output_type": "stream",
     "text": [
      "10\n",
      "9\n",
      "8\n",
      "7\n",
      "6\n",
      "5\n",
      "4\n",
      "3\n",
      "2\n",
      "1\n"
     ]
    }
   ],
   "source": [
    "n = 10\n",
    "for i in range(n):\n",
    "    print (n)\n",
    "    n-=1\n"
   ]
  },
  {
   "cell_type": "code",
   "execution_count": 4,
   "id": "5face743",
   "metadata": {
    "execution": {
     "iopub.execute_input": "2025-10-28T00:08:54.664497Z",
     "iopub.status.busy": "2025-10-28T00:08:54.664296Z",
     "iopub.status.idle": "2025-10-28T00:08:54.667078Z",
     "shell.execute_reply": "2025-10-28T00:08:54.666660Z"
    }
   },
   "outputs": [],
   "source": [
    "#this question is manually graded \n",
    "assert 1 == 1"
   ]
  },
  {
   "cell_type": "markdown",
   "id": "0548487e",
   "metadata": {},
   "source": [
    "2. Given a color_list = ['yellow', 'green'] and a fruit_list = ['banana', 'orange', 'mango', 'lemon'],  create a new list **color_fruit** with 8 elements that combines each color with each fruit. All the yellow fruits should come first and all the green fruits should come second.  The fruits should be listed in the original order. Make it pretty by using a space between the color and fruit - ' ' \n",
    "\n",
    "- Hint: Loops can be nested   "
   ]
  },
  {
   "cell_type": "code",
   "execution_count": 5,
   "id": "e083bf48",
   "metadata": {
    "deletable": false,
    "execution": {
     "iopub.execute_input": "2025-10-28T00:08:54.669367Z",
     "iopub.status.busy": "2025-10-28T00:08:54.669203Z",
     "iopub.status.idle": "2025-10-28T00:08:54.672233Z",
     "shell.execute_reply": "2025-10-28T00:08:54.671815Z"
    },
    "nbgrader": {
     "cell_type": "code",
     "checksum": "b77ba5bef5e3417e4523fc1cfe35cfa3",
     "grade": false,
     "grade_id": "cell-e4fbcf7ef498f421",
     "locked": false,
     "schema_version": 3,
     "solution": true,
     "task": false
    }
   },
   "outputs": [],
   "source": [
    "color_list = ['yellow', 'green']\n",
    "fruit_list = ['banana', 'orange', 'mango', 'lemon']\n",
    "color_fruit = []\n",
    "for i in range(len(color_list)):\n",
    "    for j in range(len(fruit_list)):\n",
    "        color_fruit.append(color_list[i] + \" \" + (fruit_list[j]))"
   ]
  },
  {
   "cell_type": "code",
   "execution_count": 6,
   "id": "b0d50c1b",
   "metadata": {
    "deletable": false,
    "editable": false,
    "execution": {
     "iopub.execute_input": "2025-10-28T00:08:54.674479Z",
     "iopub.status.busy": "2025-10-28T00:08:54.674307Z",
     "iopub.status.idle": "2025-10-28T00:08:54.677297Z",
     "shell.execute_reply": "2025-10-28T00:08:54.676890Z"
    },
    "nbgrader": {
     "cell_type": "code",
     "checksum": "fc0866ad0bfd662f0f4a02d5a37fd2d1",
     "grade": true,
     "grade_id": "cell-e63176dfd244677b",
     "locked": true,
     "points": 5,
     "schema_version": 3,
     "solution": false,
     "task": false
    }
   },
   "outputs": [],
   "source": [
    "assert len(color_fruit) == 8\n",
    "assert color_fruit[0] == 'yellow banana'\n",
    "assert color_fruit[6] == 'green mango'"
   ]
  },
  {
   "cell_type": "markdown",
   "id": "263820d7",
   "metadata": {},
   "source": [
    "3. Approximating $\\pi$.  There are a number of approximations to the number $\\pi$ that have been developed over the years.   \n",
    "\n",
    "Leibniz's formula for approximating $\\pi$ is\n",
    "\n",
    "$$ \\pi = 4 - 4/3 + 4/5 - 4/7 + 4/9 - 4/11 + 4/13 ....   $$\n",
    "\n",
    "$$ \\pi = \\sum_{n=0}^{\\infty}{(-1)^n\\frac{4}{2n+1}} $$\n",
    "\n",
    "Note two things to pay attention to about this sum. \n",
    "* The first term (n=0) is equivalent to 4/1.  The second term is 4/3. So, we are counting 1,3,5,7,9,11.... for the denominator.  That is where the 2*n+1 comes from \n",
    "* We are alternating between adding and subtracting numbers.  That is where the $(-1)^n$ comes from.    \n",
    "\n",
    "a. Write a for loop that will compute all the approximations to $\\pi$ starting using N terms.  For our test we will use N =20.   \n",
    "\n",
    "At each iterate of the loop, calculate the approximate value of pi and then the error in the approximation \n",
    "Save the error to a list called **error** which is the difference between the exact value of $\\pi$ and your approximation.  \n",
    "\n",
    "* Hint : To get the exact value of pi to compute error use `np.pi`\n",
    "  \n"
   ]
  },
  {
   "cell_type": "code",
   "execution_count": 7,
   "id": "67c6227e",
   "metadata": {
    "deletable": false,
    "execution": {
     "iopub.execute_input": "2025-10-28T00:08:54.679609Z",
     "iopub.status.busy": "2025-10-28T00:08:54.679451Z",
     "iopub.status.idle": "2025-10-28T00:08:54.682405Z",
     "shell.execute_reply": "2025-10-28T00:08:54.681978Z"
    },
    "nbgrader": {
     "cell_type": "code",
     "checksum": "17ffab2d2ab7c5974ac0452f13ddc996",
     "grade": false,
     "grade_id": "cell-9e1c821ed86106b8",
     "locked": false,
     "schema_version": 3,
     "solution": true,
     "task": false
    }
   },
   "outputs": [],
   "source": [
    "N = 20\n",
    "error = []\n",
    "first_term = 0\n",
    "\n",
    "for i in range(N):\n",
    "    term = ((-1)**i) * 4 / (2 * i + 1)\n",
    "    first_term += term\n",
    "    error.append(first_term - np.pi)"
   ]
  },
  {
   "cell_type": "code",
   "execution_count": 8,
   "id": "1f9eb289",
   "metadata": {
    "deletable": false,
    "editable": false,
    "execution": {
     "iopub.execute_input": "2025-10-28T00:08:54.684080Z",
     "iopub.status.busy": "2025-10-28T00:08:54.683984Z",
     "iopub.status.idle": "2025-10-28T00:08:54.685649Z",
     "shell.execute_reply": "2025-10-28T00:08:54.685429Z"
    },
    "nbgrader": {
     "cell_type": "code",
     "checksum": "d9d30d01be06e6c83c68014d44ed47ea",
     "grade": true,
     "grade_id": "cell-d6ac644ce5e4b39e",
     "locked": true,
     "points": 5,
     "schema_version": 3,
     "solution": false,
     "task": false
    }
   },
   "outputs": [],
   "source": [
    "assert np.abs(error[0]) == 4-np.pi\n",
    "assert np.abs(error[4]) < 0.2\n",
    "assert np.abs(error[-1]) < 0.05\n",
    "assert len(error) == 20  "
   ]
  },
  {
   "cell_type": "markdown",
   "id": "cbbdb800-f1cb-463b-9485-e4148007e75d",
   "metadata": {},
   "source": [
    "b. Make a bar plot of the error.  The x value should be the number of terms (starting at 1) and y-axis should be the value of error.  The x-axis label should be error and the x axis label should be N.  There should be an x-tick corresponding to each value of N.  There should be grid lines to make it easy to read y-values"
   ]
  },
  {
   "cell_type": "code",
   "execution_count": 9,
   "id": "2d4b565f-afdf-4678-9525-5858bf425fd7",
   "metadata": {
    "deletable": false,
    "execution": {
     "iopub.execute_input": "2025-10-28T00:08:54.686679Z",
     "iopub.status.busy": "2025-10-28T00:08:54.686614Z",
     "iopub.status.idle": "2025-10-28T00:08:54.738841Z",
     "shell.execute_reply": "2025-10-28T00:08:54.738620Z"
    },
    "nbgrader": {
     "cell_type": "code",
     "checksum": "2bb50fd3185f3d119e625d959e572c81",
     "grade": true,
     "grade_id": "cell-51b21ad402823dce",
     "locked": false,
     "points": 3,
     "schema_version": 3,
     "solution": true,
     "task": false
    }
   },
   "outputs": [
    {
     "data": {
      "image/png": "[encoded data removed]",
      "text/plain": [
       "<Figure size 600x300 with 1 Axes>"
      ]
     },
     "metadata": {},
     "output_type": "display_data"
    }
   ],
   "source": [
    "plt.figure(figsize = (6,3))\n",
    "plt.bar(range(1, N + 1), error)\n",
    "plt.xlabel(\"N\", fontsize = 11)\n",
    "plt.ylabel (\"error\", fontsize = 11)\n",
    "plt.grid('on', axis = 'y', color = 'k')\n",
    "plt.xticks(range(1, N + 1))\n",
    "plt.show()\n",
    "\n"
   ]
  },
  {
   "cell_type": "markdown",
   "id": "42e9abcf",
   "metadata": {},
   "source": [
    "4. The function f(x,s) is defined as \n",
    "\n",
    "$$ \\Large f(x,s) = e^\\frac{-{x^2}}{s^2} $$\n",
    "\n",
    "Don't forget to that x and s must be squared, and there is a minus sign in front of x.  \n",
    "\n",
    "Make a plot of f(x,s) for x ranging from -3 to 3 (inclusive) in steps of 0.1.  The plot should show the function f, for s= 1 and s = 0.5 using different color lines. \n",
    "\n",
    "To draw two lines with a label, make two `plt.plot` statements like this:\n",
    "\n",
    "        plt.plot(x,f,'r-',label = 's = 1')\n",
    "\n",
    "if you attach a label to the plot you can get a legend using, \n",
    "\n",
    "        plt.legend()\n",
    "\n",
    "Label the x axis with the letter 'x' and the y axis with the letter 'f'"
   ]
  },
  {
   "cell_type": "code",
   "execution_count": 10,
   "id": "30aac850",
   "metadata": {
    "deletable": false,
    "execution": {
     "iopub.execute_input": "2025-10-28T00:08:54.739911Z",
     "iopub.status.busy": "2025-10-28T00:08:54.739841Z",
     "iopub.status.idle": "2025-10-28T00:08:54.779754Z",
     "shell.execute_reply": "2025-10-28T00:08:54.779505Z"
    },
    "nbgrader": {
     "cell_type": "code",
     "checksum": "d6f8714d485c83d81f27e1bd4f9a5a1d",
     "grade": true,
     "grade_id": "cell-04e10dcac227b559",
     "locked": false,
     "points": 4,
     "schema_version": 3,
     "solution": true,
     "task": false
    }
   },
   "outputs": [
    {
     "data": {
      "text/plain": [
       "<matplotlib.legend.Legend at 0x118e49fd0>"
      ]
     },
     "execution_count": 10,
     "metadata": {},
     "output_type": "execute_result"
    },
    {
     "data": {
      "image/png": "[encoded data removed]",
      "text/plain": [
       "<Figure size 600x300 with 1 Axes>"
      ]
     },
     "metadata": {},
     "output_type": "display_data"
    }
   ],
   "source": [
    "x = np.arange(-3, 3.1, 0.1)\n",
    "\n",
    "def function(x, s):\n",
    "    f = []\n",
    "    for i in range(len(x)):\n",
    "        f.append(np.exp(-(x[i] ** 2) / (s ** 2) ))\n",
    "    return f\n",
    "\n",
    "lineOne = function(x, 1)\n",
    "\n",
    "lineTwo = function(x, 0.5)\n",
    "\n",
    "plt.figure(figsize = (6,3))\n",
    "plt.plot(x, lineOne, 'r-', label = 's = 1')\n",
    "plt.plot(x, lineTwo, 'b-', label = 's = 0.5')\n",
    "plt.xlabel('x', fontsize = 11)\n",
    "plt.ylabel('f', fontsize = 11)\n",
    "plt.grid('on', axis='y', color='k')\n",
    "plt.legend()\n"
   ]
  },
  {
   "cell_type": "code",
   "execution_count": null,
   "id": "96f3e171-af09-403b-bc8d-483a3e41b96a",
   "metadata": {},
   "outputs": [],
   "source": []
  }
 ],
 "metadata": {
  "kernelspec": {
   "display_name": "Python 3 (ipykernel)",
   "language": "python",
   "name": "python3"
  },
  "language_info": {
   "codemirror_mode": {
    "name": "ipython",
    "version": 3
   },
   "file_extension": ".py",
   "mimetype": "text/x-python",
   "name": "python",
   "nbconvert_exporter": "python",
   "pygments_lexer": "ipython3",
   "version": "3.13.7"
  }
 },
 "nbformat": 4,
 "nbformat_minor": 5
}
