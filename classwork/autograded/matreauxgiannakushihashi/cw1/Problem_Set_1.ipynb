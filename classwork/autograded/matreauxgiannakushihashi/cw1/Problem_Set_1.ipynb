{
 "cells": [
  {
   "cell_type": "markdown",
   "id": "fa5a9d84-669f-4621-9c96-fb18b8a622a5",
   "metadata": {
    "slideshow": {
     "slide_type": "slide"
    }
   },
   "source": [
    "# **Lecture 1**:  Python Variables, Expressions, Data Types, Lists\n",
    "\n"
   ]
  },
  {
   "cell_type": "markdown",
   "id": "128ef8d9-2359-4eeb-a2ff-2ff33a919540",
   "metadata": {
    "slideshow": {
     "slide_type": "slide"
    }
   },
   "source": [
    "## Programs are Interfaces to the Computer - **You** give them meaning. \n",
    "* The Desktop is an interface to allow you to manipulate the computer to achieve your objectives, without knowing too much about the inner workings of the computer.   \n",
    "*  **Programming is an interface to allow you to instruct the computer to manipulate information stored in the memory of the computer.**  \n",
    "*  Programming is a way to ask the computer to store values (**variable**) and do things with them (**operations**) \n",
    "*  The elements and rules of programming (**syntax**) are just like \"rules\" of working with the desktop of the computer \n",
    "*  They are a representation in a human readable language of an operation in the computer language - a good program tells a story.  "
   ]
  },
  {
   "cell_type": "markdown",
   "id": "15eeab83",
   "metadata": {
    "slideshow": {
     "slide_type": "slide"
    }
   },
   "source": [
    "## This is a Jupyter (Python) Notebook\n",
    "\n",
    "* A Jupyter Notebook is the most common way scientists organize their programs.  \n",
    "* It's attractive because it organizes text, code, figures, into a single document. \n",
    "* It's not a **program** in the conventional sense of the term, in that it is usually executed in an interactive way. \n",
    "* All of the lectures, problem sets, tests, homeworks, in this class will be provided in the form of a Jupyter notebook."
   ]
  },
  {
   "cell_type": "markdown",
   "id": "638dbdde",
   "metadata": {
    "slideshow": {
     "slide_type": "slide"
    }
   },
   "source": [
    "## Cells\n",
    "\n",
    "* This is a cell, which is indicated by the bar on the left. \n",
    "* Cells are of different types.  This is a **markdown** cell that contains text. \n",
    "* A markdown cell contains html code, and is where i was place Instructional text in the Lectures and Tutorials, and the Problem Statement in Homework and Tests.\n",
    "* If you double click on it it can be edited.  After you are done, click on the checkbox to render it (or SHIFT-ENTER)   \n",
    "* The next cell is labeled \"Python\" and contains a bit of python code you can run. \n",
    "* Click on the next cell, then either click on the top of the page. Alternatively, you can click type shift-enter to execute the code. "
   ]
  },
  {
   "cell_type": "markdown",
   "id": "4823ddc6",
   "metadata": {
    "slideshow": {
     "slide_type": "slide"
    }
   },
   "source": [
    "## The `print` statement\n",
    "* The print statement is your friend.  \n",
    "* The next cell does a small calculation of adding 2 numbers.  The print command displays the output"
   ]
  },
  {
   "cell_type": "code",
   "execution_count": 1,
   "id": "16deada8",
   "metadata": {
    "execution": {
     "iopub.execute_input": "2025-10-06T20:40:13.563196Z",
     "iopub.status.busy": "2025-10-06T20:40:13.562781Z",
     "iopub.status.idle": "2025-10-06T20:40:13.569573Z",
     "shell.execute_reply": "2025-10-06T20:40:13.568698Z"
    },
    "slideshow": {
     "slide_type": "fragment"
    }
   },
   "outputs": [
    {
     "name": "stdout",
     "output_type": "stream",
     "text": [
      "3\n"
     ]
    }
   ],
   "source": [
    "a = 1\n",
    "b = 2\n",
    "\n",
    "c = a + b\n",
    "\n",
    "print(c)"
   ]
  },
  {
   "cell_type": "markdown",
   "id": "9cc1f82c-665b-4503-92f9-b098a1984cf7",
   "metadata": {
    "slideshow": {
     "slide_type": "slide"
    }
   },
   "source": [
    "## Variables - Definitions\n",
    "1.  A variable is a symbolic representation of the **location** of information in the memory of a computer.  \n",
    "1.  A variable is a way to address and manipulate the memory of the computer using a label that ascribes meaning to the information stored there.  \n",
    "1.  Naming variables in meaningful ways is perhaps the most important thing to learn to write **readable** programs.  \n"
   ]
  },
  {
   "cell_type": "code",
   "execution_count": 2,
   "id": "178996dc-ea2a-4f94-9bae-d80462c53b0d",
   "metadata": {
    "execution": {
     "iopub.execute_input": "2025-10-06T20:40:13.573125Z",
     "iopub.status.busy": "2025-10-06T20:40:13.572834Z",
     "iopub.status.idle": "2025-10-06T20:40:13.577463Z",
     "shell.execute_reply": "2025-10-06T20:40:13.576744Z"
    },
    "slideshow": {
     "slide_type": "slide"
    }
   },
   "outputs": [],
   "source": [
    "#Remember, comment lines start with a #\n",
    "#Comments are useful to track what you are doing.\n",
    "#But, too many comments means you didnt write a self-explanatory program.  \n",
    "\n",
    "my_variable = 1 # my_variable is a variable I created with a statement\n",
    "my_computed_variable = 4/5 #This is a variable I computed with an operation\n",
    "my_text_label = 'Example' #This is a bit of text "
   ]
  },
  {
   "cell_type": "markdown",
   "id": "57d3e86c-2379-400c-8bbc-9d32b3351cda",
   "metadata": {
    "slideshow": {
     "slide_type": "fragment"
    }
   },
   "source": [
    "* There are three types of variables created above. \n",
    "\n",
    "1. numeric integer **my_variable** which is of type **int**  \n",
    "2. numeric floating point **my_other_variable** which is of type **float**  \n",
    "3. text string **my_label** which is of type **str**\n",
    "\n",
    "* These are 3 of the 4 basic types of variables.  The one missing here is a *logical* variable, which will be discussed later. "
   ]
  },
  {
   "cell_type": "markdown",
   "id": "1409b5f8-194a-41cc-8d6c-fde8c5e3fd19",
   "metadata": {
    "slideshow": {
     "slide_type": "slide"
    }
   },
   "source": [
    "## Expressions - Definitions\n",
    "\n",
    "1. An expression is an operation on variables.  It may be used to define a new variable. \n",
    "1. In scientiifc applications, an operation is often a mathematical statement.  "
   ]
  },
  {
   "cell_type": "code",
   "execution_count": 3,
   "id": "7deb72a4-edde-412f-a72a-0aa01f6010f7",
   "metadata": {
    "execution": {
     "iopub.execute_input": "2025-10-06T20:40:13.580744Z",
     "iopub.status.busy": "2025-10-06T20:40:13.580348Z",
     "iopub.status.idle": "2025-10-06T20:40:13.585364Z",
     "shell.execute_reply": "2025-10-06T20:40:13.584493Z"
    },
    "slideshow": {
     "slide_type": "slide"
    }
   },
   "outputs": [
    {
     "name": "stdout",
     "output_type": "stream",
     "text": [
      "2\n",
      "4\n"
     ]
    }
   ],
   "source": [
    "x = 2 #This is a statement that declares a variable with a particular value. \n",
    "y = x**2 #This is a mathematical statement written as code.  \n",
    "print(x)\n",
    "print(y)"
   ]
  },
  {
   "cell_type": "markdown",
   "id": "4bd4dfcb-252b-4aa1-8af9-f24c2029a806",
   "metadata": {
    "slideshow": {
     "slide_type": "fragment"
    }
   },
   "source": [
    "* In the example above a mathematical expression, $y = x^2$ is written as code.\n"
   ]
  },
  {
   "cell_type": "markdown",
   "id": "5817dff4",
   "metadata": {},
   "source": [
    "* Consider the following 2 lines of code.  Here code is not strictly math."
   ]
  },
  {
   "cell_type": "code",
   "execution_count": 4,
   "id": "39ac2cb0-60ae-4546-a220-64b8cabd3060",
   "metadata": {
    "execution": {
     "iopub.execute_input": "2025-10-06T20:40:13.588781Z",
     "iopub.status.busy": "2025-10-06T20:40:13.588365Z",
     "iopub.status.idle": "2025-10-06T20:40:13.592967Z",
     "shell.execute_reply": "2025-10-06T20:40:13.592148Z"
    },
    "slideshow": {
     "slide_type": "fragment"
    }
   },
   "outputs": [],
   "source": [
    "z = 3 # a variable you created\n",
    "z = z**2 #This is code, not math. "
   ]
  },
  {
   "cell_type": "markdown",
   "id": "a7541606-3101-4170-a50a-73f45b6337da",
   "metadata": {
    "slideshow": {
     "slide_type": "fragment"
    }
   },
   "source": [
    "* we are again computing the square of a number, but we are telling python to **replace** the value of $z$ with $z^2$ in the **location of memory** we address with $z$. "
   ]
  },
  {
   "cell_type": "markdown",
   "id": "b0b7e0d0-4361-44cd-af88-1e746bafcef1",
   "metadata": {
    "slideshow": {
     "slide_type": "slide"
    }
   },
   "source": [
    "### Key Concepts\n",
    "\n",
    "* In programming `=` means *assignment*, not equality\n",
    "* Anything to the right of the equality is evaluated before assignment\n",
    "* There can be more than one variable assigned in a single line. \n",
    "\n"
   ]
  },
  {
   "cell_type": "markdown",
   "id": "a24533b0-d5a4-4883-91de-092087d0de91",
   "metadata": {
    "slideshow": {
     "slide_type": "slide"
    }
   },
   "source": [
    "## Mathematical Operators \n",
    "\n",
    "1. `+`, addition                                  \n",
    "1. `-`, subtraction\n",
    "1. `*`, multiplication\n",
    "1. `/`, division \n",
    "1. `**`, exponentiation \n",
    "1. `//`, floor division or integer division \n",
    "1. `%`, remainder "
   ]
  },
  {
   "cell_type": "code",
   "execution_count": 5,
   "id": "2b34c1b5-6d94-4532-97c3-b4003be5e680",
   "metadata": {
    "execution": {
     "iopub.execute_input": "2025-10-06T20:40:13.596834Z",
     "iopub.status.busy": "2025-10-06T20:40:13.596120Z",
     "iopub.status.idle": "2025-10-06T20:40:13.601924Z",
     "shell.execute_reply": "2025-10-06T20:40:13.601246Z"
    },
    "slideshow": {
     "slide_type": "slide"
    }
   },
   "outputs": [
    {
     "name": "stdout",
     "output_type": "stream",
     "text": [
      "addition:  9\n",
      "subtraction:  5\n",
      "multiplication:  14\n",
      "division:  3.5\n",
      "exponentiation:  49\n",
      "floor division:  3\n",
      "remainder:  1\n"
     ]
    }
   ],
   "source": [
    "a = 7\n",
    "b = 2\n",
    "print('addition: ',a+b)\n",
    "print('subtraction: ',a-b)\n",
    "print('multiplication: ',a*b)\n",
    "print('division: ',a/b)\n",
    "print('exponentiation: ',a**b)\n",
    "print('floor division: ',a//b)\n",
    "print('remainder: ',a%b)"
   ]
  },
  {
   "cell_type": "markdown",
   "id": "667fb1de",
   "metadata": {
    "slideshow": {
     "slide_type": "slide"
    }
   },
   "source": [
    "### Syntax notes \n",
    "Python supports a short form syntax when you want to do a calculation on a variable and replace the value of the variable. "
   ]
  },
  {
   "cell_type": "code",
   "execution_count": 6,
   "id": "a68a01a7",
   "metadata": {
    "execution": {
     "iopub.execute_input": "2025-10-06T20:40:13.605052Z",
     "iopub.status.busy": "2025-10-06T20:40:13.604784Z",
     "iopub.status.idle": "2025-10-06T20:40:13.608999Z",
     "shell.execute_reply": "2025-10-06T20:40:13.608286Z"
    },
    "slideshow": {
     "slide_type": "fragment"
    }
   },
   "outputs": [
    {
     "name": "stdout",
     "output_type": "stream",
     "text": [
      "13\n"
     ]
    }
   ],
   "source": [
    "a = 8\n",
    "a = a+5 \n",
    "print(a) "
   ]
  },
  {
   "cell_type": "code",
   "execution_count": 7,
   "id": "2153d229",
   "metadata": {
    "execution": {
     "iopub.execute_input": "2025-10-06T20:40:13.611841Z",
     "iopub.status.busy": "2025-10-06T20:40:13.611471Z",
     "iopub.status.idle": "2025-10-06T20:40:13.615444Z",
     "shell.execute_reply": "2025-10-06T20:40:13.614829Z"
    },
    "slideshow": {
     "slide_type": "fragment"
    }
   },
   "outputs": [
    {
     "name": "stdout",
     "output_type": "stream",
     "text": [
      "13\n"
     ]
    }
   ],
   "source": [
    "a = 8 \n",
    "a += 5\n",
    "print(a)"
   ]
  },
  {
   "cell_type": "markdown",
   "id": "28cc37c3",
   "metadata": {
    "slideshow": {
     "slide_type": "slide"
    }
   },
   "source": [
    "So you can write more efficient versions using \\\n",
    "`+=`  add and replace \\\n",
    "`-=`  subtract and replace \\\n",
    "`*=`  multiply and replace \\\n",
    "`/=`  divide and replace \\\n",
    "`**=` raise to a power and replace "
   ]
  },
  {
   "cell_type": "markdown",
   "id": "20bfa291-8469-4c10-a357-c6d53c2a7ef5",
   "metadata": {
    "slideshow": {
     "slide_type": "slide"
    }
   },
   "source": [
    "## Variable Names\n",
    "\n",
    "### The rules \n",
    "\n",
    "* Variable names are always on the left of the =, values or expressions are always on the right.  \n",
    "* Variable names are case sensitive, e.g. c and C are different variables.  \n",
    "* Variable names must start with letters, but then can include numbers, e.g., A1, b2, C3.  \n",
    "* Variable names cannot include special characters (like &, *, #, etc).  \n",
    "* Variable names can include underscores to improve readability, e.g., A\\_1, b\\_2, C\\_3.  "
   ]
  },
  {
   "cell_type": "markdown",
   "id": "1e8e84e1-2ba4-4b52-b204-d1ca7c4a018a",
   "metadata": {
    "slideshow": {
     "slide_type": "slide"
    }
   },
   "source": [
    "### What are good variable names?\n",
    "\n",
    "* In general, the more explicit and self-explanatory the variable names the better. \n",
    "* A program usually expresses an idea, and the variable names should make that idea easy to understand by being explicit. \n",
    "* A program should read like a story!\n",
    "* Sometimes, shorter variables make sense, where the short hand is widely known and recognized.    "
   ]
  },
  {
   "cell_type": "code",
   "execution_count": 8,
   "id": "5c37c2ae-1670-4ae3-8d26-72785211c237",
   "metadata": {
    "execution": {
     "iopub.execute_input": "2025-10-06T20:40:13.618536Z",
     "iopub.status.busy": "2025-10-06T20:40:13.618261Z",
     "iopub.status.idle": "2025-10-06T20:40:13.622882Z",
     "shell.execute_reply": "2025-10-06T20:40:13.621905Z"
    },
    "slideshow": {
     "slide_type": "slide"
    }
   },
   "outputs": [
    {
     "name": "stdout",
     "output_type": "stream",
     "text": [
      "Energy is 9e+17 Joules\n"
     ]
    }
   ],
   "source": [
    "#%%Einstein in words\n",
    "mass = 10 # kg\n",
    "speed_of_light = 3e+08 #m/s\n",
    "                      #note the use of scientific notation\n",
    "Energy = mass*speed_of_light**2  #Joules\n",
    "print('Energy is', Energy, 'Joules')"
   ]
  },
  {
   "cell_type": "code",
   "execution_count": 9,
   "id": "6dfb2e66-9f73-4f0e-a4c5-6f7c79de6904",
   "metadata": {
    "execution": {
     "iopub.execute_input": "2025-10-06T20:40:13.625837Z",
     "iopub.status.busy": "2025-10-06T20:40:13.625580Z",
     "iopub.status.idle": "2025-10-06T20:40:13.629960Z",
     "shell.execute_reply": "2025-10-06T20:40:13.628895Z"
    },
    "slideshow": {
     "slide_type": "fragment"
    }
   },
   "outputs": [
    {
     "name": "stdout",
     "output_type": "stream",
     "text": [
      "Energy is 9e+17 Joules\n"
     ]
    }
   ],
   "source": [
    "#Einstein in widely known variable names\n",
    "m = 10 # kg \n",
    "c = 3e+08 #m/s\n",
    "        #note the use of scientific notation\n",
    "E= m*c**2  #Joules\n",
    "print('Energy is', E, 'Joules')"
   ]
  },
  {
   "cell_type": "code",
   "execution_count": 10,
   "id": "adc91ff0-34f7-4df7-90ee-2827c39d6616",
   "metadata": {
    "execution": {
     "iopub.execute_input": "2025-10-06T20:40:13.633163Z",
     "iopub.status.busy": "2025-10-06T20:40:13.632838Z",
     "iopub.status.idle": "2025-10-06T20:40:13.637307Z",
     "shell.execute_reply": "2025-10-06T20:40:13.636575Z"
    },
    "slideshow": {
     "slide_type": "fragment"
    }
   },
   "outputs": [
    {
     "name": "stdout",
     "output_type": "stream",
     "text": [
      "Energy is 9e+17 Joules\n"
     ]
    }
   ],
   "source": [
    "#Einstein in generic variables\n",
    "x = 10 # This is the mass of the object in kg\n",
    "y = 3e+08 #This is the speed of light in m/s\n",
    "        #note the use of scientific notation \n",
    "z = x*y**2 #This is the energy in Joules\n",
    "print('Energy is', z, 'Joules')"
   ]
  },
  {
   "cell_type": "markdown",
   "id": "e872cc9d-247d-41d4-80c4-1333706ecd7b",
   "metadata": {
    "slideshow": {
     "slide_type": "slide"
    }
   },
   "source": [
    "## Reserved Words\n",
    "\n",
    "* There are 33 words that are **never** allowed to be used as variable names \n",
    "\n",
    "<img src=\"BadWords.png\" alt=\"Drawing\" style=\"width: 900px;\"/>\n",
    "\n",
    "* If you try to use them, python will return an error.  \n",
    "\n",
    "* In addition, these 33 words have critical roles in python syntax, and thus are colored differently.  "
   ]
  },
  {
   "cell_type": "markdown",
   "id": "0968ad8c-0e01-4646-8cd3-03e1cd23758c",
   "metadata": {
    "slideshow": {
     "slide_type": "slide"
    }
   },
   "source": [
    "## Utilities\n",
    "\n",
    "* The are some built in utilities in python that can be helpful in working with python variables.  \n",
    "\n",
    "* `type`, reports the type of variable \n",
    "* `int`, converts a variable into an integer \n",
    "* `float`, converts a variable into a floating point variable "
   ]
  },
  {
   "cell_type": "code",
   "execution_count": 11,
   "id": "f42ab05d-da24-4dca-8018-0208077838e0",
   "metadata": {
    "execution": {
     "iopub.execute_input": "2025-10-06T20:40:13.640245Z",
     "iopub.status.busy": "2025-10-06T20:40:13.639751Z",
     "iopub.status.idle": "2025-10-06T20:40:13.643473Z",
     "shell.execute_reply": "2025-10-06T20:40:13.642997Z"
    },
    "slideshow": {
     "slide_type": "slide"
    }
   },
   "outputs": [
    {
     "name": "stdout",
     "output_type": "stream",
     "text": [
      "<class 'str'>\n",
      "Example is a <class 'str'>\n",
      "0.8 is a <class 'float'>\n",
      "1 is a <class 'int'>\n"
     ]
    }
   ],
   "source": [
    "#type will tell me about the type of variable\n",
    "print(type(my_text_label))\n",
    "print(my_text_label,'is a',type(my_text_label))\n",
    "print(my_computed_variable,'is a',type(my_computed_variable))\n",
    "print(my_variable,'is a',type(my_variable))"
   ]
  },
  {
   "cell_type": "code",
   "execution_count": 12,
   "id": "d9dd066e-ed1b-4fe3-aa3e-f7c3e93cf9ba",
   "metadata": {
    "execution": {
     "iopub.execute_input": "2025-10-06T20:40:13.645962Z",
     "iopub.status.busy": "2025-10-06T20:40:13.645754Z",
     "iopub.status.idle": "2025-10-06T20:40:13.649647Z",
     "shell.execute_reply": "2025-10-06T20:40:13.648790Z"
    },
    "slideshow": {
     "slide_type": "fragment"
    }
   },
   "outputs": [
    {
     "name": "stdout",
     "output_type": "stream",
     "text": [
      "1.0\n",
      "1\n"
     ]
    }
   ],
   "source": [
    "#I can convert floating point numbers into integers or integers into floating point numbers \n",
    "float_variable = float(my_variable)\n",
    "print(float_variable)\n",
    "int_variable = int(float_variable)\n",
    "print(int_variable)"
   ]
  },
  {
   "cell_type": "code",
   "execution_count": 13,
   "id": "10e29725-ca42-4b0a-8194-a6f7c3f80340",
   "metadata": {
    "execution": {
     "iopub.execute_input": "2025-10-06T20:40:13.652516Z",
     "iopub.status.busy": "2025-10-06T20:40:13.652074Z",
     "iopub.status.idle": "2025-10-06T20:40:13.659834Z",
     "shell.execute_reply": "2025-10-06T20:40:13.659148Z"
    },
    "slideshow": {
     "slide_type": "fragment"
    }
   },
   "outputs": [
    {
     "name": "stdout",
     "output_type": "stream",
     "text": [
      "0.8\n"
     ]
    },
    {
     "data": {
      "text/plain": [
       "0"
      ]
     },
     "execution_count": 13,
     "metadata": {},
     "output_type": "execute_result"
    }
   ],
   "source": [
    "#int is not the same thing as rounding a variable.  \n",
    "print(my_computed_variable)\n",
    "int(my_computed_variable)"
   ]
  },
  {
   "cell_type": "markdown",
   "id": "43f2b267-53dc-4fdc-aa4c-48cff48f4273",
   "metadata": {
    "slideshow": {
     "slide_type": "slide"
    }
   },
   "source": [
    "## Working with Strings \n",
    "\n",
    "1. Strings have additional characteristics, which for scientists are mostly useful for handling file names and text labels for data and for making graphs. \n",
    "1. Most importantly, string can have variable lengths, which you can get from the utility `len`"
   ]
  },
  {
   "cell_type": "code",
   "execution_count": 14,
   "id": "5e984947-2795-477b-a555-7a4f394e9af7",
   "metadata": {
    "execution": {
     "iopub.execute_input": "2025-10-06T20:40:13.662581Z",
     "iopub.status.busy": "2025-10-06T20:40:13.662370Z",
     "iopub.status.idle": "2025-10-06T20:40:13.667314Z",
     "shell.execute_reply": "2025-10-06T20:40:13.666746Z"
    },
    "slideshow": {
     "slide_type": "fragment"
    }
   },
   "outputs": [
    {
     "name": "stdout",
     "output_type": "stream",
     "text": [
      "Example\n"
     ]
    },
    {
     "data": {
      "text/plain": [
       "7"
      ]
     },
     "execution_count": 14,
     "metadata": {},
     "output_type": "execute_result"
    }
   ],
   "source": [
    "print(my_text_label)\n",
    "len(my_text_label)"
   ]
  },
  {
   "cell_type": "markdown",
   "id": "34b1748f-b94d-4940-a5e3-528eec0bb314",
   "metadata": {
    "slideshow": {
     "slide_type": "slide"
    }
   },
   "source": [
    "* Unlike numerical variables, text cannot be added, however it can be concatenated  "
   ]
  },
  {
   "cell_type": "code",
   "execution_count": 15,
   "id": "223f1266-c90c-4f9a-895e-6ffa0a80228e",
   "metadata": {
    "execution": {
     "iopub.execute_input": "2025-10-06T20:40:13.669735Z",
     "iopub.status.busy": "2025-10-06T20:40:13.669517Z",
     "iopub.status.idle": "2025-10-06T20:40:13.673596Z",
     "shell.execute_reply": "2025-10-06T20:40:13.673055Z"
    },
    "slideshow": {
     "slide_type": "fragment"
    }
   },
   "outputs": [
    {
     "name": "stdout",
     "output_type": "stream",
     "text": [
      "Example#1\n",
      "I like this better\n",
      "Example #1\n"
     ]
    }
   ],
   "source": [
    "no = '#1'\n",
    "thisexample = my_text_label+no\n",
    "print(thisexample) \n",
    "space = ' ' \n",
    "prettierexample = my_text_label+space+no\n",
    "print('I like this better')\n",
    "print(prettierexample)"
   ]
  },
  {
   "cell_type": "markdown",
   "id": "2b316878",
   "metadata": {
    "slideshow": {
     "slide_type": "slide"
    }
   },
   "source": [
    "*  Numeric variables can be converted to string using `str`"
   ]
  },
  {
   "cell_type": "code",
   "execution_count": 16,
   "id": "2cef6acd",
   "metadata": {
    "execution": {
     "iopub.execute_input": "2025-10-06T20:40:13.676368Z",
     "iopub.status.busy": "2025-10-06T20:40:13.676106Z",
     "iopub.status.idle": "2025-10-06T20:40:13.681207Z",
     "shell.execute_reply": "2025-10-06T20:40:13.680536Z"
    },
    "slideshow": {
     "slide_type": "fragment"
    }
   },
   "outputs": [
    {
     "name": "stdout",
     "output_type": "stream",
     "text": [
      "57\n"
     ]
    },
    {
     "data": {
      "text/plain": [
       "str"
      ]
     },
     "execution_count": 16,
     "metadata": {},
     "output_type": "execute_result"
    }
   ],
   "source": [
    "string57 = str(57)\n",
    "print(string57)\n",
    "type(string57)"
   ]
  },
  {
   "cell_type": "markdown",
   "id": "f9888abe-443e-430e-bfd4-c2a52230fe5a",
   "metadata": {
    "slideshow": {
     "slide_type": "slide"
    }
   },
   "source": [
    "## Lists\n",
    "* A list is a collection of values in a single variable. "
   ]
  },
  {
   "cell_type": "code",
   "execution_count": 17,
   "id": "3414749f-c36a-4a10-b051-6727557814d1",
   "metadata": {
    "execution": {
     "iopub.execute_input": "2025-10-06T20:40:13.683890Z",
     "iopub.status.busy": "2025-10-06T20:40:13.683480Z",
     "iopub.status.idle": "2025-10-06T20:40:13.686992Z",
     "shell.execute_reply": "2025-10-06T20:40:13.686345Z"
    },
    "slideshow": {
     "slide_type": "fragment"
    }
   },
   "outputs": [
    {
     "name": "stdout",
     "output_type": "stream",
     "text": [
      "[1, 9, 6, 7]\n"
     ]
    }
   ],
   "source": [
    "my_list = [1,9,6,7] # I made a list here with 4 numeric entries.  Note the use of square brackets [] and commas , \n",
    "                    # to separate the elements of the list. \n",
    "print(my_list)"
   ]
  },
  {
   "cell_type": "markdown",
   "id": "f9a58bd4-66cd-44d5-b2ea-80128040a29d",
   "metadata": {
    "slideshow": {
     "slide_type": "fragment"
    }
   },
   "source": [
    "* Examine my_list in the Variables pane. \n",
    "* The list is of shape 4, reflecting the number of elements, and of type list. \n",
    "* The list is a flexible data type designed as a **container** for holding items together\n",
    "* But its not a particularly useful data type for mathematical operations.  "
   ]
  },
  {
   "cell_type": "markdown",
   "id": "927c22eb",
   "metadata": {
    "slideshow": {
     "slide_type": "slide"
    }
   },
   "source": [
    "## Can we do math with lists? "
   ]
  },
  {
   "cell_type": "code",
   "execution_count": 18,
   "id": "8224a11b-ad56-488a-9456-98af7c186ee7",
   "metadata": {
    "execution": {
     "iopub.execute_input": "2025-10-06T20:40:13.689299Z",
     "iopub.status.busy": "2025-10-06T20:40:13.689093Z",
     "iopub.status.idle": "2025-10-06T20:40:13.693171Z",
     "shell.execute_reply": "2025-10-06T20:40:13.692470Z"
    },
    "slideshow": {
     "slide_type": "fragment"
    }
   },
   "outputs": [
    {
     "name": "stdout",
     "output_type": "stream",
     "text": [
      "[4, 7, 8, 9]\n",
      "[1, 9, 6, 7, 4, 7, 8, 9]\n"
     ]
    }
   ],
   "source": [
    "my_list_2 = [4,7,8,9]\n",
    "print(my_list_2)\n",
    "add_em_up = my_list + my_list_2\n",
    "print(add_em_up)"
   ]
  },
  {
   "cell_type": "code",
   "execution_count": 19,
   "id": "353dc764",
   "metadata": {
    "execution": {
     "iopub.execute_input": "2025-10-06T20:40:13.696071Z",
     "iopub.status.busy": "2025-10-06T20:40:13.695815Z",
     "iopub.status.idle": "2025-10-06T20:40:14.004262Z",
     "shell.execute_reply": "2025-10-06T20:40:14.003636Z"
    },
    "slideshow": {
     "slide_type": "fragment"
    }
   },
   "outputs": [
    {
     "ename": "TypeError",
     "evalue": "can only concatenate list (not \"int\") to list",
     "output_type": "error",
     "traceback": [
      "\u001b[0;31m---------------------------------------------------------------------------\u001b[0m",
      "\u001b[0;31mTypeError\u001b[0m                                 Traceback (most recent call last)",
      "Cell \u001b[0;32mIn[19], line 1\u001b[0m\n\u001b[0;32m----> 1\u001b[0m my_list_3 \u001b[38;5;241m=\u001b[39m my_list\u001b[38;5;241m+\u001b[39m\u001b[38;5;241m3\u001b[39m\n",
      "\u001b[0;31mTypeError\u001b[0m: can only concatenate list (not \"int\") to list"
     ]
    }
   ],
   "source": [
    "my_list_3 = my_list+3"
   ]
  },
  {
   "cell_type": "markdown",
   "id": "10009c3a-35df-4c61-9ed0-1b50ce6b103f",
   "metadata": {
    "slideshow": {
     "slide_type": "fragment"
    }
   },
   "source": [
    "* So that went badly, because a list doesnt support mathematical operations.  \n"
   ]
  },
  {
   "cell_type": "markdown",
   "id": "810ad833",
   "metadata": {
    "slideshow": {
     "slide_type": "slide"
    }
   },
   "source": [
    "### The strength of lists is the flexibility to hold together different data types that are associated with each other.  "
   ]
  },
  {
   "cell_type": "code",
   "execution_count": 20,
   "id": "c591f5f8-5c82-447f-9664-2525a4f04f37",
   "metadata": {
    "execution": {
     "iopub.execute_input": "2025-10-06T20:40:14.006447Z",
     "iopub.status.busy": "2025-10-06T20:40:14.006268Z",
     "iopub.status.idle": "2025-10-06T20:40:14.009090Z",
     "shell.execute_reply": "2025-10-06T20:40:14.008526Z"
    },
    "slideshow": {
     "slide_type": "fragment"
    }
   },
   "outputs": [],
   "source": [
    "#I can mix together all the data types I know about in a list \n",
    "my_crazy_list = ['Kawhi','Leonard','June',29,1991,79.0]"
   ]
  },
  {
   "cell_type": "markdown",
   "id": "55b30671-ab70-4c03-a396-dd776eafa2de",
   "metadata": {
    "slideshow": {
     "slide_type": "fragment"
    }
   },
   "source": [
    "### I created a list all associated with the best *two-way* NBA player, including\n",
    "* *strings* first name, last name, and date of birth, \n",
    "* *integers* month and year of birth \n",
    "* *floating point* height"
   ]
  },
  {
   "cell_type": "markdown",
   "id": "5971dc51-4ade-476a-b075-24ad25e5d580",
   "metadata": {
    "slideshow": {
     "slide_type": "slide"
    },
    "tags": []
   },
   "source": [
    "## List methods: `append`\n",
    "* The flexibility of lists is their strength.  It is also their weakness as the flexibility also gives greater scope for making mistakes in data handling.\n",
    "* `list` is a **class** with **methods**.  \n",
    "* Here I show how we **append** elements to a list\n",
    "* The syntax here is different from our usual syntax \n",
    "* `list_name.append(variable)`\n",
    "* notice that instead of setting the list or variable equal to something, I used a `.` to separate the list name from the instruction to append.  "
   ]
  },
  {
   "cell_type": "code",
   "execution_count": 21,
   "id": "c8964a1b-eaee-49b4-89c5-00b4a0db0361",
   "metadata": {
    "execution": {
     "iopub.execute_input": "2025-10-06T20:40:14.011414Z",
     "iopub.status.busy": "2025-10-06T20:40:14.011075Z",
     "iopub.status.idle": "2025-10-06T20:40:14.014516Z",
     "shell.execute_reply": "2025-10-06T20:40:14.014117Z"
    },
    "slideshow": {
     "slide_type": "slide"
    }
   },
   "outputs": [
    {
     "name": "stdout",
     "output_type": "stream",
     "text": [
      "['Kawhi', 'Leonard', 'June', 29, 1991, 79.0, 23.7, 6.1, 3.6, 1.6, 0.9]\n"
     ]
    }
   ],
   "source": [
    "my_Kawhi_list = ['Kawhi','Leonard','June',29,1991,79.0]\n",
    "points = 23.7\n",
    "rebounds = 6.1\n",
    "assists = 3.6\n",
    "steals = 1.6\n",
    "blocks = 0.9\n",
    "#lets add these numbers to the list \n",
    "my_Kawhi_list.append(points)\n",
    "my_Kawhi_list.append(rebounds)\n",
    "my_Kawhi_list.append(assists)\n",
    "my_Kawhi_list.append(steals)\n",
    "my_Kawhi_list.append(blocks)\n",
    "#\n",
    "print(my_Kawhi_list)"
   ]
  },
  {
   "cell_type": "code",
   "execution_count": 22,
   "id": "420f58c1",
   "metadata": {
    "execution": {
     "iopub.execute_input": "2025-10-06T20:40:14.016529Z",
     "iopub.status.busy": "2025-10-06T20:40:14.016352Z",
     "iopub.status.idle": "2025-10-06T20:40:14.020212Z",
     "shell.execute_reply": "2025-10-06T20:40:14.019660Z"
    },
    "slideshow": {
     "slide_type": "slide"
    }
   },
   "outputs": [
    {
     "name": "stdout",
     "output_type": "stream",
     "text": [
      "[52.5, 41.7, 88.5]\n",
      "[68, 34.3]\n"
     ]
    }
   ],
   "source": [
    "#In this example I am going to start with an empty list \n",
    "Kawhi_shooting = list()\n",
    "Kawhi_shooting.append(52.5)\n",
    "Kawhi_shooting.append(41.7)\n",
    "Kawhi_shooting.append(88.5)\n",
    "print(Kawhi_shooting)\n",
    "#I could also make an empty list like this \n",
    "Kawhi_availability = []\n",
    "Kawhi_availability.append(68)\n",
    "Kawhi_availability.append(34.3)\n",
    "print(Kawhi_availability)"
   ]
  },
  {
   "cell_type": "markdown",
   "id": "9ad1b347-faaf-46e4-bb6a-fae85bec88c2",
   "metadata": {
    "slideshow": {
     "slide_type": "slide"
    }
   },
   "source": [
    "## Indexing into lists  \n",
    "* Now suppose i wanted to get to his points per game for some data analysis (23.7).  . \n",
    "* I want to figure out a way to do it so that for every player whose data is organized in the same order \n",
    "* I can extract the points per game from the list. \n",
    " \n"
   ]
  },
  {
   "cell_type": "code",
   "execution_count": 23,
   "id": "f3b45271",
   "metadata": {
    "execution": {
     "iopub.execute_input": "2025-10-06T20:40:14.022469Z",
     "iopub.status.busy": "2025-10-06T20:40:14.022264Z",
     "iopub.status.idle": "2025-10-06T20:40:14.025198Z",
     "shell.execute_reply": "2025-10-06T20:40:14.024796Z"
    },
    "slideshow": {
     "slide_type": "fragment"
    }
   },
   "outputs": [
    {
     "name": "stdout",
     "output_type": "stream",
     "text": [
      "['Kawhi', 'Leonard', 'June', 29, 1991, 79.0, 23.7, 6.1, 3.6, 1.6, 0.9]\n"
     ]
    }
   ],
   "source": [
    "print(my_Kawhi_list)"
   ]
  },
  {
   "cell_type": "markdown",
   "id": "e5dfd8e9",
   "metadata": {
    "slideshow": {
     "slide_type": "fragment"
    }
   },
   "source": [
    "* We can see that points is the 7th entry in the list. "
   ]
  },
  {
   "cell_type": "code",
   "execution_count": 24,
   "id": "44e3511e-adc5-4b56-ae16-d26bc21cbbcb",
   "metadata": {
    "execution": {
     "iopub.execute_input": "2025-10-06T20:40:14.027367Z",
     "iopub.status.busy": "2025-10-06T20:40:14.027195Z",
     "iopub.status.idle": "2025-10-06T20:40:14.029900Z",
     "shell.execute_reply": "2025-10-06T20:40:14.029492Z"
    },
    "slideshow": {
     "slide_type": "fragment"
    }
   },
   "outputs": [
    {
     "name": "stdout",
     "output_type": "stream",
     "text": [
      "6.1\n"
     ]
    }
   ],
   "source": [
    "ppg = my_Kawhi_list[7]\n",
    "print(ppg)"
   ]
  },
  {
   "cell_type": "markdown",
   "id": "fc786fdc-b344-4316-b6a2-532e3cf9be22",
   "metadata": {
    "slideshow": {
     "slide_type": "subslide"
    }
   },
   "source": [
    "* That didnt work.  In fact, it returned the 8th element of the list, which is rebounds.\n",
    "* Computers count from zero, while human beings count from 1.  \n",
    "* If we start the count with 'Kawhi' as item 0, we realize the **index** for 26.6 is 6 and not 7 "
   ]
  },
  {
   "cell_type": "code",
   "execution_count": 25,
   "id": "049ab090-89ff-4a4b-9372-570894e23455",
   "metadata": {
    "execution": {
     "iopub.execute_input": "2025-10-06T20:40:14.031887Z",
     "iopub.status.busy": "2025-10-06T20:40:14.031720Z",
     "iopub.status.idle": "2025-10-06T20:40:14.034679Z",
     "shell.execute_reply": "2025-10-06T20:40:14.034254Z"
    },
    "slideshow": {
     "slide_type": "fragment"
    }
   },
   "outputs": [
    {
     "name": "stdout",
     "output_type": "stream",
     "text": [
      "23.7\n"
     ]
    }
   ],
   "source": [
    "ppg = my_Kawhi_list[6]\n",
    "print(ppg)\n"
   ]
  },
  {
   "cell_type": "markdown",
   "id": "b034cad3-6fe7-4926-8a01-1fd6f922b05d",
   "metadata": {
    "slideshow": {
     "slide_type": "slide"
    }
   },
   "source": [
    "## Lists do not have data types, but the values contained within them retain their types.  \n",
    "* Take a look at the Variables pane, or print the type of ppg.  \n",
    "* Notice that the variable ppg is of type float.  \n",
    "* Inside a list values cannot have a type, but once I remove a variable from the list it has a type.  "
   ]
  },
  {
   "cell_type": "code",
   "execution_count": 26,
   "id": "4c4cb987",
   "metadata": {
    "execution": {
     "iopub.execute_input": "2025-10-06T20:40:14.037296Z",
     "iopub.status.busy": "2025-10-06T20:40:14.037047Z",
     "iopub.status.idle": "2025-10-06T20:40:14.040759Z",
     "shell.execute_reply": "2025-10-06T20:40:14.039810Z"
    },
    "slideshow": {
     "slide_type": "fragment"
    }
   },
   "outputs": [
    {
     "name": "stdout",
     "output_type": "stream",
     "text": [
      "<class 'float'>\n"
     ]
    }
   ],
   "source": [
    "print(type(ppg))"
   ]
  },
  {
   "cell_type": "markdown",
   "id": "161a3ece-59cf-44df-a2f2-8e56922ce0e1",
   "metadata": {
    "slideshow": {
     "slide_type": "slide"
    }
   },
   "source": [
    "## Index to a range of values.  \n",
    "* Suppose I want to recover Kawhi's points, rebounds, assists - the classic box score stats.  \n",
    "* Since points is item 6 counting from 0, item 7 is rebounds and item 8 is assists (see above to verify)"
   ]
  },
  {
   "cell_type": "code",
   "execution_count": 27,
   "id": "b105b6e9-956c-4b89-b9f6-c070d79f6423",
   "metadata": {
    "execution": {
     "iopub.execute_input": "2025-10-06T20:40:14.043202Z",
     "iopub.status.busy": "2025-10-06T20:40:14.042963Z",
     "iopub.status.idle": "2025-10-06T20:40:14.047286Z",
     "shell.execute_reply": "2025-10-06T20:40:14.046456Z"
    },
    "slideshow": {
     "slide_type": "fragment"
    }
   },
   "outputs": [
    {
     "name": "stdout",
     "output_type": "stream",
     "text": [
      "[23.7, 6.1]\n"
     ]
    }
   ],
   "source": [
    "boxscore = my_Kawhi_list[6:8]\n",
    "print(boxscore)"
   ]
  },
  {
   "cell_type": "markdown",
   "id": "1467591c-2e05-413a-b0bb-a008d2593f80",
   "metadata": {
    "slideshow": {
     "slide_type": "fragment"
    }
   },
   "source": [
    "* That didnt work either.  \n",
    "* Since we need the next item, lets guess we should add one more and go from 6:9 "
   ]
  },
  {
   "cell_type": "code",
   "execution_count": 28,
   "id": "e881e773-48c6-4067-bb35-b76dd072e8aa",
   "metadata": {
    "execution": {
     "iopub.execute_input": "2025-10-06T20:40:14.050567Z",
     "iopub.status.busy": "2025-10-06T20:40:14.049834Z",
     "iopub.status.idle": "2025-10-06T20:40:14.054561Z",
     "shell.execute_reply": "2025-10-06T20:40:14.053674Z"
    },
    "slideshow": {
     "slide_type": "fragment"
    }
   },
   "outputs": [
    {
     "name": "stdout",
     "output_type": "stream",
     "text": [
      "[23.7, 6.1, 3.6]\n"
     ]
    }
   ],
   "source": [
    "boxscore = my_Kawhi_list[6:9]\n",
    "print(boxscore)"
   ]
  },
  {
   "cell_type": "markdown",
   "id": "248224b2-9042-4928-88d4-cbe76480b085",
   "metadata": {
    "jp-MarkdownHeadingCollapsed": true,
    "slideshow": {
     "slide_type": "fragment"
    },
    "tags": []
   },
   "source": [
    "Indexing in Python is always **inclusive** of the first element and **exclusive** of the last element.  "
   ]
  },
  {
   "cell_type": "markdown",
   "id": "a06facd5",
   "metadata": {
    "slideshow": {
     "slide_type": "slide"
    }
   },
   "source": [
    "### Indexing to the end of the list \n",
    "* Suppose we want to get a list of all numerical values of basketball statistics. \n",
    "* The 7th element of the array is ppg, up to the end of the list   "
   ]
  },
  {
   "cell_type": "code",
   "execution_count": 29,
   "id": "0b2bdd70",
   "metadata": {
    "execution": {
     "iopub.execute_input": "2025-10-06T20:40:14.058391Z",
     "iopub.status.busy": "2025-10-06T20:40:14.058042Z",
     "iopub.status.idle": "2025-10-06T20:40:14.063021Z",
     "shell.execute_reply": "2025-10-06T20:40:14.062204Z"
    },
    "slideshow": {
     "slide_type": "fragment"
    }
   },
   "outputs": [
    {
     "name": "stdout",
     "output_type": "stream",
     "text": [
      "[23.7, 6.1, 3.6, 1.6, 0.9]\n"
     ]
    }
   ],
   "source": [
    "gamestats = my_Kawhi_list[6:] #notice i didnt put an upper bound on this.  \n",
    "print(gamestats)"
   ]
  },
  {
   "cell_type": "markdown",
   "id": "7ae179ec",
   "metadata": {
    "slideshow": {
     "slide_type": "slide"
    }
   },
   "source": [
    "### Indexing **backwards** from the end of a List!   \n",
    "* When indexing into list, we sometimes want to get the last element, or a certain number of elements from the end of the list.  \n",
    "* Of course if you know how long the array is in advance, you can easily solve this.\n",
    "* Python supports indexing from the end of an array using negative indexes. "
   ]
  },
  {
   "cell_type": "code",
   "execution_count": 30,
   "id": "163da27c",
   "metadata": {
    "execution": {
     "iopub.execute_input": "2025-10-06T20:40:14.066893Z",
     "iopub.status.busy": "2025-10-06T20:40:14.066606Z",
     "iopub.status.idle": "2025-10-06T20:40:14.072183Z",
     "shell.execute_reply": "2025-10-06T20:40:14.070940Z"
    },
    "slideshow": {
     "slide_type": "fragment"
    }
   },
   "outputs": [
    {
     "name": "stdout",
     "output_type": "stream",
     "text": [
      "1.6\n",
      "[1.6, 0.9]\n"
     ]
    }
   ],
   "source": [
    "blocks = my_Kawhi_list[-2]\n",
    "print(blocks)\n",
    "blocks_steals = my_Kawhi_list[-2:]\n",
    "print(blocks_steals)"
   ]
  },
  {
   "cell_type": "markdown",
   "id": "42cbbd51-f043-4b8d-b0fc-4359954d397b",
   "metadata": {
    "slideshow": {
     "slide_type": "slide"
    }
   },
   "source": [
    "### Merging Lists\n",
    "1. We can merge two lists in the same way we handled strings, with a simple +\n",
    "1. Lists and strings do not do math addition, instead + means concatenation. "
   ]
  },
  {
   "cell_type": "code",
   "execution_count": 31,
   "id": "559b915e-020b-49ad-a561-905a3a4b08a7",
   "metadata": {
    "execution": {
     "iopub.execute_input": "2025-10-06T20:40:14.076017Z",
     "iopub.status.busy": "2025-10-06T20:40:14.075676Z",
     "iopub.status.idle": "2025-10-06T20:40:14.079847Z",
     "shell.execute_reply": "2025-10-06T20:40:14.079145Z"
    },
    "slideshow": {
     "slide_type": "fragment"
    },
    "tags": []
   },
   "outputs": [],
   "source": [
    "my_kawhi_list = ['Kawhi','Leonard']\n",
    "points = 23.7\n",
    "rebounds = 6.1\n",
    "assists = 3.6\n",
    "steals = 1.6\n",
    "blocks = 0.9"
   ]
  },
  {
   "cell_type": "code",
   "execution_count": 32,
   "id": "dbc03ea9",
   "metadata": {
    "execution": {
     "iopub.execute_input": "2025-10-06T20:40:14.083729Z",
     "iopub.status.busy": "2025-10-06T20:40:14.083307Z",
     "iopub.status.idle": "2025-10-06T20:40:14.088206Z",
     "shell.execute_reply": "2025-10-06T20:40:14.087598Z"
    },
    "slideshow": {
     "slide_type": "fragment"
    }
   },
   "outputs": [
    {
     "name": "stdout",
     "output_type": "stream",
     "text": [
      "['Kawhi', 'Leonard', 23.7, 6.1, 3.6, 1.6, 0.9]\n",
      "['Kawhi', 'Leonard', 23.7, 6.1, 3.6, 1.6, 0.9, [52.5, 41.7, 88.5]]\n"
     ]
    }
   ],
   "source": [
    "kawhi_season_stats = [points,rebounds,assists,steals,blocks]\n",
    "merged_kawhi_list = my_kawhi_list + kawhi_season_stats   # + for lists does not do ADDITION. \n",
    "print(merged_kawhi_list)\n",
    "merged_kawhi_list.append(Kawhi_shooting)\n",
    "print(merged_kawhi_list)"
   ]
  },
  {
   "cell_type": "markdown",
   "id": "bc343593",
   "metadata": {
    "slideshow": {
     "slide_type": "fragment"
    }
   },
   "source": [
    "You can append an individual variable to a list.  If that variable is a list, it becomes a single item in the new list. \n",
    "To merge lists always use '+'"
   ]
  },
  {
   "cell_type": "markdown",
   "id": "bc0f7878",
   "metadata": {
    "slideshow": {
     "slide_type": "slide"
    }
   },
   "source": [
    "**Strengths of Lists:**  \n",
    "* Flexible data type that allows you to keep together different type of informtion. \n",
    "* Can be easily indexed, and manipulated using `append` and other methods\n",
    "\n",
    "**Weaknesses of Lists:**  \n",
    "* Because it can contain many data types, it cannot be used for math. \n",
    "* Only the person who creates the list knows how to index into it.  "
   ]
  },
  {
   "cell_type": "markdown",
   "id": "15fab17c",
   "metadata": {
    "slideshow": {
     "slide_type": "slide"
    }
   },
   "source": [
    "## Dictionaries \n",
    "A bit more structured, and more cumbersome, but far more informative. \\\n",
    "Instead of an index you use a `key` to tell you where something is placed in the dictionary. \\\n",
    " Each `key` is associated with a `value`  which can be any type of variable, including strings, numerical values, lists, or even another dictionary  "
   ]
  },
  {
   "cell_type": "code",
   "execution_count": 33,
   "id": "6fd032fe",
   "metadata": {
    "execution": {
     "iopub.execute_input": "2025-10-06T20:40:14.090378Z",
     "iopub.status.busy": "2025-10-06T20:40:14.090156Z",
     "iopub.status.idle": "2025-10-06T20:40:14.093363Z",
     "shell.execute_reply": "2025-10-06T20:40:14.092720Z"
    },
    "slideshow": {
     "slide_type": "fragment"
    }
   },
   "outputs": [],
   "source": [
    "my_Kawhi_dict = dict()\n",
    "my_Kawhi_dict['First Name'] = 'Kawhi'\n",
    "my_Kawhi_dict['Last Name'] = 'Leonard'\n",
    "my_Kawhi_dict['Date of Birth'] = ['June', 29, 1991]\n",
    "my_Kawhi_dict['points'] = 23.7\n",
    "my_Kawhi_dict['shooting'] = Kawhi_shooting\n"
   ]
  },
  {
   "cell_type": "code",
   "execution_count": 34,
   "id": "c3322d93",
   "metadata": {
    "execution": {
     "iopub.execute_input": "2025-10-06T20:40:14.095880Z",
     "iopub.status.busy": "2025-10-06T20:40:14.095631Z",
     "iopub.status.idle": "2025-10-06T20:40:14.099892Z",
     "shell.execute_reply": "2025-10-06T20:40:14.098902Z"
    },
    "slideshow": {
     "slide_type": "fragment"
    }
   },
   "outputs": [
    {
     "name": "stdout",
     "output_type": "stream",
     "text": [
      "23.7\n",
      "[52.5, 41.7, 88.5]\n"
     ]
    }
   ],
   "source": [
    "print(my_Kawhi_dict['points'])\n",
    "shooting = my_Kawhi_dict['shooting']\n",
    "print(shooting)"
   ]
  },
  {
   "cell_type": "markdown",
   "id": "7483da25",
   "metadata": {
    "slideshow": {
     "slide_type": "slide"
    }
   },
   "source": [
    "Now suppose you made a dictionary and you forgot the keys "
   ]
  },
  {
   "cell_type": "code",
   "execution_count": 35,
   "id": "c9a8d1ca",
   "metadata": {
    "execution": {
     "iopub.execute_input": "2025-10-06T20:40:14.103018Z",
     "iopub.status.busy": "2025-10-06T20:40:14.102766Z",
     "iopub.status.idle": "2025-10-06T20:40:14.107732Z",
     "shell.execute_reply": "2025-10-06T20:40:14.107223Z"
    },
    "slideshow": {
     "slide_type": "slide"
    }
   },
   "outputs": [
    {
     "data": {
      "text/plain": [
       "dict_keys(['First Name', 'Last Name', 'Date of Birth', 'points', 'shooting'])"
      ]
     },
     "execution_count": 35,
     "metadata": {},
     "output_type": "execute_result"
    }
   ],
   "source": [
    "my_Kawhi_dict.keys()"
   ]
  },
  {
   "cell_type": "markdown",
   "id": "e3d26e3e",
   "metadata": {},
   "source": [
    "Another way to build a dictionary (I am not a fan) is a keyword:value pair "
   ]
  },
  {
   "cell_type": "code",
   "execution_count": 36,
   "id": "d4930f4e",
   "metadata": {
    "execution": {
     "iopub.execute_input": "2025-10-06T20:40:14.110575Z",
     "iopub.status.busy": "2025-10-06T20:40:14.110325Z",
     "iopub.status.idle": "2025-10-06T20:40:14.114287Z",
     "shell.execute_reply": "2025-10-06T20:40:14.113503Z"
    },
    "slideshow": {
     "slide_type": "fragment"
    }
   },
   "outputs": [],
   "source": [
    "Kawhi_stats = {'points':points, 'rebounds':rebounds, 'assists':assists, 'shooting':shooting}"
   ]
  }
 ],
 "metadata": {
  "celltoolbar": "Slideshow",
  "kernelspec": {
   "display_name": "Python 3 (ipykernel)",
   "language": "python",
   "name": "python3"
  },
  "language_info": {
   "codemirror_mode": {
    "name": "ipython",
    "version": 3
   },
   "file_extension": ".py",
   "mimetype": "text/x-python",
   "name": "python",
   "nbconvert_exporter": "python",
   "pygments_lexer": "ipython3",
   "version": "3.13.5"
  }
 },
 "nbformat": 4,
 "nbformat_minor": 5
}
