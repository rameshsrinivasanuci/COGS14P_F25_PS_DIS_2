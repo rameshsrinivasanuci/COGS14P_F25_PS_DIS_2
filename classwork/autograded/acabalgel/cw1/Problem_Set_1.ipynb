{
 "cells": [
  {
   "cell_type": "markdown",
   "id": "746888fd",
   "metadata": {},
   "source": [
    "Before you turn this problem in, make sure everything runs as expected. First, **restart the kernel** (in the menubar, select  **Restart** and **Clear All Outputs**, then select **Run All**).\n",
    "\n",
    "Make sure you fill in any place that says `YOUR CODE HERE` or \"YOUR ANSWER HERE\", as well as your name and collaborators below:"
   ]
  },
  {
   "cell_type": "code",
   "execution_count": 1,
   "id": "ff886789",
   "metadata": {
    "execution": {
     "iopub.execute_input": "2025-10-06T20:39:36.844654Z",
     "iopub.status.busy": "2025-10-06T20:39:36.844367Z",
     "iopub.status.idle": "2025-10-06T20:39:36.849064Z",
     "shell.execute_reply": "2025-10-06T20:39:36.848177Z"
    }
   },
   "outputs": [],
   "source": [
    "NAME = \"Gel Acabal\"\n",
    "COLLABORATORS = \"Sakamoto\""
   ]
  },
  {
   "cell_type": "markdown",
   "id": "b434b16c",
   "metadata": {},
   "source": [
    "---"
   ]
  },
  {
   "cell_type": "markdown",
   "id": "a9bfcbd5-7ea2-41b2-a847-f4327e17ab82",
   "metadata": {
    "tags": []
   },
   "source": [
    "# **Problem Set 1**:  List, Arrays, and Indexing Methods\n",
    "\n",
    "### This is a problem set.  You can work on it with the help of your classmates, Google, or ask me any questions you would like. \n",
    "### There are some new methods introduced in the problem set. \n",
    "### I encourage discussion during these problem sets.   \n",
    "### The problem set is due at 2:50 pm.   \n",
    "### However, you may continue to work on problems you dont finish, or you want to correct up to Wednesday. You will get 1/2 credit for that additional work.   \n",
    "### VERY IMPORTANT\n",
    "### In order for automatic grading and validation to work, it is very important that you make use of the exact variable names specified in the problem statement.\n",
    "### I will always place these variable names that must be used for automatic grading in **bold**"
   ]
  },
  {
   "cell_type": "code",
   "execution_count": 2,
   "id": "1a710a17-1378-4a7a-85b7-f518ed4d0bca",
   "metadata": {
    "execution": {
     "iopub.execute_input": "2025-10-06T20:39:36.852112Z",
     "iopub.status.busy": "2025-10-06T20:39:36.851862Z",
     "iopub.status.idle": "2025-10-06T20:39:36.916919Z",
     "shell.execute_reply": "2025-10-06T20:39:36.916367Z"
    }
   },
   "outputs": [],
   "source": [
    "# your going to need numpy to do this assignment \n",
    "import numpy as np \n",
    "#frankly, in this class, you will always need numpy.  "
   ]
  },
  {
   "cell_type": "markdown",
   "id": "3d421e26",
   "metadata": {},
   "source": [
    "1. Create a list called **food** with the following elements 'onion', 'egg', 'bacon', 'tomato', 'ham', 'cheese'. "
   ]
  },
  {
   "cell_type": "code",
   "execution_count": 3,
   "id": "1cdaadd4",
   "metadata": {
    "deletable": false,
    "execution": {
     "iopub.execute_input": "2025-10-06T20:39:36.919215Z",
     "iopub.status.busy": "2025-10-06T20:39:36.918984Z",
     "iopub.status.idle": "2025-10-06T20:39:36.921952Z",
     "shell.execute_reply": "2025-10-06T20:39:36.921423Z"
    },
    "nbgrader": {
     "cell_type": "code",
     "checksum": "5c9b1bcf73e618a89fe1c2ff81bdb14a",
     "grade": false,
     "grade_id": "cell-2a0fce76f8a4fcc5",
     "locked": false,
     "schema_version": 3,
     "solution": true,
     "task": false
    }
   },
   "outputs": [],
   "source": [
    "# YOUR CODE HERE\n",
    "food = [\"onion\", \"egg\", \"bacon\", \"tomato\", \"ham\", \"cheese\"]"
   ]
  },
  {
   "cell_type": "code",
   "execution_count": 4,
   "id": "03472f19",
   "metadata": {
    "deletable": false,
    "editable": false,
    "execution": {
     "iopub.execute_input": "2025-10-06T20:39:36.923902Z",
     "iopub.status.busy": "2025-10-06T20:39:36.923713Z",
     "iopub.status.idle": "2025-10-06T20:39:36.927087Z",
     "shell.execute_reply": "2025-10-06T20:39:36.926409Z"
    },
    "nbgrader": {
     "cell_type": "code",
     "checksum": "7a12cb65ac4192a0e745901a443f4fc9",
     "grade": true,
     "grade_id": "cell-c55d53d08cf6fea6",
     "locked": true,
     "points": 3,
     "schema_version": 3,
     "solution": false,
     "task": false
    }
   },
   "outputs": [],
   "source": [
    "assert len(food)== 6"
   ]
  },
  {
   "cell_type": "markdown",
   "id": "4fce0eec",
   "metadata": {},
   "source": [
    "2. Use *indexing* into the list **food** to make a new list **meat** containing only 'bacon' and 'ham'. Again, using indexing, make a list **veggie** containing 'tomato' and 'onion' in that order. "
   ]
  },
  {
   "cell_type": "code",
   "execution_count": 5,
   "id": "4222474d",
   "metadata": {
    "deletable": false,
    "execution": {
     "iopub.execute_input": "2025-10-06T20:39:36.929433Z",
     "iopub.status.busy": "2025-10-06T20:39:36.929174Z",
     "iopub.status.idle": "2025-10-06T20:39:36.933864Z",
     "shell.execute_reply": "2025-10-06T20:39:36.932776Z"
    },
    "nbgrader": {
     "cell_type": "code",
     "checksum": "1b7e9c94c77bf9ae0a48dae4f6c37d54",
     "grade": false,
     "grade_id": "cell-b6350c0476590c1e",
     "locked": false,
     "schema_version": 3,
     "solution": true,
     "task": false
    }
   },
   "outputs": [],
   "source": [
    "# YOUR CODE HERE\n",
    "meat = []\n",
    "veggie = []\n",
    "meat.append (food[2])\n",
    "meat.append (food[4])\n",
    "veggie.append (food[3])\n",
    "veggie.append (food[0])"
   ]
  },
  {
   "cell_type": "code",
   "execution_count": 6,
   "id": "a078aebb",
   "metadata": {
    "deletable": false,
    "editable": false,
    "execution": {
     "iopub.execute_input": "2025-10-06T20:39:36.936952Z",
     "iopub.status.busy": "2025-10-06T20:39:36.936404Z",
     "iopub.status.idle": "2025-10-06T20:39:36.940465Z",
     "shell.execute_reply": "2025-10-06T20:39:36.939521Z"
    },
    "nbgrader": {
     "cell_type": "code",
     "checksum": "41a44bb4af68ba749baa936468868cc9",
     "grade": true,
     "grade_id": "cell-a2fb6ef5fc1c48a6",
     "locked": true,
     "points": 2,
     "schema_version": 3,
     "solution": false,
     "task": false
    }
   },
   "outputs": [],
   "source": [
    "assert meat[0] == 'bacon'\n",
    "assert len(meat) == 2"
   ]
  },
  {
   "cell_type": "code",
   "execution_count": 7,
   "id": "ebd6b18c-9d29-455f-9d24-692480d69412",
   "metadata": {
    "deletable": false,
    "editable": false,
    "execution": {
     "iopub.execute_input": "2025-10-06T20:39:36.943224Z",
     "iopub.status.busy": "2025-10-06T20:39:36.942862Z",
     "iopub.status.idle": "2025-10-06T20:39:36.947136Z",
     "shell.execute_reply": "2025-10-06T20:39:36.946481Z"
    },
    "nbgrader": {
     "cell_type": "code",
     "checksum": "7f4931a84f7116cb8c2af4a1527dd29b",
     "grade": true,
     "grade_id": "cell-6a99beb4a531ef02",
     "locked": true,
     "points": 2,
     "schema_version": 3,
     "solution": false,
     "task": false
    }
   },
   "outputs": [],
   "source": [
    "assert veggie[0] == 'tomato'\n",
    "assert len(veggie) == 2"
   ]
  },
  {
   "cell_type": "markdown",
   "id": "d87b7d4e",
   "metadata": {},
   "source": [
    "3. Create a numpy array called **numbers** containing the numbers 6,24,13,16,8,10,21 in that order. Create an array called **skip1** that starts at element with index 0 and takes every other element of the array **numbers**, by using the `start:stop:step` syntax to index into the array."
   ]
  },
  {
   "cell_type": "code",
   "execution_count": 8,
   "id": "31b9786b",
   "metadata": {
    "deletable": false,
    "execution": {
     "iopub.execute_input": "2025-10-06T20:39:36.949883Z",
     "iopub.status.busy": "2025-10-06T20:39:36.949541Z",
     "iopub.status.idle": "2025-10-06T20:39:36.953857Z",
     "shell.execute_reply": "2025-10-06T20:39:36.953190Z"
    },
    "nbgrader": {
     "cell_type": "code",
     "checksum": "d9a96608a0b3c2991c31e150d73d7543",
     "grade": false,
     "grade_id": "cell-c9c71eda64dac60b",
     "locked": false,
     "schema_version": 3,
     "solution": true,
     "task": false
    }
   },
   "outputs": [],
   "source": [
    "# YOUR CODE HERE\n",
    "numbers = np.array ([ 6, 24, 13, 16, 8, 10, 21])\n",
    "skip1 = numbers[0:7:2]\n"
   ]
  },
  {
   "cell_type": "code",
   "execution_count": 9,
   "id": "ff713809",
   "metadata": {
    "deletable": false,
    "editable": false,
    "execution": {
     "iopub.execute_input": "2025-10-06T20:39:36.957578Z",
     "iopub.status.busy": "2025-10-06T20:39:36.956788Z",
     "iopub.status.idle": "2025-10-06T20:39:36.961452Z",
     "shell.execute_reply": "2025-10-06T20:39:36.960470Z"
    },
    "nbgrader": {
     "cell_type": "code",
     "checksum": "50f9c682041363f8322cc780e24cf466",
     "grade": true,
     "grade_id": "cell-044d3ded57226e50",
     "locked": true,
     "points": 1,
     "schema_version": 3,
     "solution": false,
     "task": false
    }
   },
   "outputs": [],
   "source": [
    "assert len(numbers) == 7"
   ]
  },
  {
   "cell_type": "code",
   "execution_count": 10,
   "id": "dc355488",
   "metadata": {
    "deletable": false,
    "editable": false,
    "execution": {
     "iopub.execute_input": "2025-10-06T20:39:36.964968Z",
     "iopub.status.busy": "2025-10-06T20:39:36.964491Z",
     "iopub.status.idle": "2025-10-06T20:39:36.969639Z",
     "shell.execute_reply": "2025-10-06T20:39:36.968780Z"
    },
    "nbgrader": {
     "cell_type": "code",
     "checksum": "1d4186680e51f644bdd5a6a4d67d3c13",
     "grade": true,
     "grade_id": "cell-3bb4e599e35e1645",
     "locked": true,
     "points": 2,
     "schema_version": 3,
     "solution": false,
     "task": false
    }
   },
   "outputs": [],
   "source": [
    "assert len(skip1) == 4\n",
    "assert skip1[-1] == 21\n",
    "assert skip1[1] == 13"
   ]
  },
  {
   "cell_type": "markdown",
   "id": "92ff343a",
   "metadata": {},
   "source": [
    "4. Make a numpy array called **z** using the numpy function `linspace`, containing values from -100 to 100, including -100 and 100, in steps of 10.  "
   ]
  },
  {
   "cell_type": "code",
   "execution_count": 11,
   "id": "3f9ae5d9",
   "metadata": {
    "deletable": false,
    "execution": {
     "iopub.execute_input": "2025-10-06T20:39:36.973429Z",
     "iopub.status.busy": "2025-10-06T20:39:36.973006Z",
     "iopub.status.idle": "2025-10-06T20:39:36.978401Z",
     "shell.execute_reply": "2025-10-06T20:39:36.977554Z"
    },
    "nbgrader": {
     "cell_type": "code",
     "checksum": "68dfdcbf010074e23c75ad3207b1d4b1",
     "grade": false,
     "grade_id": "cell-f95007e3ee1a7d98",
     "locked": false,
     "schema_version": 3,
     "solution": true,
     "task": false
    }
   },
   "outputs": [],
   "source": [
    "# YOUR CODE HERE\n",
    "z = np.linspace(-100, 100, 21)"
   ]
  },
  {
   "cell_type": "code",
   "execution_count": 12,
   "id": "1cb4fd87",
   "metadata": {
    "deletable": false,
    "editable": false,
    "execution": {
     "iopub.execute_input": "2025-10-06T20:39:36.981256Z",
     "iopub.status.busy": "2025-10-06T20:39:36.980944Z",
     "iopub.status.idle": "2025-10-06T20:39:36.985707Z",
     "shell.execute_reply": "2025-10-06T20:39:36.984715Z"
    },
    "nbgrader": {
     "cell_type": "code",
     "checksum": "7db7103d0531c9d43d05d45cf4eeb042",
     "grade": true,
     "grade_id": "cell-536cfe4c84bf740a",
     "locked": true,
     "points": 3,
     "schema_version": 3,
     "solution": false,
     "task": false
    }
   },
   "outputs": [],
   "source": [
    "assert np.all(np.diff(z) == 10)\n",
    "### BEGIN HIDDEN TESTS\n",
    "assert np.size(z) == 21\n",
    "### END HIDDEN TESTS"
   ]
  },
  {
   "cell_type": "markdown",
   "id": "d0f3df9b",
   "metadata": {},
   "source": [
    "5. Create a numpy array **x** with all the odd numbers less than 20 using the numpy function `arange`.  "
   ]
  },
  {
   "cell_type": "code",
   "execution_count": 13,
   "id": "6cb1c3e1",
   "metadata": {
    "deletable": false,
    "execution": {
     "iopub.execute_input": "2025-10-06T20:39:36.988901Z",
     "iopub.status.busy": "2025-10-06T20:39:36.988605Z",
     "iopub.status.idle": "2025-10-06T20:39:36.992916Z",
     "shell.execute_reply": "2025-10-06T20:39:36.991927Z"
    },
    "nbgrader": {
     "cell_type": "code",
     "checksum": "90e6f278850ae1af61eb97f12cd90cf9",
     "grade": false,
     "grade_id": "cell-6bfea95ba011db9d",
     "locked": false,
     "schema_version": 3,
     "solution": true,
     "task": false
    }
   },
   "outputs": [],
   "source": [
    "# YOUR CODE HERE\n",
    "#I used Anaconda Assistant here to understand how to use the np.arange function\n",
    "x = np.arange (1, 20, 2)"
   ]
  },
  {
   "cell_type": "code",
   "execution_count": 14,
   "id": "de3b2a03",
   "metadata": {
    "deletable": false,
    "editable": false,
    "execution": {
     "iopub.execute_input": "2025-10-06T20:39:36.996142Z",
     "iopub.status.busy": "2025-10-06T20:39:36.995824Z",
     "iopub.status.idle": "2025-10-06T20:39:37.000772Z",
     "shell.execute_reply": "2025-10-06T20:39:36.999595Z"
    },
    "nbgrader": {
     "cell_type": "code",
     "checksum": "5c4a1945fe6b75adb9b862743f0761f2",
     "grade": true,
     "grade_id": "cell-925a224d993057b4",
     "locked": true,
     "points": 3,
     "schema_version": 3,
     "solution": false,
     "task": false
    }
   },
   "outputs": [],
   "source": [
    "assert ~np.any(x%2 == 0)"
   ]
  },
  {
   "cell_type": "markdown",
   "id": "f2956d08",
   "metadata": {},
   "source": [
    "6. Create an array **power** than has all of the powers of 2 from $2^1$ to $2^8$.  There are a number of ways you could tackle this problem and I will accept any of them as long as you produce the array by calculating the powers using python code. "
   ]
  },
  {
   "cell_type": "code",
   "execution_count": 15,
   "id": "afcb7559",
   "metadata": {
    "deletable": false,
    "execution": {
     "iopub.execute_input": "2025-10-06T20:39:37.004360Z",
     "iopub.status.busy": "2025-10-06T20:39:37.004015Z",
     "iopub.status.idle": "2025-10-06T20:39:37.008326Z",
     "shell.execute_reply": "2025-10-06T20:39:37.007494Z"
    },
    "nbgrader": {
     "cell_type": "code",
     "checksum": "39f49af19525ff1b7161b1eb5e841b61",
     "grade": false,
     "grade_id": "cell-a6cb876518bc27b9",
     "locked": false,
     "schema_version": 3,
     "solution": true,
     "task": false
    }
   },
   "outputs": [],
   "source": [
    "# YOUR CODE HERE\n",
    "exponent = np.array ([1, 2, 3, 4, 5, 6, 7, 8])\n",
    "power = 2**exponent"
   ]
  },
  {
   "cell_type": "code",
   "execution_count": 16,
   "id": "8d53cd9c",
   "metadata": {
    "deletable": false,
    "editable": false,
    "execution": {
     "iopub.execute_input": "2025-10-06T20:39:37.012385Z",
     "iopub.status.busy": "2025-10-06T20:39:37.012047Z",
     "iopub.status.idle": "2025-10-06T20:39:37.017210Z",
     "shell.execute_reply": "2025-10-06T20:39:37.016301Z"
    },
    "nbgrader": {
     "cell_type": "code",
     "checksum": "ba288b9d472bb54105f773bf3eb8cb45",
     "grade": true,
     "grade_id": "cell-83ed95c7aa9c856a",
     "locked": true,
     "points": 4,
     "schema_version": 3,
     "solution": false,
     "task": false
    }
   },
   "outputs": [],
   "source": [
    "assert len(power) == 8\n",
    "assert np,max(power) == 2**8\n",
    "assert np.min(power) == 2"
   ]
  },
  {
   "cell_type": "code",
   "execution_count": null,
   "id": "b153a98f-479a-4dcc-992c-c55cbdd53b24",
   "metadata": {},
   "outputs": [],
   "source": []
  }
 ],
 "metadata": {
  "kernelspec": {
   "display_name": "Python 3 (ipykernel)",
   "language": "python",
   "name": "python3"
  },
  "language_info": {
   "codemirror_mode": {
    "name": "ipython",
    "version": 3
   },
   "file_extension": ".py",
   "mimetype": "text/x-python",
   "name": "python",
   "nbconvert_exporter": "python",
   "pygments_lexer": "ipython3",
   "version": "3.13.5"
  }
 },
 "nbformat": 4,
 "nbformat_minor": 5
}
