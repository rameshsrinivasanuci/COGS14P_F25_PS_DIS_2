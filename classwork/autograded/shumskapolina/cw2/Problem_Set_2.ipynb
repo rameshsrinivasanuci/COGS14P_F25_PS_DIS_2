{
 "cells": [
  {
   "cell_type": "markdown",
   "id": "084807b0",
   "metadata": {},
   "source": [
    "Before you turn this problem in, make sure everything runs as expected. First, **restart the kernel** (in the menubar, select  **Restart** and **Clear All Outputs**, then select **Run All**).\n",
    "\n",
    "Make sure you fill in any place that says `YOUR CODE HERE` or \"YOUR ANSWER HERE\", as well as your name and collaborators below:"
   ]
  },
  {
   "cell_type": "code",
   "execution_count": 1,
   "id": "6e887d80",
   "metadata": {
    "execution": {
     "iopub.execute_input": "2025-10-20T06:30:03.963713Z",
     "iopub.status.busy": "2025-10-20T06:30:03.963447Z",
     "iopub.status.idle": "2025-10-20T06:30:03.969799Z",
     "shell.execute_reply": "2025-10-20T06:30:03.969078Z"
    }
   },
   "outputs": [],
   "source": [
    "NAME = \"Polina Shumska\"\n",
    "COLLABORATORS = \"Saitama\""
   ]
  },
  {
   "cell_type": "markdown",
   "id": "4eb6bcce",
   "metadata": {},
   "source": [
    "---"
   ]
  },
  {
   "cell_type": "markdown",
   "id": "a9bfcbd5-7ea2-41b2-a847-f4327e17ab82",
   "metadata": {
    "tags": []
   },
   "source": [
    "# **Problem Set 2**:  Random Numbers, Array Methods, Functions\n",
    "\n",
    "* This is a problem set.  You can work on it with the help of your classmates, Google, or ask us any questions you would like.  \n",
    "* I encourage discussion during these problem sets.    \n",
    "* In order for automatic grading and validation to work, it is very important that you make use of the exact variable names specified in the problem statement.\n",
    "* I will always place these variable names that must be used for automatic grading in **bold**"
   ]
  },
  {
   "cell_type": "code",
   "execution_count": 2,
   "id": "1a710a17-1378-4a7a-85b7-f518ed4d0bca",
   "metadata": {
    "execution": {
     "iopub.execute_input": "2025-10-20T06:30:03.972690Z",
     "iopub.status.busy": "2025-10-20T06:30:03.972466Z",
     "iopub.status.idle": "2025-10-20T06:30:04.030260Z",
     "shell.execute_reply": "2025-10-20T06:30:04.029764Z"
    }
   },
   "outputs": [],
   "source": [
    "# your going to need numpy and a random number generator to do this assignment \n",
    "import numpy as np \n",
    "from numpy import random\n",
    "rng = random.default_rng(seed = 2025)"
   ]
  },
  {
   "cell_type": "markdown",
   "id": "3d421e26",
   "metadata": {},
   "source": [
    "1. Create an array **hexdice** with 20 random numbers with values ranging from 1 to 16 (inclusive). Sort the array **hexdice** into descending order, i.e., from largest to smallest.  The answer should still be in the array **hexdice**"
   ]
  },
  {
   "cell_type": "code",
   "execution_count": 3,
   "id": "1cdaadd4",
   "metadata": {
    "deletable": false,
    "execution": {
     "iopub.execute_input": "2025-10-20T06:30:04.032981Z",
     "iopub.status.busy": "2025-10-20T06:30:04.032720Z",
     "iopub.status.idle": "2025-10-20T06:30:04.037089Z",
     "shell.execute_reply": "2025-10-20T06:30:04.035590Z"
    },
    "nbgrader": {
     "cell_type": "code",
     "checksum": "5c9b1bcf73e618a89fe1c2ff81bdb14a",
     "grade": false,
     "grade_id": "cell-2a0fce76f8a4fcc5",
     "locked": false,
     "schema_version": 3,
     "solution": true,
     "task": false
    }
   },
   "outputs": [
    {
     "name": "stdout",
     "output_type": "stream",
     "text": [
      "[16 16 16 16 16 15 14 14 13 11 11 11  8  8  8  7  7  6  5  2]\n"
     ]
    }
   ],
   "source": [
    "# YOUR CODE HERE\n",
    "hexdice = rng.integers(1,17,20)\n",
    "hd_sorted = np.sort(hexdice)\n",
    "hd_reverse = np.flip(hd_sorted)\n",
    "hexdice = hd_reverse\n",
    "print(hexdice)"
   ]
  },
  {
   "cell_type": "code",
   "execution_count": 4,
   "id": "03472f19",
   "metadata": {
    "deletable": false,
    "editable": false,
    "execution": {
     "iopub.execute_input": "2025-10-20T06:30:04.039215Z",
     "iopub.status.busy": "2025-10-20T06:30:04.039059Z",
     "iopub.status.idle": "2025-10-20T06:30:04.041611Z",
     "shell.execute_reply": "2025-10-20T06:30:04.041187Z"
    },
    "nbgrader": {
     "cell_type": "code",
     "checksum": "b4f1c1b41264618c56feda53ce814224",
     "grade": true,
     "grade_id": "cell-c55d53d08cf6fea6",
     "locked": true,
     "points": 3,
     "schema_version": 3,
     "solution": false,
     "task": false
    }
   },
   "outputs": [],
   "source": [
    "assert len(hexdice)== 20\n",
    "assert np.argmax(hexdice) == 0 "
   ]
  },
  {
   "cell_type": "markdown",
   "id": "4fce0eec",
   "metadata": {},
   "source": [
    "2. Write a function **normalize** that takes a numpy array **x** and divides the array by the maximum value in the array and returns an array containing these normalized values.  You should start your function with,\n",
    "\n",
    "       def normalize(x):\n",
    "\n",
    "Don't forget to indent your code under the def statement, and to end your function with a return statement.     "
   ]
  },
  {
   "cell_type": "code",
   "execution_count": 5,
   "id": "4222474d",
   "metadata": {
    "deletable": false,
    "execution": {
     "iopub.execute_input": "2025-10-20T06:30:04.043627Z",
     "iopub.status.busy": "2025-10-20T06:30:04.043474Z",
     "iopub.status.idle": "2025-10-20T06:30:04.046001Z",
     "shell.execute_reply": "2025-10-20T06:30:04.045388Z"
    },
    "nbgrader": {
     "cell_type": "code",
     "checksum": "1b7e9c94c77bf9ae0a48dae4f6c37d54",
     "grade": false,
     "grade_id": "cell-b6350c0476590c1e",
     "locked": false,
     "schema_version": 3,
     "solution": true,
     "task": false
    }
   },
   "outputs": [],
   "source": [
    "# YOUR CODE HERE\n",
    "def normalize(x):\n",
    "    M = np.max(x)\n",
    "    ans = x/M\n",
    "    return ans"
   ]
  },
  {
   "cell_type": "code",
   "execution_count": 6,
   "id": "a078aebb",
   "metadata": {
    "deletable": false,
    "editable": false,
    "execution": {
     "iopub.execute_input": "2025-10-20T06:30:04.047979Z",
     "iopub.status.busy": "2025-10-20T06:30:04.047741Z",
     "iopub.status.idle": "2025-10-20T06:30:04.050427Z",
     "shell.execute_reply": "2025-10-20T06:30:04.049806Z"
    },
    "nbgrader": {
     "cell_type": "code",
     "checksum": "81979540282f3685164c7fbd37da630a",
     "grade": true,
     "grade_id": "cell-a2fb6ef5fc1c48a6",
     "locked": true,
     "points": 4,
     "schema_version": 3,
     "solution": false,
     "task": false
    }
   },
   "outputs": [],
   "source": [
    "x = rng.uniform(0,10,20)\n",
    "normx = normalize(x) \n",
    "assert np.max(normx) == 1 "
   ]
  },
  {
   "cell_type": "markdown",
   "id": "d87b7d4e",
   "metadata": {},
   "source": [
    "3-5. It is challenging to come up with measures of excellence in individual defense in basketball.  One useful measure of individual defense is to compare the number of steals to fouls. Basketball players are often called for fouls when they try to steal the ball. There are only 4 players in NBA history including 2 active NBA players who steal more than they foul.    \n",
    "\n",
    "Jimmy Butler is a remarkable defender by this measure. The following 3 lists have the years, games, steals, and fouls per game for every season of Jimmy Butler's career (not including his rookie year when he didn't play). Run the next code block so you have the variables available to answer problems 3-5. Answer the questions by writing Python code and using numpy functions, not just by figuring it out in your head.    "
   ]
  },
  {
   "cell_type": "code",
   "execution_count": 7,
   "id": "31b9786b",
   "metadata": {
    "execution": {
     "iopub.execute_input": "2025-10-20T06:30:04.052631Z",
     "iopub.status.busy": "2025-10-20T06:30:04.052472Z",
     "iopub.status.idle": "2025-10-20T06:30:04.056368Z",
     "shell.execute_reply": "2025-10-20T06:30:04.055917Z"
    }
   },
   "outputs": [],
   "source": [
    "years = np.arange(2012,2026)\n",
    "games = [82,67,65,67,75,59,10,55,58,52,57,64,60,55]\n",
    "steals = [1.0,1.9,1.8,1.6,1.9,2.0,2.4,1.8,1.8,2.1,1.6,1.8,1.3,1.7]\n",
    "fouls = [1.2,1.6,1.7,1.9,1.5,1.3,1.8,1.7,1.4,1.4,1.5,1.3,1.1,1.4]\n",
    "\n"
   ]
  },
  {
   "cell_type": "markdown",
   "id": "4e859edb",
   "metadata": {},
   "source": [
    "3. What was the highest steals per game in Jimmy Butler's career. Save this in the variable **best_steals**  What year did Jimmy Butler average the most steals? Save this in the variable **best_year**.  How many fouls did he commit per game in this year?  Save this in the variable **fouls_best_year**"
   ]
  },
  {
   "cell_type": "code",
   "execution_count": 8,
   "id": "ef5a85f0",
   "metadata": {
    "deletable": false,
    "execution": {
     "iopub.execute_input": "2025-10-20T06:30:04.058626Z",
     "iopub.status.busy": "2025-10-20T06:30:04.058477Z",
     "iopub.status.idle": "2025-10-20T06:30:04.069395Z",
     "shell.execute_reply": "2025-10-20T06:30:04.068113Z"
    },
    "nbgrader": {
     "cell_type": "code",
     "checksum": "38a883c87eecdcdfa466a25eef88defa",
     "grade": false,
     "grade_id": "cell-1e855958e42b3792",
     "locked": false,
     "schema_version": 3,
     "solution": true,
     "task": false
    }
   },
   "outputs": [
    {
     "name": "stdout",
     "output_type": "stream",
     "text": [
      "1.8\n"
     ]
    }
   ],
   "source": [
    "# YOUR CODE HERE\n",
    "best_steals = np.max(steals)\n",
    "best_year_index = np.argmax(steals)\n",
    "best_year = years[best_year_index]\n",
    "fouls_best_year = fouls[best_year_index]\n",
    "print(fouls_best_year)"
   ]
  },
  {
   "cell_type": "code",
   "execution_count": 9,
   "id": "ff713809",
   "metadata": {
    "deletable": false,
    "editable": false,
    "execution": {
     "iopub.execute_input": "2025-10-20T06:30:04.072359Z",
     "iopub.status.busy": "2025-10-20T06:30:04.072167Z",
     "iopub.status.idle": "2025-10-20T06:30:04.074900Z",
     "shell.execute_reply": "2025-10-20T06:30:04.074141Z"
    },
    "nbgrader": {
     "cell_type": "code",
     "checksum": "df4d425bd0ebdeb8c1d1ab9b195a86cf",
     "grade": true,
     "grade_id": "cell-044d3ded57226e50",
     "locked": true,
     "points": 1,
     "schema_version": 3,
     "solution": false,
     "task": false
    }
   },
   "outputs": [],
   "source": [
    "assert(best_steals > 2.2)"
   ]
  },
  {
   "cell_type": "code",
   "execution_count": 10,
   "id": "60a6808e-967b-4b7e-bfe2-24080960abbf",
   "metadata": {
    "deletable": false,
    "editable": false,
    "execution": {
     "iopub.execute_input": "2025-10-20T06:30:04.077053Z",
     "iopub.status.busy": "2025-10-20T06:30:04.076846Z",
     "iopub.status.idle": "2025-10-20T06:30:04.078976Z",
     "shell.execute_reply": "2025-10-20T06:30:04.078604Z"
    },
    "nbgrader": {
     "cell_type": "code",
     "checksum": "9abb8a15ea37f3bfbfcb0decf073fcb3",
     "grade": true,
     "grade_id": "cell-dcf744191451f41c",
     "locked": true,
     "points": 2,
     "schema_version": 3,
     "solution": false,
     "task": false
    }
   },
   "outputs": [],
   "source": [
    "assert best_year == 2018"
   ]
  },
  {
   "cell_type": "code",
   "execution_count": 11,
   "id": "70115ec8",
   "metadata": {
    "deletable": false,
    "editable": false,
    "execution": {
     "iopub.execute_input": "2025-10-20T06:30:04.080800Z",
     "iopub.status.busy": "2025-10-20T06:30:04.080645Z",
     "iopub.status.idle": "2025-10-20T06:30:04.082688Z",
     "shell.execute_reply": "2025-10-20T06:30:04.082297Z"
    },
    "nbgrader": {
     "cell_type": "code",
     "checksum": "f7efc30ed8ab304d94628b35c59a4337",
     "grade": true,
     "grade_id": "cell-9bdfb06a665f56c8",
     "locked": true,
     "points": 2,
     "schema_version": 3,
     "solution": false,
     "task": false
    }
   },
   "outputs": [],
   "source": [
    "assert fouls_best_year == 1.8"
   ]
  },
  {
   "cell_type": "markdown",
   "id": "f2956d08",
   "metadata": {},
   "source": [
    "4.    Write a function `weightedaverage` that computes a weighted average.\n",
    "*  input arguments are the array **data** and an array **weights**.\n",
    "*  The function should multiply the **data** by **weights**.\n",
    "*  Then it should sum that product using `np.sum`\n",
    "*  Then divide by the sum of the **weights** also obtained using `np.sum`.\n",
    "\n",
    "This is how you compute a *weighted average*. \n",
    "\n",
    "Start your function like this\n",
    "\n",
    "    def weightedaverage(data,weights):\n",
    "\n",
    "be sure to end the function with a `return` statement to return the weighted average value to global namespace.  "
   ]
  },
  {
   "cell_type": "code",
   "execution_count": 12,
   "id": "087cc3cf",
   "metadata": {
    "deletable": false,
    "execution": {
     "iopub.execute_input": "2025-10-20T06:30:04.084481Z",
     "iopub.status.busy": "2025-10-20T06:30:04.084322Z",
     "iopub.status.idle": "2025-10-20T06:30:04.086880Z",
     "shell.execute_reply": "2025-10-20T06:30:04.086492Z"
    },
    "nbgrader": {
     "cell_type": "code",
     "checksum": "72428a741537024c82c2702934e43613",
     "grade": false,
     "grade_id": "cell-0d8820ed44c65f3f",
     "locked": false,
     "schema_version": 3,
     "solution": true,
     "task": false
    }
   },
   "outputs": [],
   "source": [
    "# YOUR CODE HERE\n",
    "def weightedaverage(data,weights):\n",
    "    M = data * weights\n",
    "    Sum = np.sum(M)\n",
    "    W = np.sum(weights)\n",
    "    d = Sum/W\n",
    "    return d"
   ]
  },
  {
   "cell_type": "code",
   "execution_count": 13,
   "id": "ab847920",
   "metadata": {
    "deletable": false,
    "editable": false,
    "execution": {
     "iopub.execute_input": "2025-10-20T06:30:04.088744Z",
     "iopub.status.busy": "2025-10-20T06:30:04.088562Z",
     "iopub.status.idle": "2025-10-20T06:30:04.090981Z",
     "shell.execute_reply": "2025-10-20T06:30:04.090607Z"
    },
    "nbgrader": {
     "cell_type": "code",
     "checksum": "016602c056bc2330dfe625bcd5736e8a",
     "grade": true,
     "grade_id": "cell-ccc53701ebbe194a",
     "locked": true,
     "points": 2,
     "schema_version": 3,
     "solution": false,
     "task": false
    }
   },
   "outputs": [],
   "source": [
    "data = np.array([1,2,4])\n",
    "weights = np.array([2,2,1])\n",
    "wtavg = weightedaverage(data,weights)\n",
    "assert wtavg == 2"
   ]
  },
  {
   "cell_type": "code",
   "execution_count": 14,
   "id": "2c5cd74f",
   "metadata": {
    "deletable": false,
    "editable": false,
    "execution": {
     "iopub.execute_input": "2025-10-20T06:30:04.092721Z",
     "iopub.status.busy": "2025-10-20T06:30:04.092561Z",
     "iopub.status.idle": "2025-10-20T06:30:04.094947Z",
     "shell.execute_reply": "2025-10-20T06:30:04.094598Z"
    },
    "nbgrader": {
     "cell_type": "code",
     "checksum": "5b7651f3e00dc0ea1e45d72af062fe5a",
     "grade": true,
     "grade_id": "cell-324f1bd834a3b822",
     "locked": true,
     "points": 2,
     "schema_version": 3,
     "solution": false,
     "task": false
    }
   },
   "outputs": [],
   "source": [
    "data = np.array([1,2,3,4,5])\n",
    "weights = np.array([2,4,1,1,2])\n",
    "wtavg = weightedaverage(data,weights)\n",
    "assert wtavg == 2.7"
   ]
  },
  {
   "cell_type": "code",
   "execution_count": 15,
   "id": "afcb7559",
   "metadata": {
    "deletable": false,
    "execution": {
     "iopub.execute_input": "2025-10-20T06:30:04.096637Z",
     "iopub.status.busy": "2025-10-20T06:30:04.096475Z",
     "iopub.status.idle": "2025-10-20T06:30:04.098868Z",
     "shell.execute_reply": "2025-10-20T06:30:04.098490Z"
    },
    "nbgrader": {
     "cell_type": "code",
     "checksum": "39f49af19525ff1b7161b1eb5e841b61",
     "grade": false,
     "grade_id": "cell-a6cb876518bc27b9",
     "locked": false,
     "schema_version": 3,
     "solution": true,
     "task": false
    }
   },
   "outputs": [],
   "source": [
    "# YOUR CODE HERE\n",
    "steals = np.array(steals)\n",
    "fouls = np.array(fouls)\n",
    "average_steals = weightedaverage(steals, games)\n",
    "average_fouls = weightedaverage(fouls, games)\n"
   ]
  },
  {
   "cell_type": "code",
   "execution_count": 16,
   "id": "8d53cd9c",
   "metadata": {
    "deletable": false,
    "editable": false,
    "execution": {
     "iopub.execute_input": "2025-10-20T06:30:04.100950Z",
     "iopub.status.busy": "2025-10-20T06:30:04.100780Z",
     "iopub.status.idle": "2025-10-20T06:30:04.103167Z",
     "shell.execute_reply": "2025-10-20T06:30:04.102789Z"
    },
    "nbgrader": {
     "cell_type": "code",
     "checksum": "e3a90588bae39ec493cef69027cf8dfd",
     "grade": true,
     "grade_id": "cell-83ed95c7aa9c856a",
     "locked": true,
     "points": 4,
     "schema_version": 3,
     "solution": false,
     "task": false
    }
   },
   "outputs": [],
   "source": [
    "assert np.isclose(average_steals,1.71,rtol=0.05)\n",
    "assert np.isclose(average_fouls,1.47,rtol=0.05)\n"
   ]
  }
 ],
 "metadata": {
  "kernelspec": {
   "display_name": "mytest",
   "language": "python",
   "name": "python3"
  },
  "language_info": {
   "codemirror_mode": {
    "name": "ipython",
    "version": 3
   },
   "file_extension": ".py",
   "mimetype": "text/x-python",
   "name": "python",
   "nbconvert_exporter": "python",
   "pygments_lexer": "ipython3",
   "version": "3.13.7"
  }
 },
 "nbformat": 4,
 "nbformat_minor": 5
}
