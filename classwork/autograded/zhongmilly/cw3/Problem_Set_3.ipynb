{
 "cells": [
  {
   "cell_type": "markdown",
   "id": "3c50abc6",
   "metadata": {},
   "source": [
    "Before you turn this problem in, make sure everything runs as expected. First, **restart the kernel** (in the menubar, select  **Restart** and **Clear All Outputs**, then select **Run All**).\n",
    "\n",
    "Make sure you fill in any place that says `YOUR CODE HERE` or \"YOUR ANSWER HERE\", as well as your name and collaborators below:"
   ]
  },
  {
   "cell_type": "code",
   "execution_count": 1,
   "id": "3ed8be1a",
   "metadata": {
    "execution": {
     "iopub.execute_input": "2025-10-20T06:09:47.032958Z",
     "iopub.status.busy": "2025-10-20T06:09:47.032743Z",
     "iopub.status.idle": "2025-10-20T06:09:47.037200Z",
     "shell.execute_reply": "2025-10-20T06:09:47.036854Z"
    }
   },
   "outputs": [],
   "source": [
    "NAME = \"Milly\"\n",
    "COLLABORATORS = \"GENOS\""
   ]
  },
  {
   "cell_type": "markdown",
   "id": "020760d9",
   "metadata": {},
   "source": [
    "---"
   ]
  },
  {
   "cell_type": "markdown",
   "id": "f560cb29-5c26-472a-bc56-ed82e9cc5f32",
   "metadata": {
    "tags": []
   },
   "source": [
    "## **Problem Set 3** Execution Control I\n",
    "\n",
    "This is a problem set. You can work on it with the help of your classmates, Google, or ask me any questions you would like.\n",
    "\n",
    "I encourage discussion during these problem sets.  "
   ]
  },
  {
   "cell_type": "code",
   "execution_count": 2,
   "id": "5b487076-710f-4572-a17f-fe9570c93ca4",
   "metadata": {
    "execution": {
     "iopub.execute_input": "2025-10-20T06:09:47.039104Z",
     "iopub.status.busy": "2025-10-20T06:09:47.038931Z",
     "iopub.status.idle": "2025-10-20T06:09:47.084698Z",
     "shell.execute_reply": "2025-10-20T06:09:47.084219Z"
    }
   },
   "outputs": [],
   "source": [
    "import numpy as np"
   ]
  },
  {
   "cell_type": "markdown",
   "id": "421c2a51",
   "metadata": {},
   "source": [
    "1. Write a function called **clip** that takes as input arguments an array of integers **x** and two values **upper** and **lower**.  The function replaces any values in the array greater than **upper** with the value **upper** and lower thant **lower** with the value **lower**.  The function should return the new array with modified values.  Solve the problem using logical indexing.       "
   ]
  },
  {
   "cell_type": "code",
   "execution_count": 3,
   "id": "0e4d9939",
   "metadata": {
    "deletable": false,
    "execution": {
     "iopub.execute_input": "2025-10-20T06:09:47.087368Z",
     "iopub.status.busy": "2025-10-20T06:09:47.087155Z",
     "iopub.status.idle": "2025-10-20T06:09:47.089882Z",
     "shell.execute_reply": "2025-10-20T06:09:47.089336Z"
    },
    "nbgrader": {
     "cell_type": "code",
     "checksum": "b14ddc5e9ae1fcd8c4d197d71881864c",
     "grade": false,
     "grade_id": "cell-ed628adef9122d0e",
     "locked": false,
     "schema_version": 3,
     "solution": true,
     "task": false
    }
   },
   "outputs": [],
   "source": [
    "# YOUR CODE HERE\n",
    "def clip(x, upper, lower):\n",
    "    x[x > upper] = upper\n",
    "    x[x < lower] = lower\n",
    "    return x"
   ]
  },
  {
   "cell_type": "code",
   "execution_count": 4,
   "id": "e7575fa5",
   "metadata": {
    "deletable": false,
    "editable": false,
    "execution": {
     "iopub.execute_input": "2025-10-20T06:09:47.091984Z",
     "iopub.status.busy": "2025-10-20T06:09:47.091827Z",
     "iopub.status.idle": "2025-10-20T06:09:47.094800Z",
     "shell.execute_reply": "2025-10-20T06:09:47.094019Z"
    },
    "nbgrader": {
     "cell_type": "code",
     "checksum": "55004d4f118129e5afdae6ce6af281fb",
     "grade": true,
     "grade_id": "cell-338ae9bd6b6478af",
     "locked": true,
     "points": 2,
     "schema_version": 3,
     "solution": false,
     "task": false
    }
   },
   "outputs": [],
   "source": [
    "x = np.arange(10,200,10)\n",
    "upper = 100\n",
    "lower = 50\n",
    "x = clip(x, upper, lower)\n",
    "assert x[3] == 50  \n",
    "assert x[10] == 100      "
   ]
  },
  {
   "cell_type": "markdown",
   "id": "9f02ee08",
   "metadata": {},
   "source": [
    "2.  A store is having a sale based on what the customer spends. \n",
    "\n",
    "* If they spend less than 100, they receive no discount.\n",
    "* If the user spends between 100 and 150, they receive 25 off.\n",
    "* If they user spends 150 or more, they receive 50 off. \n",
    "\n",
    "Write a function **discount** that calculates the sale price the customer pays.\n",
    "\n",
    "The argument for this function is the price of the items the customer purchases. "
   ]
  },
  {
   "cell_type": "code",
   "execution_count": 5,
   "id": "c1120bbb",
   "metadata": {
    "deletable": false,
    "execution": {
     "iopub.execute_input": "2025-10-20T06:09:47.097022Z",
     "iopub.status.busy": "2025-10-20T06:09:47.096758Z",
     "iopub.status.idle": "2025-10-20T06:09:47.099990Z",
     "shell.execute_reply": "2025-10-20T06:09:47.099212Z"
    },
    "nbgrader": {
     "cell_type": "code",
     "checksum": "e2d5583b871394d7d164ccef2559f5cd",
     "grade": false,
     "grade_id": "cell-59ac799a002e3ebb",
     "locked": false,
     "schema_version": 3,
     "solution": true,
     "task": false
    }
   },
   "outputs": [],
   "source": [
    "# YOUR CODE HERE\n",
    "def discount(price):\n",
    "    if price < 100:\n",
    "        return saleprice\n",
    "    elif price >= 100 and price < 150:\n",
    "        saleprice = price - 25\n",
    "        return saleprice\n",
    "    elif price >= 150:\n",
    "        saleprice = price - 50\n",
    "        return saleprice"
   ]
  },
  {
   "cell_type": "code",
   "execution_count": 6,
   "id": "4b9a2365",
   "metadata": {
    "deletable": false,
    "editable": false,
    "execution": {
     "iopub.execute_input": "2025-10-20T06:09:47.102490Z",
     "iopub.status.busy": "2025-10-20T06:09:47.102340Z",
     "iopub.status.idle": "2025-10-20T06:09:47.250274Z",
     "shell.execute_reply": "2025-10-20T06:09:47.249831Z"
    },
    "nbgrader": {
     "cell_type": "code",
     "checksum": "42ebc195c989dfea358b237a571c0392",
     "grade": true,
     "grade_id": "cell-15bef6706414f9c7",
     "locked": true,
     "points": 2,
     "schema_version": 3,
     "solution": false,
     "task": false
    }
   },
   "outputs": [
    {
     "ename": "UnboundLocalError",
     "evalue": "cannot access local variable 'saleprice' where it is not associated with a value",
     "output_type": "error",
     "traceback": [
      "\u001b[31m---------------------------------------------------------------------------\u001b[39m",
      "\u001b[31mUnboundLocalError\u001b[39m                         Traceback (most recent call last)",
      "\u001b[36mCell\u001b[39m\u001b[36m \u001b[39m\u001b[32mIn[6]\u001b[39m\u001b[32m, line 2\u001b[39m\n\u001b[32m      1\u001b[39m price = \u001b[32m90\u001b[39m\n\u001b[32m----> \u001b[39m\u001b[32m2\u001b[39m saleprice = \u001b[43mdiscount\u001b[49m\u001b[43m(\u001b[49m\u001b[43mprice\u001b[49m\u001b[43m)\u001b[49m\n\u001b[32m      3\u001b[39m \u001b[38;5;28;01massert\u001b[39;00m saleprice == price\n",
      "\u001b[36mCell\u001b[39m\u001b[36m \u001b[39m\u001b[32mIn[5]\u001b[39m\u001b[32m, line 4\u001b[39m, in \u001b[36mdiscount\u001b[39m\u001b[34m(price)\u001b[39m\n\u001b[32m      2\u001b[39m \u001b[38;5;28;01mdef\u001b[39;00m\u001b[38;5;250m \u001b[39m\u001b[34mdiscount\u001b[39m(price):\n\u001b[32m      3\u001b[39m     \u001b[38;5;28;01mif\u001b[39;00m price < \u001b[32m100\u001b[39m:\n\u001b[32m----> \u001b[39m\u001b[32m4\u001b[39m         \u001b[38;5;28;01mreturn\u001b[39;00m \u001b[43msaleprice\u001b[49m\n\u001b[32m      5\u001b[39m     \u001b[38;5;28;01melif\u001b[39;00m price >= \u001b[32m100\u001b[39m \u001b[38;5;129;01mand\u001b[39;00m price < \u001b[32m150\u001b[39m:\n\u001b[32m      6\u001b[39m         saleprice = price - \u001b[32m25\u001b[39m\n",
      "\u001b[31mUnboundLocalError\u001b[39m: cannot access local variable 'saleprice' where it is not associated with a value"
     ]
    }
   ],
   "source": [
    "price = 90\n",
    "saleprice = discount(price)\n",
    "assert saleprice == price"
   ]
  },
  {
   "cell_type": "code",
   "execution_count": 7,
   "id": "dd98f284",
   "metadata": {
    "deletable": false,
    "editable": false,
    "execution": {
     "iopub.execute_input": "2025-10-20T06:09:47.252682Z",
     "iopub.status.busy": "2025-10-20T06:09:47.252473Z",
     "iopub.status.idle": "2025-10-20T06:09:47.255274Z",
     "shell.execute_reply": "2025-10-20T06:09:47.254650Z"
    },
    "nbgrader": {
     "cell_type": "code",
     "checksum": "d646d6da7a9d8814d95dc472b8e8a1bd",
     "grade": true,
     "grade_id": "cell-3d940bd592341be5",
     "locked": true,
     "points": 2,
     "schema_version": 3,
     "solution": false,
     "task": false
    }
   },
   "outputs": [],
   "source": [
    "price = 120\n",
    "saleprice = discount(price)\n",
    "assert saleprice == price-25"
   ]
  },
  {
   "cell_type": "code",
   "execution_count": 8,
   "id": "8821e1a9",
   "metadata": {
    "deletable": false,
    "editable": false,
    "execution": {
     "iopub.execute_input": "2025-10-20T06:09:47.257402Z",
     "iopub.status.busy": "2025-10-20T06:09:47.257235Z",
     "iopub.status.idle": "2025-10-20T06:09:47.259829Z",
     "shell.execute_reply": "2025-10-20T06:09:47.259108Z"
    },
    "nbgrader": {
     "cell_type": "code",
     "checksum": "7ffeccca8bb3926d052b93c1a6270b1b",
     "grade": true,
     "grade_id": "cell-d02ff3e5ae414724",
     "locked": true,
     "points": 2,
     "schema_version": 3,
     "solution": false,
     "task": false
    }
   },
   "outputs": [],
   "source": [
    "price = 150\n",
    "saleprice = discount(price)\n",
    "assert saleprice == price-50"
   ]
  },
  {
   "cell_type": "markdown",
   "id": "e1460431",
   "metadata": {},
   "source": [
    "3. Write a function called **trianglename**. \n",
    "- The input arguments to the function are the lengths of the 3 sides of the triangle - a, b and c.  \n",
    "- Your function should use a statement of the type (`if`-`elif`-`else`) to determine if the triangle is 'equilateral', 'isosceles' or 'obtuse' and return the correct triangle name \n",
    "* 'equilateral' means all sides are equal, \n",
    "* 'isosceles' means two of the sides are equal but not the third one, \n",
    "* 'obtuse' means all 3 sides are different.\n",
    "- There is no preferred way to do this problem, and there are many possible solutions. \n",
    "- Note that I have created 3 test cases here. When testing a piece of code, you should always test that all possible cases work. "
   ]
  },
  {
   "cell_type": "code",
   "execution_count": 9,
   "id": "64edb1c1",
   "metadata": {
    "deletable": false,
    "execution": {
     "iopub.execute_input": "2025-10-20T06:09:47.261907Z",
     "iopub.status.busy": "2025-10-20T06:09:47.261692Z",
     "iopub.status.idle": "2025-10-20T06:09:47.264666Z",
     "shell.execute_reply": "2025-10-20T06:09:47.264048Z"
    },
    "nbgrader": {
     "cell_type": "code",
     "checksum": "5377333dab7b33f2e66b6f702d21929a",
     "grade": false,
     "grade_id": "cell-6a863cd8f2f710ce",
     "locked": false,
     "schema_version": 3,
     "solution": true,
     "task": false
    }
   },
   "outputs": [],
   "source": [
    "# YOUR CODE HERE\n",
    "def trianglename(a, b, c):\n",
    "    if a == b == c:\n",
    "        return 'equilateral'\n",
    "    elif a == b != c or a != b == c or a == c != b:\n",
    "        return 'isosceles'\n",
    "    else:\n",
    "        return  'obtuse'"
   ]
  },
  {
   "cell_type": "code",
   "execution_count": 10,
   "id": "48b56591",
   "metadata": {
    "deletable": false,
    "editable": false,
    "execution": {
     "iopub.execute_input": "2025-10-20T06:09:47.266629Z",
     "iopub.status.busy": "2025-10-20T06:09:47.266425Z",
     "iopub.status.idle": "2025-10-20T06:09:47.269145Z",
     "shell.execute_reply": "2025-10-20T06:09:47.268751Z"
    },
    "nbgrader": {
     "cell_type": "code",
     "checksum": "7a599bc7e5eba2331a92385b05c37afc",
     "grade": true,
     "grade_id": "cell-616f43338754cde7",
     "locked": true,
     "points": 2,
     "schema_version": 3,
     "solution": false,
     "task": false
    }
   },
   "outputs": [],
   "source": [
    "x = 6 \n",
    "y = 7\n",
    "z = 7\n",
    "triangle = trianglename(x,y,z)\n",
    "assert triangle == 'isosceles'"
   ]
  },
  {
   "cell_type": "code",
   "execution_count": 11,
   "id": "d35e2673",
   "metadata": {
    "deletable": false,
    "editable": false,
    "execution": {
     "iopub.execute_input": "2025-10-20T06:09:47.271279Z",
     "iopub.status.busy": "2025-10-20T06:09:47.271121Z",
     "iopub.status.idle": "2025-10-20T06:09:47.273849Z",
     "shell.execute_reply": "2025-10-20T06:09:47.273456Z"
    },
    "nbgrader": {
     "cell_type": "code",
     "checksum": "2359babd1ddd96a0b0fd9f7cfb1ae65a",
     "grade": true,
     "grade_id": "cell-bf336b105b6ecee5",
     "locked": true,
     "points": 2,
     "schema_version": 3,
     "solution": false,
     "task": false
    }
   },
   "outputs": [],
   "source": [
    "x = 7 \n",
    "y = 7\n",
    "z = 7\n",
    "triangle = trianglename(x,y,z)\n",
    "assert triangle == 'equilateral'"
   ]
  },
  {
   "cell_type": "code",
   "execution_count": 12,
   "id": "03fb174a",
   "metadata": {
    "deletable": false,
    "editable": false,
    "execution": {
     "iopub.execute_input": "2025-10-20T06:09:47.276049Z",
     "iopub.status.busy": "2025-10-20T06:09:47.275846Z",
     "iopub.status.idle": "2025-10-20T06:09:47.278459Z",
     "shell.execute_reply": "2025-10-20T06:09:47.277943Z"
    },
    "nbgrader": {
     "cell_type": "code",
     "checksum": "f5ac74f7419830a4a346664549fd6ebf",
     "grade": true,
     "grade_id": "cell-d88d286035d01233",
     "locked": true,
     "points": 2,
     "schema_version": 3,
     "solution": false,
     "task": false
    }
   },
   "outputs": [],
   "source": [
    "x = 6 \n",
    "y = 7\n",
    "z = 8\n",
    "triangle = trianglename(x,y,z)\n",
    "assert triangle == 'obtuse'"
   ]
  },
  {
   "cell_type": "markdown",
   "id": "8405501c",
   "metadata": {},
   "source": [
    "4.  Write a function  that checks if a positive whole number provided as an argument is a prime number. The function should return the string 'prime' if the number is prime, and 'not prime' if the number is not prime. A prime number is divisible by exactly two numbers: itself and 1.  Do not use any loops (if you know how to use them).\n",
    "\n",
    "   Hint:  \n",
    "* % tells you the remainder when dividing a number by a number or an array\n",
    "* np.arange can be used to make an array"
   ]
  },
  {
   "cell_type": "code",
   "execution_count": 13,
   "id": "9be46d7f",
   "metadata": {
    "deletable": false,
    "execution": {
     "iopub.execute_input": "2025-10-20T06:09:47.280622Z",
     "iopub.status.busy": "2025-10-20T06:09:47.280411Z",
     "iopub.status.idle": "2025-10-20T06:09:47.283184Z",
     "shell.execute_reply": "2025-10-20T06:09:47.282531Z"
    },
    "nbgrader": {
     "cell_type": "code",
     "checksum": "464448a66831d65a84781ede63834992",
     "grade": false,
     "grade_id": "cell-abac5d0d0749ddd6",
     "locked": false,
     "schema_version": 3,
     "solution": true,
     "task": false
    }
   },
   "outputs": [],
   "source": [
    "# YOUR CODE HERE\n",
    "def isprime(p):\n",
    "    n = np.arange(2, p, 1)\n",
    "    if np.any(p % n == 0):\n",
    "        return 'not prime'\n",
    "    elif p == 1:\n",
    "        return 'not prime'\n",
    "    else:\n",
    "        return 'prime'"
   ]
  },
  {
   "cell_type": "code",
   "execution_count": 14,
   "id": "8daed8d5",
   "metadata": {
    "deletable": false,
    "editable": false,
    "execution": {
     "iopub.execute_input": "2025-10-20T06:09:47.285360Z",
     "iopub.status.busy": "2025-10-20T06:09:47.285139Z",
     "iopub.status.idle": "2025-10-20T06:09:47.287716Z",
     "shell.execute_reply": "2025-10-20T06:09:47.287310Z"
    },
    "nbgrader": {
     "cell_type": "code",
     "checksum": "5c881501447dd790da5436a7e1fa7b39",
     "grade": true,
     "grade_id": "cell-735b98f4df1eca7d",
     "locked": true,
     "points": 2,
     "schema_version": 3,
     "solution": false,
     "task": false
    }
   },
   "outputs": [],
   "source": [
    "assert isprime(8) == 'not prime'\n",
    "### BEGIN HIDDEN TESTS ###\n",
    "assert isprime(7) == 'prime'\n",
    "### END HIDDEN TESTS ###"
   ]
  },
  {
   "cell_type": "code",
   "execution_count": 15,
   "id": "bd6e86d5-d065-4279-9e41-a9a5f5fac713",
   "metadata": {
    "deletable": false,
    "editable": false,
    "execution": {
     "iopub.execute_input": "2025-10-20T06:09:47.289952Z",
     "iopub.status.busy": "2025-10-20T06:09:47.289700Z",
     "iopub.status.idle": "2025-10-20T06:09:47.292440Z",
     "shell.execute_reply": "2025-10-20T06:09:47.291744Z"
    },
    "nbgrader": {
     "cell_type": "code",
     "checksum": "834bdb02c5c1ebcdef322190c0e19512",
     "grade": true,
     "grade_id": "cell-13196bb4dcd60f06",
     "locked": true,
     "points": 2,
     "schema_version": 3,
     "solution": false,
     "task": false
    }
   },
   "outputs": [],
   "source": [
    "assert isprime(31) == 'prime'\n",
    "### BEGIN HIDDEN TESTS ###\n",
    "assert isprime(30) == 'not prime'\n",
    "### END HIDDEN TESTS ###"
   ]
  },
  {
   "cell_type": "code",
   "execution_count": 16,
   "id": "04dee51c-16ab-46e2-9ccb-1d18d3cb70c8",
   "metadata": {
    "deletable": false,
    "editable": false,
    "execution": {
     "iopub.execute_input": "2025-10-20T06:09:47.294640Z",
     "iopub.status.busy": "2025-10-20T06:09:47.294426Z",
     "iopub.status.idle": "2025-10-20T06:09:47.296880Z",
     "shell.execute_reply": "2025-10-20T06:09:47.296264Z"
    },
    "nbgrader": {
     "cell_type": "code",
     "checksum": "944e2dc6f92a22797d37e02e98fdef42",
     "grade": true,
     "grade_id": "cell-634914584a356eb3",
     "locked": true,
     "points": 2,
     "schema_version": 3,
     "solution": false,
     "task": false
    }
   },
   "outputs": [],
   "source": [
    "assert isprime(1) == 'not prime'"
   ]
  }
 ],
 "metadata": {
  "kernelspec": {
   "display_name": "Python 3 (ipykernel)",
   "language": "python",
   "name": "python3"
  },
  "language_info": {
   "codemirror_mode": {
    "name": "ipython",
    "version": 3
   },
   "file_extension": ".py",
   "mimetype": "text/x-python",
   "name": "python",
   "nbconvert_exporter": "python",
   "pygments_lexer": "ipython3",
   "version": "3.13.7"
  }
 },
 "nbformat": 4,
 "nbformat_minor": 5
}
