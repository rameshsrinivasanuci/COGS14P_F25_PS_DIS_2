{
 "cells": [
  {
   "cell_type": "markdown",
   "id": "084807b0",
   "metadata": {},
   "source": [
    "Before you turn this problem in, make sure everything runs as expected. First, **restart the kernel** (in the menubar, select  **Restart** and **Clear All Outputs**, then select **Run All**).\n",
    "\n",
    "Make sure you fill in any place that says `YOUR CODE HERE` or \"YOUR ANSWER HERE\", as well as your name and collaborators below:"
   ]
  },
  {
   "cell_type": "code",
   "execution_count": 1,
   "id": "6e887d80",
   "metadata": {
    "execution": {
     "iopub.execute_input": "2025-10-20T06:30:12.418004Z",
     "iopub.status.busy": "2025-10-20T06:30:12.417744Z",
     "iopub.status.idle": "2025-10-20T06:30:12.422770Z",
     "shell.execute_reply": "2025-10-20T06:30:12.422295Z"
    }
   },
   "outputs": [],
   "source": [
    "NAME = \"Mikaia Tweedie\"\n",
    "COLLABORATORS = \"Saitama\""
   ]
  },
  {
   "cell_type": "markdown",
   "id": "4eb6bcce",
   "metadata": {},
   "source": [
    "---"
   ]
  },
  {
   "cell_type": "markdown",
   "id": "a9bfcbd5-7ea2-41b2-a847-f4327e17ab82",
   "metadata": {
    "tags": []
   },
   "source": [
    "# **Problem Set 2**:  Random Numbers, Array Methods, Functions\n",
    "\n",
    "* This is a problem set.  You can work on it with the help of your classmates, Google, or ask us any questions you would like.  \n",
    "* I encourage discussion during these problem sets.    \n",
    "* In order for automatic grading and validation to work, it is very important that you make use of the exact variable names specified in the problem statement.\n",
    "* I will always place these variable names that must be used for automatic grading in **bold**"
   ]
  },
  {
   "cell_type": "code",
   "execution_count": 2,
   "id": "1a710a17-1378-4a7a-85b7-f518ed4d0bca",
   "metadata": {
    "execution": {
     "iopub.execute_input": "2025-10-20T06:30:12.425039Z",
     "iopub.status.busy": "2025-10-20T06:30:12.424855Z",
     "iopub.status.idle": "2025-10-20T06:30:12.486980Z",
     "shell.execute_reply": "2025-10-20T06:30:12.486507Z"
    }
   },
   "outputs": [],
   "source": [
    "# your going to need numpy and a random number generator to do this assignment \n",
    "import numpy as np \n",
    "from numpy import random\n",
    "rng = random.default_rng(seed = 2025)"
   ]
  },
  {
   "cell_type": "markdown",
   "id": "3d421e26",
   "metadata": {},
   "source": [
    "1. Create an array **hexdice** with 20 random numbers with values ranging from 1 to 16 (inclusive). Sort the array **hexdice** into descending order, i.e., from largest to smallest.  The answer should still be in the array **hexdice**"
   ]
  },
  {
   "cell_type": "code",
   "execution_count": 3,
   "id": "1cdaadd4",
   "metadata": {
    "deletable": false,
    "execution": {
     "iopub.execute_input": "2025-10-20T06:30:12.489536Z",
     "iopub.status.busy": "2025-10-20T06:30:12.489326Z",
     "iopub.status.idle": "2025-10-20T06:30:12.493933Z",
     "shell.execute_reply": "2025-10-20T06:30:12.492897Z"
    },
    "nbgrader": {
     "cell_type": "code",
     "checksum": "5c9b1bcf73e618a89fe1c2ff81bdb14a",
     "grade": false,
     "grade_id": "cell-2a0fce76f8a4fcc5",
     "locked": false,
     "schema_version": 3,
     "solution": true,
     "task": false
    }
   },
   "outputs": [
    {
     "name": "stdout",
     "output_type": "stream",
     "text": [
      "[ 7 15 15  6 15 13 10 13 12 15  6  2  7  5  8 14 15 11 10  5]\n",
      "[15 15 15 15 15 14 13 13 12 11 10 10  8  7  7  6  6  5  5  2]\n"
     ]
    }
   ],
   "source": [
    "hexdice = rng.integers(1,16,20)\n",
    "print(hexdice)\n",
    "hexdice = np.flip(np.sort(hexdice))\n",
    "print(hexdice)\n",
    "# YOUR CODE HERE"
   ]
  },
  {
   "cell_type": "code",
   "execution_count": 4,
   "id": "03472f19",
   "metadata": {
    "deletable": false,
    "editable": false,
    "execution": {
     "iopub.execute_input": "2025-10-20T06:30:12.496236Z",
     "iopub.status.busy": "2025-10-20T06:30:12.496095Z",
     "iopub.status.idle": "2025-10-20T06:30:12.498760Z",
     "shell.execute_reply": "2025-10-20T06:30:12.498116Z"
    },
    "nbgrader": {
     "cell_type": "code",
     "checksum": "b4f1c1b41264618c56feda53ce814224",
     "grade": true,
     "grade_id": "cell-c55d53d08cf6fea6",
     "locked": true,
     "points": 3,
     "schema_version": 3,
     "solution": false,
     "task": false
    }
   },
   "outputs": [],
   "source": [
    "assert len(hexdice)== 20\n",
    "assert np.argmax(hexdice) == 0 "
   ]
  },
  {
   "cell_type": "markdown",
   "id": "4fce0eec",
   "metadata": {},
   "source": [
    "2. Write a function **normalize** that takes a numpy array **x** and divides the array by the maximum value in the array and returns an array containing these normalized values.  You should start your function with,\n",
    "\n",
    "       def normalize(x):\n",
    "\n",
    "Don't forget to indent your code under the def statement, and to end your function with a return statement.     "
   ]
  },
  {
   "cell_type": "code",
   "execution_count": 5,
   "id": "4222474d",
   "metadata": {
    "deletable": false,
    "execution": {
     "iopub.execute_input": "2025-10-20T06:30:12.500830Z",
     "iopub.status.busy": "2025-10-20T06:30:12.500643Z",
     "iopub.status.idle": "2025-10-20T06:30:12.503340Z",
     "shell.execute_reply": "2025-10-20T06:30:12.502908Z"
    },
    "nbgrader": {
     "cell_type": "code",
     "checksum": "1b7e9c94c77bf9ae0a48dae4f6c37d54",
     "grade": false,
     "grade_id": "cell-b6350c0476590c1e",
     "locked": false,
     "schema_version": 3,
     "solution": true,
     "task": false
    }
   },
   "outputs": [],
   "source": [
    "def normalize(x):\n",
    "    m = max(x)\n",
    "    normalize = x/m\n",
    "    return normalize\n",
    "    # YOUR CODE HERE"
   ]
  },
  {
   "cell_type": "code",
   "execution_count": 6,
   "id": "a078aebb",
   "metadata": {
    "deletable": false,
    "editable": false,
    "execution": {
     "iopub.execute_input": "2025-10-20T06:30:12.505414Z",
     "iopub.status.busy": "2025-10-20T06:30:12.505232Z",
     "iopub.status.idle": "2025-10-20T06:30:12.508151Z",
     "shell.execute_reply": "2025-10-20T06:30:12.507497Z"
    },
    "nbgrader": {
     "cell_type": "code",
     "checksum": "81979540282f3685164c7fbd37da630a",
     "grade": true,
     "grade_id": "cell-a2fb6ef5fc1c48a6",
     "locked": true,
     "points": 4,
     "schema_version": 3,
     "solution": false,
     "task": false
    }
   },
   "outputs": [],
   "source": [
    "x = rng.uniform(0,10,20)\n",
    "normx = normalize(x) \n",
    "assert np.max(normx) == 1 "
   ]
  },
  {
   "cell_type": "markdown",
   "id": "d87b7d4e",
   "metadata": {},
   "source": [
    "3-5. It is challenging to come up with measures of excellence in individual defense in basketball.  One useful measure of individual defense is to compare the number of steals to fouls. Basketball players are often called for fouls when they try to steal the ball. There are only 4 players in NBA history including 2 active NBA players who steal more than they foul.    \n",
    "\n",
    "Jimmy Butler is a remarkable defender by this measure. The following 3 lists have the years, games, steals, and fouls per game for every season of Jimmy Butler's career (not including his rookie year when he didn't play). Run the next code block so you have the variables available to answer problems 3-5. Answer the questions by writing Python code and using numpy functions, not just by figuring it out in your head.    "
   ]
  },
  {
   "cell_type": "code",
   "execution_count": 7,
   "id": "31b9786b",
   "metadata": {
    "execution": {
     "iopub.execute_input": "2025-10-20T06:30:12.510374Z",
     "iopub.status.busy": "2025-10-20T06:30:12.510169Z",
     "iopub.status.idle": "2025-10-20T06:30:12.513832Z",
     "shell.execute_reply": "2025-10-20T06:30:12.513407Z"
    }
   },
   "outputs": [],
   "source": [
    "years = np.arange(2012,2026)\n",
    "games = [82,67,65,67,75,59,10,55,58,52,57,64,60,55]\n",
    "steals = [1.0,1.9,1.8,1.6,1.9,2.0,2.4,1.8,1.8,2.1,1.6,1.8,1.3,1.7]\n",
    "fouls = [1.2,1.6,1.7,1.9,1.5,1.3,1.8,1.7,1.4,1.4,1.5,1.3,1.1,1.4]\n",
    "\n"
   ]
  },
  {
   "cell_type": "markdown",
   "id": "4e859edb",
   "metadata": {},
   "source": [
    "3. What was the highest steals per game in Jimmy Butler's career. Save this in the variable **best_steals**  What year did Jimmy Butler average the most steals? Save this in the variable **best_year**.  How many fouls did he commit per game in this year?  Save this in the variable **fouls_best_year**"
   ]
  },
  {
   "cell_type": "code",
   "execution_count": 8,
   "id": "ef5a85f0",
   "metadata": {
    "deletable": false,
    "execution": {
     "iopub.execute_input": "2025-10-20T06:30:12.515810Z",
     "iopub.status.busy": "2025-10-20T06:30:12.515668Z",
     "iopub.status.idle": "2025-10-20T06:30:12.519419Z",
     "shell.execute_reply": "2025-10-20T06:30:12.519005Z"
    },
    "nbgrader": {
     "cell_type": "code",
     "checksum": "38a883c87eecdcdfa466a25eef88defa",
     "grade": false,
     "grade_id": "cell-1e855958e42b3792",
     "locked": false,
     "schema_version": 3,
     "solution": true,
     "task": false
    }
   },
   "outputs": [
    {
     "name": "stdout",
     "output_type": "stream",
     "text": [
      "2.4\n",
      "2018\n",
      "1.8\n"
     ]
    }
   ],
   "source": [
    "best_steals = max(steals)\n",
    "print(best_steals)\n",
    "best_year = years[np.argmax(steals)]\n",
    "print(best_year)\n",
    "fouls_best_year = fouls[np.argmax(steals)]\n",
    "print(fouls_best_year)\n",
    "# YOUR CODE HERE"
   ]
  },
  {
   "cell_type": "code",
   "execution_count": 9,
   "id": "ff713809",
   "metadata": {
    "deletable": false,
    "editable": false,
    "execution": {
     "iopub.execute_input": "2025-10-20T06:30:12.522033Z",
     "iopub.status.busy": "2025-10-20T06:30:12.521872Z",
     "iopub.status.idle": "2025-10-20T06:30:12.524389Z",
     "shell.execute_reply": "2025-10-20T06:30:12.523689Z"
    },
    "nbgrader": {
     "cell_type": "code",
     "checksum": "df4d425bd0ebdeb8c1d1ab9b195a86cf",
     "grade": true,
     "grade_id": "cell-044d3ded57226e50",
     "locked": true,
     "points": 1,
     "schema_version": 3,
     "solution": false,
     "task": false
    }
   },
   "outputs": [],
   "source": [
    "assert(best_steals > 2.2)"
   ]
  },
  {
   "cell_type": "code",
   "execution_count": 10,
   "id": "60a6808e-967b-4b7e-bfe2-24080960abbf",
   "metadata": {
    "deletable": false,
    "editable": false,
    "execution": {
     "iopub.execute_input": "2025-10-20T06:30:12.526420Z",
     "iopub.status.busy": "2025-10-20T06:30:12.526271Z",
     "iopub.status.idle": "2025-10-20T06:30:12.528653Z",
     "shell.execute_reply": "2025-10-20T06:30:12.528010Z"
    },
    "nbgrader": {
     "cell_type": "code",
     "checksum": "9abb8a15ea37f3bfbfcb0decf073fcb3",
     "grade": true,
     "grade_id": "cell-dcf744191451f41c",
     "locked": true,
     "points": 2,
     "schema_version": 3,
     "solution": false,
     "task": false
    }
   },
   "outputs": [],
   "source": [
    "assert best_year == 2018"
   ]
  },
  {
   "cell_type": "code",
   "execution_count": 11,
   "id": "70115ec8",
   "metadata": {
    "deletable": false,
    "editable": false,
    "execution": {
     "iopub.execute_input": "2025-10-20T06:30:12.530777Z",
     "iopub.status.busy": "2025-10-20T06:30:12.530570Z",
     "iopub.status.idle": "2025-10-20T06:30:12.532843Z",
     "shell.execute_reply": "2025-10-20T06:30:12.532448Z"
    },
    "nbgrader": {
     "cell_type": "code",
     "checksum": "f7efc30ed8ab304d94628b35c59a4337",
     "grade": true,
     "grade_id": "cell-9bdfb06a665f56c8",
     "locked": true,
     "points": 2,
     "schema_version": 3,
     "solution": false,
     "task": false
    }
   },
   "outputs": [],
   "source": [
    "assert fouls_best_year == 1.8"
   ]
  },
  {
   "cell_type": "markdown",
   "id": "f2956d08",
   "metadata": {},
   "source": [
    "4.    Write a function `weightedaverage` that computes a weighted average.\n",
    "*  input arguments are the array **data** and an array **weights**.\n",
    "*  The function should multiply the **data** by **weights**.\n",
    "*  Then it should sum that product using `np.sum`\n",
    "*  Then divide by the sum of the **weights** also obtained using `np.sum`.\n",
    "\n",
    "This is how you compute a *weighted average*. \n",
    "\n",
    "Start your function like this\n",
    "\n",
    "    def weightedaverage(data,weights):\n",
    "\n",
    "be sure to end the function with a `return` statement to return the weighted average value to global namespace.  "
   ]
  },
  {
   "cell_type": "code",
   "execution_count": 12,
   "id": "087cc3cf",
   "metadata": {
    "deletable": false,
    "execution": {
     "iopub.execute_input": "2025-10-20T06:30:12.535031Z",
     "iopub.status.busy": "2025-10-20T06:30:12.534870Z",
     "iopub.status.idle": "2025-10-20T06:30:12.537642Z",
     "shell.execute_reply": "2025-10-20T06:30:12.536959Z"
    },
    "nbgrader": {
     "cell_type": "code",
     "checksum": "72428a741537024c82c2702934e43613",
     "grade": false,
     "grade_id": "cell-0d8820ed44c65f3f",
     "locked": false,
     "schema_version": 3,
     "solution": true,
     "task": false
    }
   },
   "outputs": [],
   "source": [
    "def weightedaverage(data,weights):\n",
    "    x = data\n",
    "    y = weights\n",
    "    multiply = x*y\n",
    "    sum = np.sum(multiply)\n",
    "    divide = sum/(np.sum(y))\n",
    "    return divide\n",
    "# YOUR CODE HERE"
   ]
  },
  {
   "cell_type": "code",
   "execution_count": 13,
   "id": "ab847920",
   "metadata": {
    "deletable": false,
    "editable": false,
    "execution": {
     "iopub.execute_input": "2025-10-20T06:30:12.539671Z",
     "iopub.status.busy": "2025-10-20T06:30:12.539500Z",
     "iopub.status.idle": "2025-10-20T06:30:12.542237Z",
     "shell.execute_reply": "2025-10-20T06:30:12.541658Z"
    },
    "nbgrader": {
     "cell_type": "code",
     "checksum": "016602c056bc2330dfe625bcd5736e8a",
     "grade": true,
     "grade_id": "cell-ccc53701ebbe194a",
     "locked": true,
     "points": 2,
     "schema_version": 3,
     "solution": false,
     "task": false
    }
   },
   "outputs": [],
   "source": [
    "data = np.array([1,2,4])\n",
    "weights = np.array([2,2,1])\n",
    "wtavg = weightedaverage(data,weights)\n",
    "assert wtavg == 2"
   ]
  },
  {
   "cell_type": "code",
   "execution_count": 14,
   "id": "2c5cd74f",
   "metadata": {
    "deletable": false,
    "editable": false,
    "execution": {
     "iopub.execute_input": "2025-10-20T06:30:12.544426Z",
     "iopub.status.busy": "2025-10-20T06:30:12.544264Z",
     "iopub.status.idle": "2025-10-20T06:30:12.547116Z",
     "shell.execute_reply": "2025-10-20T06:30:12.546411Z"
    },
    "nbgrader": {
     "cell_type": "code",
     "checksum": "5b7651f3e00dc0ea1e45d72af062fe5a",
     "grade": true,
     "grade_id": "cell-324f1bd834a3b822",
     "locked": true,
     "points": 2,
     "schema_version": 3,
     "solution": false,
     "task": false
    }
   },
   "outputs": [],
   "source": [
    "data = np.array([1,2,3,4,5])\n",
    "weights = np.array([2,4,1,1,2])\n",
    "wtavg = weightedaverage(data,weights)\n",
    "assert wtavg == 2.7"
   ]
  },
  {
   "cell_type": "markdown",
   "id": "f1d6e283",
   "metadata": {},
   "source": [
    "5. We want to compute Jimmy Butler's career averages of steals and fouls.  The data provided are yearly averages.\n",
    "If we using a simple mean or median to compute Jimmy Butler's career average we dont take into account that he played a *different number of games each year*. For example. in one year he got injured and only played in 10 games (see **games**)\n",
    "* We want to *weight* the average of his yearly statistics by the number of games played each year. \n",
    "* The list **games** indicates the number of games played in each year.  \n",
    "* Use your function `weightedaverage` to compute a weighted average of Jimmy's steals per game in a variable named **average_steals** and a weighted average of the number of fouls per game in a variable named **average_fouls**.  "
   ]
  },
  {
   "cell_type": "code",
   "execution_count": 15,
   "id": "afcb7559",
   "metadata": {
    "deletable": false,
    "execution": {
     "iopub.execute_input": "2025-10-20T06:30:12.549230Z",
     "iopub.status.busy": "2025-10-20T06:30:12.549076Z",
     "iopub.status.idle": "2025-10-20T06:30:12.552996Z",
     "shell.execute_reply": "2025-10-20T06:30:12.551768Z"
    },
    "nbgrader": {
     "cell_type": "code",
     "checksum": "39f49af19525ff1b7161b1eb5e841b61",
     "grade": false,
     "grade_id": "cell-a6cb876518bc27b9",
     "locked": false,
     "schema_version": 3,
     "solution": true,
     "task": false
    }
   },
   "outputs": [
    {
     "name": "stdout",
     "output_type": "stream",
     "text": [
      "1.7052058111380146\n",
      "1.4646489104116223\n"
     ]
    }
   ],
   "source": [
    "s =np.array(steals)\n",
    "g =np.array(games)\n",
    "average_steals = weightedaverage(s,g)\n",
    "print(average_steals)\n",
    "\n",
    "f =np.array(fouls)\n",
    "average_fouls= weightedaverage(f,g)\n",
    "print(average_fouls)\n",
    "# YOUR CODE HERE"
   ]
  },
  {
   "cell_type": "code",
   "execution_count": 16,
   "id": "8d53cd9c",
   "metadata": {
    "deletable": false,
    "editable": false,
    "execution": {
     "iopub.execute_input": "2025-10-20T06:30:12.555078Z",
     "iopub.status.busy": "2025-10-20T06:30:12.554896Z",
     "iopub.status.idle": "2025-10-20T06:30:12.557832Z",
     "shell.execute_reply": "2025-10-20T06:30:12.557412Z"
    },
    "nbgrader": {
     "cell_type": "code",
     "checksum": "e3a90588bae39ec493cef69027cf8dfd",
     "grade": true,
     "grade_id": "cell-83ed95c7aa9c856a",
     "locked": true,
     "points": 4,
     "schema_version": 3,
     "solution": false,
     "task": false
    }
   },
   "outputs": [],
   "source": [
    "assert np.isclose(average_steals,1.71,rtol=0.05)\n",
    "assert np.isclose(average_fouls,1.47,rtol=0.05)\n"
   ]
  }
 ],
 "metadata": {
  "kernelspec": {
   "display_name": "mytest",
   "language": "python",
   "name": "python3"
  },
  "language_info": {
   "codemirror_mode": {
    "name": "ipython",
    "version": 3
   },
   "file_extension": ".py",
   "mimetype": "text/x-python",
   "name": "python",
   "nbconvert_exporter": "python",
   "pygments_lexer": "ipython3",
   "version": "3.13.7"
  }
 },
 "nbformat": 4,
 "nbformat_minor": 5
}
