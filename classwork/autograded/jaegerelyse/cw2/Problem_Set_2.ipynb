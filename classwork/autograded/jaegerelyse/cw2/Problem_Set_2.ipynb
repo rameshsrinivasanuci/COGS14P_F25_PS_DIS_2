{
 "cells": [
  {
   "cell_type": "markdown",
   "metadata": {
    "slideshow": {
     "slide_type": "slide"
    }
   },
   "source": [
    "## Lecture 3 Random Number Generators and Array Methods"
   ]
  },
  {
   "cell_type": "markdown",
   "metadata": {
    "slideshow": {
     "slide_type": "fragment"
    }
   },
   "source": [
    "## What is NumPy -> **Num**erical **Py**thon.  \n",
    "* NumPy provides data types -> arrays that facilitate scientific computing with the Python language. \n",
    "* NumPy provides **functions** that compute on arrays to evaluate mathematical functions\n",
    "* This week's homework will have you explore some of those functions on your own. \n",
    "* Todays lecture will focus on a special class of functions "
   ]
  },
  {
   "cell_type": "code",
   "execution_count": 1,
   "metadata": {
    "execution": {
     "iopub.execute_input": "2025-10-20T06:29:33.616160Z",
     "iopub.status.busy": "2025-10-20T06:29:33.615944Z",
     "iopub.status.idle": "2025-10-20T06:29:33.667015Z",
     "shell.execute_reply": "2025-10-20T06:29:33.666547Z"
    },
    "slideshow": {
     "slide_type": "fragment"
    }
   },
   "outputs": [],
   "source": [
    "import numpy as np"
   ]
  },
  {
   "cell_type": "markdown",
   "metadata": {
    "slideshow": {
     "slide_type": "slide"
    },
    "tags": []
   },
   "source": [
    "## Random Number Generators\n",
    "\n",
    "* Random number generation is a process by which, often by means of a random number **Generator** object, a sequence of numbers or symbols that cannot be reasonably predicted better than by random chance is generated. \n",
    "\n",
    "* Some of these have existed since ancient times, among whose ranks are well-known \"classic\" examples, including the rolling of dice or coin flipping, the shuffling of playing cards.  \n",
    "\n",
    "* I am going make use of random numbers here today just to make examples on how to handle arrays, and how to use numpy functions. \n",
    "\n",
    "* **Importantly, I will show you here how to make random number sequences that you can reproduce** \n",
    "\n",
    "* Computer generated random numbers are strictly **pseudo-random**\n"
   ]
  },
  {
   "cell_type": "markdown",
   "metadata": {
    "slideshow": {
     "slide_type": "slide"
    },
    "tags": []
   },
   "source": [
    "## Loading Submodules\n",
    "\n",
    "* `numpy` has a *lot* of built in functions.   More than I know! \n",
    "\n",
    "* Some of the functions are organized into **submodules** that group together functions of a particular type.\n",
    "\n",
    "* We can ask python to load a specific submodule, in order to refer to it directly. \n",
    "\n"
   ]
  },
  {
   "cell_type": "markdown",
   "metadata": {
    "slideshow": {
     "slide_type": "slide"
    }
   },
   "source": [
    "## The `random` submodule\n",
    "\n",
    "`from numpy import random`\n",
    "\n",
    "* In the above line I import the specific **submodule** `random` from `numpy`.  \n",
    "\n",
    "* I am going to call functions or methods from the submodule `random``. If I just import numpy, I would have to refer to a function in random as  \n",
    "\n",
    "`np.random.function_name`\n",
    "\n",
    "* I want to be able to not type np every time.  \n",
    "\n",
    "* You can always import submodules and specific functions by name to avoid having to write out the module or submodule they come from.  "
   ]
  },
  {
   "cell_type": "code",
   "execution_count": 2,
   "metadata": {
    "execution": {
     "iopub.execute_input": "2025-10-20T06:29:33.669753Z",
     "iopub.status.busy": "2025-10-20T06:29:33.669542Z",
     "iopub.status.idle": "2025-10-20T06:29:33.682898Z",
     "shell.execute_reply": "2025-10-20T06:29:33.682465Z"
    },
    "slideshow": {
     "slide_type": "fragment"
    },
    "tags": []
   },
   "outputs": [],
   "source": [
    "from numpy import random "
   ]
  },
  {
   "cell_type": "markdown",
   "metadata": {
    "slideshow": {
     "slide_type": "slide"
    },
    "tags": []
   },
   "source": [
    "## Create and *seed* the random number generator\n",
    "\n",
    "* The first step is to create a random number generator object **rng** using the method `default_rng`.  \n",
    "* In order to control the random number generator we will set the **seed** of the random number generator.\n",
    "* The **seed** of the random number generator controls the random number sequence generated.  \n",
    "* **If you enter the same seed, you will always get the same sequence of random numbers**\n",
    "* The **seed** of a random number generator is any integer\n"
   ]
  },
  {
   "cell_type": "code",
   "execution_count": 3,
   "metadata": {
    "execution": {
     "iopub.execute_input": "2025-10-20T06:29:33.685352Z",
     "iopub.status.busy": "2025-10-20T06:29:33.685111Z",
     "iopub.status.idle": "2025-10-20T06:29:33.687974Z",
     "shell.execute_reply": "2025-10-20T06:29:33.687472Z"
    },
    "slideshow": {
     "slide_type": "fragment"
    },
    "tags": []
   },
   "outputs": [],
   "source": [
    "#set the seed for the random number generator\n",
    "myseed = 1234\n",
    "#create the random number generator object\n",
    "rng = random.default_rng(seed = myseed)"
   ]
  },
  {
   "cell_type": "markdown",
   "metadata": {
    "slideshow": {
     "slide_type": "slide"
    },
    "tags": []
   },
   "source": [
    "## Random Integers\n",
    "\n",
    "* In order to generate integers, we can use the method `integers`.  To use this method, we have to specify\n",
    "\n",
    "`my_integers = rng.integers(low,high,size)` \n",
    "\n",
    "* Here low is the lowest integer (inclusive), high is the highest integers (exclusive)\n",
    "* size is the dimensions of the numpy array to be created. For a simple array, it is number of random numbers to generate.   "
   ]
  },
  {
   "cell_type": "markdown",
   "metadata": {
    "slideshow": {
     "slide_type": "subslide"
    }
   },
   "source": [
    "* Dice have (usually) 6 faces with the numbers 1 through 6 "
   ]
  },
  {
   "cell_type": "code",
   "execution_count": 4,
   "metadata": {
    "execution": {
     "iopub.execute_input": "2025-10-20T06:29:33.690123Z",
     "iopub.status.busy": "2025-10-20T06:29:33.689938Z",
     "iopub.status.idle": "2025-10-20T06:29:33.693244Z",
     "shell.execute_reply": "2025-10-20T06:29:33.692444Z"
    },
    "slideshow": {
     "slide_type": "fragment"
    },
    "tags": []
   },
   "outputs": [
    {
     "name": "stdout",
     "output_type": "stream",
     "text": [
      "[6 6 6 3 2 6 1 2 1 2]\n"
     ]
    }
   ],
   "source": [
    "rint1 = rng.integers(1,7,10)\n",
    "print(rint1)"
   ]
  },
  {
   "cell_type": "markdown",
   "metadata": {
    "slideshow": {
     "slide_type": "fragment"
    },
    "tags": []
   },
   "source": [
    "* The output is what you might see if you rolled 10 different 6 sided die.  "
   ]
  },
  {
   "cell_type": "code",
   "execution_count": 5,
   "metadata": {
    "execution": {
     "iopub.execute_input": "2025-10-20T06:29:33.696124Z",
     "iopub.status.busy": "2025-10-20T06:29:33.695933Z",
     "iopub.status.idle": "2025-10-20T06:29:33.699546Z",
     "shell.execute_reply": "2025-10-20T06:29:33.698708Z"
    },
    "slideshow": {
     "slide_type": "fragment"
    },
    "tags": []
   },
   "outputs": [
    {
     "name": "stdout",
     "output_type": "stream",
     "text": [
      "[4 1 5 2 5 2 5 6 6 2]\n"
     ]
    }
   ],
   "source": [
    "rint2 = rng.integers(1,7,10)\n",
    "print(rint2)"
   ]
  },
  {
   "cell_type": "markdown",
   "metadata": {
    "slideshow": {
     "slide_type": "slide"
    },
    "tags": []
   },
   "source": [
    "* Naturally, since these are random numbers, mimicking die rolls, I get different numbers. \n",
    "\n",
    "* But if we reset the random number seed, we will get the same random numbers. "
   ]
  },
  {
   "cell_type": "code",
   "execution_count": 6,
   "metadata": {
    "execution": {
     "iopub.execute_input": "2025-10-20T06:29:33.701738Z",
     "iopub.status.busy": "2025-10-20T06:29:33.701561Z",
     "iopub.status.idle": "2025-10-20T06:29:33.705306Z",
     "shell.execute_reply": "2025-10-20T06:29:33.704432Z"
    },
    "slideshow": {
     "slide_type": "fragment"
    },
    "tags": []
   },
   "outputs": [
    {
     "name": "stdout",
     "output_type": "stream",
     "text": [
      "rint3:  [6 6 6 3 2 6 1 2 1 2]\n",
      "rint1:  [6 6 6 3 2 6 1 2 1 2]\n"
     ]
    }
   ],
   "source": [
    "myseed = 1234\n",
    "rng = random.default_rng(seed = myseed)\n",
    "rint3 = rng.integers(1,7,10)\n",
    "print('rint3: ',rint3)\n",
    "print('rint1: ',rint1)"
   ]
  },
  {
   "cell_type": "markdown",
   "metadata": {
    "slideshow": {
     "slide_type": "slide"
    },
    "tags": []
   },
   "source": [
    "* The random numbers I get are identical to the first set!\n",
    "* At first, this may seem disturbing and certainly not at all *random*\n",
    "* The way to think about it is that there is an infinite sequence of die rolls.  The seed selects where in the sequence I start to get numbers. "
   ]
  },
  {
   "cell_type": "code",
   "execution_count": 7,
   "metadata": {
    "execution": {
     "iopub.execute_input": "2025-10-20T06:29:33.707630Z",
     "iopub.status.busy": "2025-10-20T06:29:33.707440Z",
     "iopub.status.idle": "2025-10-20T06:29:33.711399Z",
     "shell.execute_reply": "2025-10-20T06:29:33.710631Z"
    },
    "slideshow": {
     "slide_type": "fragment"
    },
    "tags": []
   },
   "outputs": [
    {
     "name": "stdout",
     "output_type": "stream",
     "text": [
      "[5 1 7 2 7]\n",
      "[-4  6 10 10 -5]\n"
     ]
    }
   ],
   "source": [
    "### 5 random numbers between 0 and 9 \n",
    "rdec = rng.integers(0,10,5)\n",
    "print(rdec)\n",
    "### Lets not forget integers can be negative. between -10 and 10\n",
    "rdec2 = rng.integers(-10,11,5)\n",
    "print(rdec2)"
   ]
  },
  {
   "cell_type": "markdown",
   "metadata": {
    "slideshow": {
     "slide_type": "slide"
    },
    "tags": []
   },
   "source": [
    "## Random floating point numbers from a uniform distribution\n",
    "\n",
    "* In order to generate floating point numbers from a uniform distribution, we can use the method `uniform`.  To use this method to create an array **runiform**, we have to specify, \n",
    "\n",
    "runiform = `rng.uniform`(low,high,size)\n",
    "\n",
    "* These are floating point numbers (real-valued) ranging low (inclusive) to high (exclusive) but can take any value in between with **equal probability**"
   ]
  },
  {
   "cell_type": "code",
   "execution_count": 8,
   "metadata": {
    "execution": {
     "iopub.execute_input": "2025-10-20T06:29:33.713592Z",
     "iopub.status.busy": "2025-10-20T06:29:33.713378Z",
     "iopub.status.idle": "2025-10-20T06:29:33.716769Z",
     "shell.execute_reply": "2025-10-20T06:29:33.716312Z"
    },
    "slideshow": {
     "slide_type": "fragment"
    },
    "tags": []
   },
   "outputs": [
    {
     "name": "stdout",
     "output_type": "stream",
     "text": [
      "[0.44100612 0.60987081 0.8636213  0.86375767 0.67488131 0.65987435\n",
      " 0.7357577  0.22275366 0.17206618 0.87041497]\n"
     ]
    }
   ],
   "source": [
    "runiform = rng.uniform(0,1,10)\n",
    "print(runiform)"
   ]
  },
  {
   "cell_type": "markdown",
   "metadata": {
    "slideshow": {
     "slide_type": "subslide"
    },
    "tags": []
   },
   "source": [
    "* We can increase the range, and incorporate positive and negative numbers"
   ]
  },
  {
   "cell_type": "code",
   "execution_count": 9,
   "metadata": {
    "execution": {
     "iopub.execute_input": "2025-10-20T06:29:33.718860Z",
     "iopub.status.busy": "2025-10-20T06:29:33.718725Z",
     "iopub.status.idle": "2025-10-20T06:29:33.722213Z",
     "shell.execute_reply": "2025-10-20T06:29:33.721042Z"
    },
    "slideshow": {
     "slide_type": "fragment"
    },
    "tags": []
   },
   "outputs": [
    {
     "name": "stdout",
     "output_type": "stream",
     "text": [
      "[-4.39861342  1.83688909  1.71238019  1.11017981 -4.39862687  4.77769274\n",
      " -0.61048373  0.32595022 -4.96867713 -2.48732895]\n"
     ]
    }
   ],
   "source": [
    "runiform2 = rng.uniform(-5,5,10)\n",
    "print(runiform2)"
   ]
  },
  {
   "cell_type": "markdown",
   "metadata": {
    "slideshow": {
     "slide_type": "fragment"
    },
    "tags": []
   },
   "source": [
    "* There are many more ways to generate random numbers.  \n",
    "* The method `normal`, which draws random numbers from a normal distribution, is also useful.    "
   ]
  },
  {
   "cell_type": "markdown",
   "metadata": {
    "slideshow": {
     "slide_type": "slide"
    }
   },
   "source": [
    "## Higher dimensional arrays (Matrices)\n",
    "* I can also create a higher dimensional array like a matrix, by passing a **tuple** for the dimension of the array. "
   ]
  },
  {
   "cell_type": "code",
   "execution_count": 10,
   "metadata": {
    "execution": {
     "iopub.execute_input": "2025-10-20T06:29:33.725240Z",
     "iopub.status.busy": "2025-10-20T06:29:33.725077Z",
     "iopub.status.idle": "2025-10-20T06:29:33.728464Z",
     "shell.execute_reply": "2025-10-20T06:29:33.727626Z"
    },
    "slideshow": {
     "slide_type": "fragment"
    }
   },
   "outputs": [
    {
     "name": "stdout",
     "output_type": "stream",
     "text": [
      "[[6 8 4 4]\n",
      " [1 7 6 9]\n",
      " [7 1 8 9]]\n"
     ]
    }
   ],
   "source": [
    "# I want a matrix with 3 rows and 4 columns instead of a vector of 5 numbers, I should provide a tuple (4,3) instead of 5.\n",
    "M = rng.integers(0,10,(3,4))\n",
    "print(M)"
   ]
  },
  {
   "cell_type": "markdown",
   "metadata": {
    "slideshow": {
     "slide_type": "subslide"
    },
    "tags": []
   },
   "source": [
    "* To index into a matrix M, I  provide a **row** index and **column** index. \n",
    "* In order to get the entry 2nd row and 3rd column, I have to index M as M[1,2]"
   ]
  },
  {
   "cell_type": "code",
   "execution_count": 11,
   "metadata": {
    "execution": {
     "iopub.execute_input": "2025-10-20T06:29:33.730615Z",
     "iopub.status.busy": "2025-10-20T06:29:33.730483Z",
     "iopub.status.idle": "2025-10-20T06:29:33.736348Z",
     "shell.execute_reply": "2025-10-20T06:29:33.733469Z"
    },
    "slideshow": {
     "slide_type": "fragment"
    },
    "tags": []
   },
   "outputs": [
    {
     "name": "stdout",
     "output_type": "stream",
     "text": [
      "[[6 8 4 4]\n",
      " [1 7 6 9]\n",
      " [7 1 8 9]]\n",
      "m23:  6\n",
      "m11:  6\n",
      "m34:  9\n"
     ]
    }
   ],
   "source": [
    "print(M)\n",
    "m23 = M[1,2] #entry at row 2, column 3 \n",
    "print('m23: ', m23)\n",
    "m11 = M[0,0] #first entry of a 3 x 4 matrix \n",
    "print('m11: ', m11)\n",
    "m34 = M[2,3] #last entry of a 3 x 4 matrix\n",
    "print('m34: ',m34)"
   ]
  },
  {
   "cell_type": "markdown",
   "metadata": {
    "slideshow": {
     "slide_type": "slide"
    },
    "tags": []
   },
   "source": [
    "* Of course, if I go out of range, python will just complain.  "
   ]
  },
  {
   "cell_type": "code",
   "execution_count": 12,
   "metadata": {
    "execution": {
     "iopub.execute_input": "2025-10-20T06:29:33.738607Z",
     "iopub.status.busy": "2025-10-20T06:29:33.738419Z",
     "iopub.status.idle": "2025-10-20T06:29:33.895436Z",
     "shell.execute_reply": "2025-10-20T06:29:33.894982Z"
    },
    "slideshow": {
     "slide_type": "fragment"
    },
    "tags": []
   },
   "outputs": [
    {
     "ename": "IndexError",
     "evalue": "index 3 is out of bounds for axis 0 with size 3",
     "output_type": "error",
     "traceback": [
      "\u001b[31m---------------------------------------------------------------------------\u001b[39m",
      "\u001b[31mIndexError\u001b[39m                                Traceback (most recent call last)",
      "\u001b[36mCell\u001b[39m\u001b[36m \u001b[39m\u001b[32mIn[12]\u001b[39m\u001b[32m, line 1\u001b[39m\n\u001b[32m----> \u001b[39m\u001b[32m1\u001b[39m \u001b[43mM\u001b[49m\u001b[43m[\u001b[49m\u001b[32;43m3\u001b[39;49m\u001b[43m,\u001b[49m\u001b[32;43m4\u001b[39;49m\u001b[43m]\u001b[49m\n",
      "\u001b[31mIndexError\u001b[39m: index 3 is out of bounds for axis 0 with size 3"
     ]
    }
   ],
   "source": [
    "M[3,4]"
   ]
  },
  {
   "cell_type": "markdown",
   "metadata": {
    "slideshow": {
     "slide_type": "subslide"
    },
    "tags": []
   },
   "source": [
    "* We can address a single row or column of the matrix by "
   ]
  },
  {
   "cell_type": "code",
   "execution_count": 13,
   "metadata": {
    "execution": {
     "iopub.execute_input": "2025-10-20T06:29:33.898024Z",
     "iopub.status.busy": "2025-10-20T06:29:33.897812Z",
     "iopub.status.idle": "2025-10-20T06:29:33.900110Z",
     "shell.execute_reply": "2025-10-20T06:29:33.899874Z"
    },
    "slideshow": {
     "slide_type": "fragment"
    },
    "tags": []
   },
   "outputs": [
    {
     "name": "stdout",
     "output_type": "stream",
     "text": [
      "[[6 8 4 4]\n",
      " [1 7 6 9]\n",
      " [7 1 8 9]]\n",
      "M2:  [1 7 6 9]\n"
     ]
    }
   ],
   "source": [
    "print(M)\n",
    "M2 = M[1]\n",
    "print('M2: ', M2)"
   ]
  },
  {
   "cell_type": "markdown",
   "metadata": {
    "slideshow": {
     "slide_type": "slide"
    },
    "tags": []
   },
   "source": [
    "* In my opinion, the above is very poor syntax because it is ambiguous which axis you are referring to. \n",
    "\n",
    "* It requires that you know that python defaults to rows, and that a single index will extract that row.  \n",
    "\n",
    "* The same thing can be achieved with more clarity using `:` to indicate *ALL ELEMENTS* "
   ]
  },
  {
   "cell_type": "code",
   "execution_count": 14,
   "metadata": {
    "execution": {
     "iopub.execute_input": "2025-10-20T06:29:33.901202Z",
     "iopub.status.busy": "2025-10-20T06:29:33.901116Z",
     "iopub.status.idle": "2025-10-20T06:29:33.902764Z",
     "shell.execute_reply": "2025-10-20T06:29:33.902554Z"
    },
    "slideshow": {
     "slide_type": "fragment"
    },
    "tags": []
   },
   "outputs": [
    {
     "name": "stdout",
     "output_type": "stream",
     "text": [
      "M: [[6 8 4 4]\n",
      " [1 7 6 9]\n",
      " [7 1 8 9]]\n",
      "R2:  [1 7 6 9]\n",
      "C1:  [6 1 7]\n"
     ]
    }
   ],
   "source": [
    "R2 = M[1,:] # row 2\n",
    "C1 = M[:,0] # column 1\n",
    "print('M:', M)\n",
    "print('R2: ',R2)\n",
    "print('C1: ',C1)"
   ]
  },
  {
   "cell_type": "markdown",
   "metadata": {
    "slideshow": {
     "slide_type": "subslide"
    }
   },
   "source": [
    "* I can extract a row and column of a matrix into a new array and do some math on it"
   ]
  },
  {
   "cell_type": "code",
   "execution_count": 15,
   "metadata": {
    "execution": {
     "iopub.execute_input": "2025-10-20T06:29:33.903775Z",
     "iopub.status.busy": "2025-10-20T06:29:33.903705Z",
     "iopub.status.idle": "2025-10-20T06:29:33.905380Z",
     "shell.execute_reply": "2025-10-20T06:29:33.905149Z"
    },
    "slideshow": {
     "slide_type": "fragment"
    },
    "tags": []
   },
   "outputs": [
    {
     "name": "stdout",
     "output_type": "stream",
     "text": [
      "[31 -4 44]\n"
     ]
    }
   ],
   "source": [
    "m = M[:,0]  # I grabbed the first column of M and copied it into m \n",
    "u = m**2 - 5 # I squared the values and subtracted v and placed in a new array u\n",
    "print(u)"
   ]
  },
  {
   "cell_type": "markdown",
   "metadata": {
    "slideshow": {
     "slide_type": "fragment"
    }
   },
   "source": [
    "* I can manipulate a specific row or column in the matrix "
   ]
  },
  {
   "cell_type": "code",
   "execution_count": 16,
   "metadata": {
    "execution": {
     "iopub.execute_input": "2025-10-20T06:29:33.906333Z",
     "iopub.status.busy": "2025-10-20T06:29:33.906269Z",
     "iopub.status.idle": "2025-10-20T06:29:33.907808Z",
     "shell.execute_reply": "2025-10-20T06:29:33.907585Z"
    },
    "slideshow": {
     "slide_type": "fragment"
    },
    "tags": []
   },
   "outputs": [
    {
     "name": "stdout",
     "output_type": "stream",
     "text": [
      "[[6 8 4 4]\n",
      " [1 7 6 9]\n",
      " [7 1 8 9]]\n",
      "[[ 31 -10   4   4]\n",
      " [ -4 -10   6   9]\n",
      " [ 44 -10   8   9]]\n"
     ]
    }
   ],
   "source": [
    "\n",
    "print(M)\n",
    "M[:,0] = u #replace the first column with u\n",
    "M[:,1] = -10 #replace the second column with -10 at all locations\n",
    "print(M)"
   ]
  },
  {
   "cell_type": "markdown",
   "metadata": {
    "slideshow": {
     "slide_type": "slide"
    },
    "tags": []
   },
   "source": [
    "### Size matters!\n"
   ]
  },
  {
   "cell_type": "code",
   "execution_count": 17,
   "metadata": {
    "execution": {
     "iopub.execute_input": "2025-10-20T06:29:33.908726Z",
     "iopub.status.busy": "2025-10-20T06:29:33.908664Z",
     "iopub.status.idle": "2025-10-20T06:29:33.917146Z",
     "shell.execute_reply": "2025-10-20T06:29:33.916932Z"
    },
    "slideshow": {
     "slide_type": "fragment"
    },
    "tags": []
   },
   "outputs": [
    {
     "ename": "ValueError",
     "evalue": "could not broadcast input array from shape (3,) into shape (4,)",
     "output_type": "error",
     "traceback": [
      "\u001b[31m---------------------------------------------------------------------------\u001b[39m",
      "\u001b[31mValueError\u001b[39m                                Traceback (most recent call last)",
      "\u001b[36mCell\u001b[39m\u001b[36m \u001b[39m\u001b[32mIn[17]\u001b[39m\u001b[32m, line 3\u001b[39m\n\u001b[32m      1\u001b[39m \u001b[38;5;66;03m### Each row of M has 4 elements. If I try to place a vector length other than 4 into a row of M it will fail\u001b[39;00m\n\u001b[32m      2\u001b[39m v = np.array([\u001b[32m1\u001b[39m,\u001b[32m2\u001b[39m,\u001b[32m3\u001b[39m])\n\u001b[32m----> \u001b[39m\u001b[32m3\u001b[39m \u001b[43mM\u001b[49m\u001b[43m[\u001b[49m\u001b[32;43m0\u001b[39;49m\u001b[43m,\u001b[49m\u001b[43m:\u001b[49m\u001b[43m]\u001b[49m = v\n",
      "\u001b[31mValueError\u001b[39m: could not broadcast input array from shape (3,) into shape (4,)"
     ]
    }
   ],
   "source": [
    "### Each row of M has 4 elements. If I try to place a vector length other than 4 into a row of M it will fail\n",
    "v = np.array([1,2,3])\n",
    "M[0,:] = v"
   ]
  },
  {
   "cell_type": "code",
   "execution_count": 18,
   "metadata": {
    "execution": {
     "iopub.execute_input": "2025-10-20T06:29:33.918254Z",
     "iopub.status.busy": "2025-10-20T06:29:33.918184Z",
     "iopub.status.idle": "2025-10-20T06:29:33.919634Z",
     "shell.execute_reply": "2025-10-20T06:29:33.919421Z"
    },
    "slideshow": {
     "slide_type": "fragment"
    },
    "tags": []
   },
   "outputs": [],
   "source": [
    "## IF the size matches, I will succeed. \n",
    "v = np.array([1,2,3,4])\n",
    "M[0,:] = v"
   ]
  },
  {
   "cell_type": "markdown",
   "metadata": {
    "slideshow": {
     "slide_type": "slide"
    },
    "tags": []
   },
   "source": [
    "## The general concept of **axis**  \n",
    "\n",
    "*  I referred to the rows and columns of a matrix.  Python thinks of these as the **axis** of the array. \n",
    "1. axis 0 is the rows\n",
    "1. axis 1 is the columns\n",
    "1. axis 2 is the ????  ...\n",
    "* There is no limit to the number of dimensions to a python array.   Right now we are working with \n",
    "    * vector (1 dimensional array)\n",
    "    * matrix (2 dimensional array).  \n",
    "* But, in many practical applications we need more than 2 dimensions.   \n",
    "* For example, when we record brain images of blood flow from human subject, each image has 3 dimensions, and there is a 4th dimension of time."
   ]
  },
  {
   "cell_type": "markdown",
   "metadata": {
    "slideshow": {
     "slide_type": "slide"
    }
   },
   "source": [
    "## Maximum and minimum \n",
    "### There are three pairs of functions that handle maximum and minimum of arrays. \n",
    "1. Within an array to find the maximum/minimum\n",
    "* `max`\n",
    "* `min` \n",
    "2. to find the *index* of the maximum or minimum element of an array\n",
    "* `argmax`\n",
    "* `argmin`\n",
    "3. to compare two equal size arrays element by element, use \n",
    "* `maximum`\n",
    "* `minimum` "
   ]
  },
  {
   "cell_type": "markdown",
   "metadata": {
    "slideshow": {
     "slide_type": "slide"
    }
   },
   "source": [
    "* Lets get the maximum and minimum of an array and the index of the maximum and minimum of an array"
   ]
  },
  {
   "cell_type": "code",
   "execution_count": 19,
   "metadata": {
    "execution": {
     "iopub.execute_input": "2025-10-20T06:29:33.920706Z",
     "iopub.status.busy": "2025-10-20T06:29:33.920633Z",
     "iopub.status.idle": "2025-10-20T06:29:33.922673Z",
     "shell.execute_reply": "2025-10-20T06:29:33.922416Z"
    },
    "slideshow": {
     "slide_type": "fragment"
    }
   },
   "outputs": [
    {
     "name": "stdout",
     "output_type": "stream",
     "text": [
      "v =  [ 8  4 18 19 20  2 18 10  9 17 19  6 16 18 18]\n",
      "maxv =  20\n",
      "index_maxv = 4\n",
      "v =  [ 8  4 18 19 20  2 18 10  9 17 19  6 16 18 18]\n",
      "minv =  2\n",
      "index_minv = 5\n"
     ]
    }
   ],
   "source": [
    "v = rng.integers(1,21,15) #15 integers ranging from 1 to 20\n",
    "maxv = np.max(v) # find the maximum value of v\n",
    "index_maxv = np.argmax(v) #find the index into v that gives the maximum value.  \n",
    "print('v = ',v)\n",
    "print('maxv = ',maxv)\n",
    "print('index_maxv =', index_maxv)\n",
    "minv = np.min(v) #find the minimum value of v\n",
    "index_minv = np.argmin(v) # find the index into v that gives the minimum value \n",
    "print('v = ',v)\n",
    "print('minv = ',minv)\n",
    "print('index_minv =', index_minv)"
   ]
  },
  {
   "cell_type": "markdown",
   "metadata": {
    "slideshow": {
     "slide_type": "slide"
    }
   },
   "source": [
    "* When working with a matrix we often want to compute the maximum or minimum of each row or column.  To do that, we have to specify an *axis*"
   ]
  },
  {
   "cell_type": "code",
   "execution_count": 20,
   "metadata": {
    "execution": {
     "iopub.execute_input": "2025-10-20T06:29:33.923722Z",
     "iopub.status.busy": "2025-10-20T06:29:33.923654Z",
     "iopub.status.idle": "2025-10-20T06:29:33.925500Z",
     "shell.execute_reply": "2025-10-20T06:29:33.925269Z"
    },
    "slideshow": {
     "slide_type": "fragment"
    }
   },
   "outputs": [
    {
     "name": "stdout",
     "output_type": "stream",
     "text": [
      "M\n",
      "[[20  7 17]\n",
      " [ 9  9 16]\n",
      " [ 8 16 10]\n",
      " [ 1  2 16]\n",
      " [ 5 20 11]\n",
      " [ 4 15  4]\n",
      " [ 9 12  7]]\n",
      "max, axis = 0\n",
      "[20 20 17]\n",
      "max, axis = 1\n",
      "[20 16 16 16 20 15 12]\n"
     ]
    }
   ],
   "source": [
    "M = rng.integers(1,21,(7,3)) # random numbers between 1 and 20 in a 5 x 6 matrix\n",
    "maxM_0 = np.max(M,axis = 0)\n",
    "maxM_1 = np.max(M,axis = 1)\n",
    "print('M')\n",
    "print(M)\n",
    "print('max, axis = 0') # maximum of each column, \n",
    "print(maxM_0)\n",
    "print('max, axis = 1') # maximum of each row, \n",
    "print(maxM_1)"
   ]
  },
  {
   "cell_type": "markdown",
   "metadata": {
    "slideshow": {
     "slide_type": "slide"
    }
   },
   "source": [
    "### I can also compare two arrays and choose the maximum or minimum element by element "
   ]
  },
  {
   "cell_type": "code",
   "execution_count": 21,
   "metadata": {
    "execution": {
     "iopub.execute_input": "2025-10-20T06:29:33.926528Z",
     "iopub.status.busy": "2025-10-20T06:29:33.926441Z",
     "iopub.status.idle": "2025-10-20T06:29:33.928215Z",
     "shell.execute_reply": "2025-10-20T06:29:33.928020Z"
    },
    "slideshow": {
     "slide_type": "fragment"
    }
   },
   "outputs": [
    {
     "name": "stdout",
     "output_type": "stream",
     "text": [
      "w =  [5 6 3 5 2 3 1 3 5 5]\n",
      "u =  [2 6 4 2 2 5 4 5 5 6]\n",
      "p =  [5 6 4 5 2 5 4 5 5 6]\n",
      "q =  [2 6 3 2 2 3 1 3 5 5]\n"
     ]
    }
   ],
   "source": [
    "w = rng.integers(1,7,10)\n",
    "u = rng.integers(1,7,10)\n",
    "print('w = ',w)\n",
    "print('u = ',u)\n",
    "p = np.maximum(u,w)\n",
    "q = np.minimum(u,w)\n",
    "print('p = ',p)\n",
    "print('q = ',q)"
   ]
  },
  {
   "cell_type": "markdown",
   "metadata": {
    "slideshow": {
     "slide_type": "slide"
    }
   },
   "source": [
    "## Sort functions for `numpy` arrays\n",
    "* In many operations with data it is useful to be able to sort the data from lowest to highest, or highest to lowest. \n",
    "* It is perhaps not surprising that the function that will sort an array is called `sort`"
   ]
  },
  {
   "cell_type": "code",
   "execution_count": 22,
   "metadata": {
    "execution": {
     "iopub.execute_input": "2025-10-20T06:29:33.929198Z",
     "iopub.status.busy": "2025-10-20T06:29:33.929130Z",
     "iopub.status.idle": "2025-10-20T06:29:33.930850Z",
     "shell.execute_reply": "2025-10-20T06:29:33.930634Z"
    },
    "slideshow": {
     "slide_type": "fragment"
    }
   },
   "outputs": [
    {
     "name": "stdout",
     "output_type": "stream",
     "text": [
      "v = [2 1 3 4 5 4 5 2 1 3]\n",
      "v_sorted = [1 1 2 2 3 3 4 4 5 5]\n"
     ]
    }
   ],
   "source": [
    "v = rng.integers(1,7,10)  # 10 random numbers between 1 and 6\n",
    "v_sorted = np.sort(v) #sort v in ascending order \n",
    "print('v =', v)\n",
    "print('v_sorted =',v_sorted)"
   ]
  },
  {
   "cell_type": "markdown",
   "metadata": {
    "slideshow": {
     "slide_type": "slide"
    }
   },
   "source": [
    "* Numpy `sort` function always sorts in ascending order from lowest to highest.  What if I wanted to sort from highest to lowest? \n",
    "\n",
    "* Numpy has a `flip` function that allows up reverse the order of the elements in an array. "
   ]
  },
  {
   "cell_type": "code",
   "execution_count": 23,
   "metadata": {
    "execution": {
     "iopub.execute_input": "2025-10-20T06:29:33.931775Z",
     "iopub.status.busy": "2025-10-20T06:29:33.931709Z",
     "iopub.status.idle": "2025-10-20T06:29:33.933246Z",
     "shell.execute_reply": "2025-10-20T06:29:33.933033Z"
    },
    "slideshow": {
     "slide_type": "fragment"
    }
   },
   "outputs": [
    {
     "name": "stdout",
     "output_type": "stream",
     "text": [
      "v =  [2 1 3 4 5 4 5 2 1 3]\n",
      "v_flipped =  [3 1 2 5 4 5 4 3 1 2]\n"
     ]
    }
   ],
   "source": [
    "v_flipped = np.flip(v)\n",
    "print('v = ',v)\n",
    "print('v_flipped = ', v_flipped)"
   ]
  },
  {
   "cell_type": "code",
   "execution_count": 24,
   "metadata": {
    "execution": {
     "iopub.execute_input": "2025-10-20T06:29:33.934227Z",
     "iopub.status.busy": "2025-10-20T06:29:33.934159Z",
     "iopub.status.idle": "2025-10-20T06:29:33.935549Z",
     "shell.execute_reply": "2025-10-20T06:29:33.935330Z"
    },
    "slideshow": {
     "slide_type": "fragment"
    }
   },
   "outputs": [
    {
     "name": "stdout",
     "output_type": "stream",
     "text": [
      "v_sorted = [5 5 4 4 3 3 2 2 1 1]\n"
     ]
    }
   ],
   "source": [
    "v_sorted = np.sort(v)\n",
    "v_sorted = np.flip(v_sorted)\n",
    "print('v_sorted =', v_sorted)"
   ]
  },
  {
   "cell_type": "code",
   "execution_count": 25,
   "metadata": {
    "execution": {
     "iopub.execute_input": "2025-10-20T06:29:33.936507Z",
     "iopub.status.busy": "2025-10-20T06:29:33.936426Z",
     "iopub.status.idle": "2025-10-20T06:29:33.937919Z",
     "shell.execute_reply": "2025-10-20T06:29:33.937710Z"
    },
    "slideshow": {
     "slide_type": "fragment"
    }
   },
   "outputs": [
    {
     "name": "stdout",
     "output_type": "stream",
     "text": [
      "v_sorted = [5 5 4 4 3 3 2 2 1 1]\n"
     ]
    }
   ],
   "source": [
    "#I could actually do it one step by **nesting** my functions like this. \n",
    "v_sorted = np.flip(np.sort(v)) # I implicitly take the output of np.sort and enter into np.flip\n",
    "print('v_sorted =', v_sorted)"
   ]
  },
  {
   "cell_type": "markdown",
   "metadata": {
    "slideshow": {
     "slide_type": "slide"
    }
   },
   "source": [
    "## Ordered Indices - `argsort`\n",
    "* In many (*most?*) circumstances you don't only want to be able to obtain a sorted list of items, but you also want to know *what order of indices* produces the sorted list.  This may not seem obvious, but i will make some examples here that illustrate why this is important. \n",
    "\n",
    "* The `argsort` function tells you the order of indices to sort an array"
   ]
  },
  {
   "cell_type": "code",
   "execution_count": 26,
   "metadata": {
    "execution": {
     "iopub.execute_input": "2025-10-20T06:29:33.938893Z",
     "iopub.status.busy": "2025-10-20T06:29:33.938832Z",
     "iopub.status.idle": "2025-10-20T06:29:33.941461Z",
     "shell.execute_reply": "2025-10-20T06:29:33.941268Z"
    },
    "slideshow": {
     "slide_type": "fragment"
    }
   },
   "outputs": [
    {
     "name": "stdout",
     "output_type": "stream",
     "text": [
      "i =  [0 1 2 3 4 5 6 7 8 9]\n",
      "v =  [2 4 4 6 5 1 4 2 3 2]\n",
      "sort_order =  [5 0 7 9 8 1 2 6 4 3]\n",
      "v_sorted =  [1 2 2 2 3 4 4 4 5 6]\n",
      "v_sorted_byorder =  [1 2 2 2 3 4 4 4 5 6]\n"
     ]
    }
   ],
   "source": [
    "v = rng.integers(1,7,10)\n",
    "v_sorted = np.sort(v) #This obtains a sorted list in increasing order. \n",
    "sort_order = np.argsort(v) #This obtains a list of ordered indices that you could use to sort v \n",
    "v_sorted_byorder = v[sort_order]\n",
    "print('i = ',np.arange(0,10,1)) # i juat wanted to track the index \n",
    "print('v = ',v)\n",
    "print('sort_order = ',sort_order)\n",
    "print('v_sorted = ',v_sorted)\n",
    "print('v_sorted_byorder = ', v_sorted_byorder)"
   ]
  },
  {
   "cell_type": "markdown",
   "metadata": {
    "slideshow": {
     "slide_type": "slide"
    }
   },
   "source": [
    "* Why is this useful? \n",
    "\n",
    "* Many times, we want to sort data on one variable, *and sort other variables in the same order*\n",
    "\n",
    "* I provide an example here on the relationship between age and LDL-bad cholesterol. "
   ]
  },
  {
   "cell_type": "code",
   "execution_count": 27,
   "metadata": {
    "execution": {
     "iopub.execute_input": "2025-10-20T06:29:33.942387Z",
     "iopub.status.busy": "2025-10-20T06:29:33.942319Z",
     "iopub.status.idle": "2025-10-20T06:29:33.943732Z",
     "shell.execute_reply": "2025-10-20T06:29:33.943499Z"
    },
    "slideshow": {
     "slide_type": "fragment"
    }
   },
   "outputs": [],
   "source": [
    "age = np.array([55,58,72,46,48,65]) #age in years\n",
    "LDL = np.array([65,90,120,55,70,100]) #LDL - bad cholesterol "
   ]
  },
  {
   "cell_type": "markdown",
   "metadata": {
    "slideshow": {
     "slide_type": "fragment"
    }
   },
   "source": [
    "* I want to quickly look at those numbers and determine if LDL goes up with age.  \n",
    "* What I'm going to do is sort the data by age and then use that sort order with the LDL data. "
   ]
  },
  {
   "cell_type": "code",
   "execution_count": 28,
   "metadata": {
    "execution": {
     "iopub.execute_input": "2025-10-20T06:29:33.944746Z",
     "iopub.status.busy": "2025-10-20T06:29:33.944680Z",
     "iopub.status.idle": "2025-10-20T06:29:33.946259Z",
     "shell.execute_reply": "2025-10-20T06:29:33.946048Z"
    },
    "slideshow": {
     "slide_type": "fragment"
    }
   },
   "outputs": [
    {
     "name": "stdout",
     "output_type": "stream",
     "text": [
      "age =  [46 48 55 58 65 72]\n",
      "LDL =  [ 55  70  65  90 100 120]\n"
     ]
    }
   ],
   "source": [
    "age_order = np.argsort(age)\n",
    "age_sorted = age[age_order]\n",
    "LDL_sorted_byage = LDL[age_order] # notice i passed the indices to order age into LDL\n",
    "print('age = ', age_sorted)\n",
    "print('LDL = ', LDL_sorted_byage)"
   ]
  },
  {
   "cell_type": "markdown",
   "metadata": {
    "slideshow": {
     "slide_type": "slide"
    }
   },
   "source": [
    "## Mathematical Functions in Python\n",
    "\n",
    "### All of the mathematical functions such as logarithms, exponentials, trignometric functions, etc. can be found in numpy \n",
    "\n",
    "* A good first guess is usually `np.exp`, `np.log`, `np.sin`, `np.cos`, 'np.sin`, etc. \n",
    "* Special numbers like $\\pi$ are obviously `np.pi` \n",
    "\n",
    "### How do I look stuff up \n",
    "\n",
    "Google it! \n"
   ]
  },
  {
   "cell_type": "markdown",
   "metadata": {
    "slideshow": {
     "slide_type": "slide"
    }
   },
   "source": [
    "*An important point to always keep in mind is that numpy functions work on arrays!"
   ]
  },
  {
   "cell_type": "code",
   "execution_count": 29,
   "metadata": {
    "execution": {
     "iopub.execute_input": "2025-10-20T06:29:33.947324Z",
     "iopub.status.busy": "2025-10-20T06:29:33.947248Z",
     "iopub.status.idle": "2025-10-20T06:29:33.948836Z",
     "shell.execute_reply": "2025-10-20T06:29:33.948652Z"
    },
    "slideshow": {
     "slide_type": "fragment"
    }
   },
   "outputs": [
    {
     "name": "stdout",
     "output_type": "stream",
     "text": [
      "x =  [   1   10  100 1000]\n",
      "y =  [0. 1. 2. 3.]\n"
     ]
    }
   ],
   "source": [
    "x = np.array([1,10,100,1000]) \n",
    "y = np.log10(x) # this is the base 10 logarithm \n",
    "print('x = ',x)\n",
    "print('y = ',y) "
   ]
  },
  {
   "cell_type": "code",
   "execution_count": 30,
   "metadata": {
    "execution": {
     "iopub.execute_input": "2025-10-20T06:29:33.949709Z",
     "iopub.status.busy": "2025-10-20T06:29:33.949650Z",
     "iopub.status.idle": "2025-10-20T06:29:33.951178Z",
     "shell.execute_reply": "2025-10-20T06:29:33.950970Z"
    },
    "slideshow": {
     "slide_type": "fragment"
    }
   },
   "outputs": [
    {
     "name": "stdout",
     "output_type": "stream",
     "text": [
      "[0.1   0.01  0.001]\n",
      "[-1. -2. -3.]\n"
     ]
    }
   ],
   "source": [
    "z = np.array([0.1,0.01,0.001])\n",
    "a = np.log10(z) \n",
    "print(z)\n",
    "print(a)"
   ]
  },
  {
   "cell_type": "markdown",
   "metadata": {
    "slideshow": {
     "slide_type": "fragment"
    }
   },
   "source": [
    "Think in terms of arrays when possible.  "
   ]
  }
 ],
 "metadata": {
  "kernelspec": {
   "display_name": "mytest",
   "language": "python",
   "name": "python3"
  },
  "language_info": {
   "codemirror_mode": {
    "name": "ipython",
    "version": 3
   },
   "file_extension": ".py",
   "mimetype": "text/x-python",
   "name": "python",
   "nbconvert_exporter": "python",
   "pygments_lexer": "ipython3",
   "version": "3.13.7"
  }
 },
 "nbformat": 4,
 "nbformat_minor": 4
}
