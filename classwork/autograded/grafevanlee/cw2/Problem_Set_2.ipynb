{
 "cells": [
  {
   "cell_type": "markdown",
   "id": "084807b0",
   "metadata": {},
   "source": [
    "Before you turn this problem in, make sure everything runs as expected. First, **restart the kernel** (in the menubar, select  **Restart** and **Clear All Outputs**, then select **Run All**).\n",
    "\n",
    "Make sure you fill in any place that says `YOUR CODE HERE` or \"YOUR ANSWER HERE\", as well as your name and collaborators below:"
   ]
  },
  {
   "cell_type": "code",
   "execution_count": 1,
   "id": "6e887d80",
   "metadata": {
    "execution": {
     "iopub.execute_input": "2025-10-20T06:29:26.972309Z",
     "iopub.status.busy": "2025-10-20T06:29:26.972067Z",
     "iopub.status.idle": "2025-10-20T06:29:26.976248Z",
     "shell.execute_reply": "2025-10-20T06:29:26.975867Z"
    }
   },
   "outputs": [],
   "source": [
    "NAME = \"Evan Graf\"\n",
    "COLLABORATORS = \"Ryan, Saitama\""
   ]
  },
  {
   "cell_type": "markdown",
   "id": "4eb6bcce",
   "metadata": {},
   "source": [
    "---"
   ]
  },
  {
   "cell_type": "markdown",
   "id": "a9bfcbd5-7ea2-41b2-a847-f4327e17ab82",
   "metadata": {
    "tags": []
   },
   "source": [
    "# **Problem Set 2**:  Random Numbers, Array Methods, Functions\n",
    "\n",
    "* This is a problem set.  You can work on it with the help of your classmates, Google, or ask us any questions you would like.  \n",
    "* I encourage discussion during these problem sets.    \n",
    "* In order for automatic grading and validation to work, it is very important that you make use of the exact variable names specified in the problem statement.\n",
    "* I will always place these variable names that must be used for automatic grading in **bold**"
   ]
  },
  {
   "cell_type": "code",
   "execution_count": 2,
   "id": "1a710a17-1378-4a7a-85b7-f518ed4d0bca",
   "metadata": {
    "execution": {
     "iopub.execute_input": "2025-10-20T06:29:26.978309Z",
     "iopub.status.busy": "2025-10-20T06:29:26.978163Z",
     "iopub.status.idle": "2025-10-20T06:29:27.022719Z",
     "shell.execute_reply": "2025-10-20T06:29:27.022211Z"
    }
   },
   "outputs": [],
   "source": [
    "# your going to need numpy and a random number generator to do this assignment \n",
    "import numpy as np \n",
    "from numpy import random\n",
    "rng = random.default_rng(seed = 8060)"
   ]
  },
  {
   "cell_type": "markdown",
   "id": "3d421e26",
   "metadata": {},
   "source": [
    "1. Create an array **hexdice** with 20 random numbers with values ranging from 1 to 16 (inclusive). Sort the array **hexdice** into descending order, i.e., from largest to smallest.  The answer should still be in the array **hexdice**"
   ]
  },
  {
   "cell_type": "code",
   "execution_count": 3,
   "id": "1cdaadd4",
   "metadata": {
    "deletable": false,
    "execution": {
     "iopub.execute_input": "2025-10-20T06:29:27.025273Z",
     "iopub.status.busy": "2025-10-20T06:29:27.025062Z",
     "iopub.status.idle": "2025-10-20T06:29:27.027948Z",
     "shell.execute_reply": "2025-10-20T06:29:27.027444Z"
    },
    "nbgrader": {
     "cell_type": "code",
     "checksum": "5c9b1bcf73e618a89fe1c2ff81bdb14a",
     "grade": false,
     "grade_id": "cell-2a0fce76f8a4fcc5",
     "locked": false,
     "schema_version": 3,
     "solution": true,
     "task": false
    }
   },
   "outputs": [],
   "source": [
    "hexdice = rng.integers(1,17,20)\n",
    "hexdice = np.flip(np.sort(hexdice))\n"
   ]
  },
  {
   "cell_type": "code",
   "execution_count": 4,
   "id": "03472f19",
   "metadata": {
    "deletable": false,
    "editable": false,
    "execution": {
     "iopub.execute_input": "2025-10-20T06:29:27.030114Z",
     "iopub.status.busy": "2025-10-20T06:29:27.029926Z",
     "iopub.status.idle": "2025-10-20T06:29:27.032627Z",
     "shell.execute_reply": "2025-10-20T06:29:27.032217Z"
    },
    "nbgrader": {
     "cell_type": "code",
     "checksum": "b4f1c1b41264618c56feda53ce814224",
     "grade": true,
     "grade_id": "cell-c55d53d08cf6fea6",
     "locked": true,
     "points": 3,
     "schema_version": 3,
     "solution": false,
     "task": false
    }
   },
   "outputs": [],
   "source": [
    "assert len(hexdice)== 20\n",
    "assert np.argmax(hexdice) == 0 "
   ]
  },
  {
   "cell_type": "markdown",
   "id": "4fce0eec",
   "metadata": {},
   "source": [
    "2. Write a function **normalize** that takes a numpy array **x** and divides the array by the maximum value in the array and returns an array containing these normalized values.  You should start your function with,\n",
    "\n",
    "       def normalize(x):\n",
    "\n",
    "Don't forget to indent your code under the def statement, and to end your function with a return statement.     "
   ]
  },
  {
   "cell_type": "code",
   "execution_count": 5,
   "id": "4222474d",
   "metadata": {
    "deletable": false,
    "execution": {
     "iopub.execute_input": "2025-10-20T06:29:27.034821Z",
     "iopub.status.busy": "2025-10-20T06:29:27.034672Z",
     "iopub.status.idle": "2025-10-20T06:29:27.037314Z",
     "shell.execute_reply": "2025-10-20T06:29:27.036908Z"
    },
    "nbgrader": {
     "cell_type": "code",
     "checksum": "1b7e9c94c77bf9ae0a48dae4f6c37d54",
     "grade": false,
     "grade_id": "cell-b6350c0476590c1e",
     "locked": false,
     "schema_version": 3,
     "solution": true,
     "task": false
    }
   },
   "outputs": [],
   "source": [
    "def normalize(x):\n",
    "    np.max(x)\n",
    "    x=x/(np.max(x))\n",
    "    return(x)"
   ]
  },
  {
   "cell_type": "code",
   "execution_count": 6,
   "id": "a078aebb",
   "metadata": {
    "deletable": false,
    "editable": false,
    "execution": {
     "iopub.execute_input": "2025-10-20T06:29:27.039446Z",
     "iopub.status.busy": "2025-10-20T06:29:27.039237Z",
     "iopub.status.idle": "2025-10-20T06:29:27.042077Z",
     "shell.execute_reply": "2025-10-20T06:29:27.041585Z"
    },
    "nbgrader": {
     "cell_type": "code",
     "checksum": "81979540282f3685164c7fbd37da630a",
     "grade": true,
     "grade_id": "cell-a2fb6ef5fc1c48a6",
     "locked": true,
     "points": 4,
     "schema_version": 3,
     "solution": false,
     "task": false
    }
   },
   "outputs": [],
   "source": [
    "x = rng.uniform(0,10,20)\n",
    "normx = normalize(x) \n",
    "assert np.max(normx) == 1 "
   ]
  },
  {
   "cell_type": "markdown",
   "id": "d87b7d4e",
   "metadata": {},
   "source": [
    "3-5. It is challenging to come up with measures of excellence in individual defense in basketball.  One useful measure of individual defense is to compare the number of steals to fouls. Basketball players are often called for fouls when they try to steal the ball. There are only 4 players in NBA history including 2 active NBA players who steal more than they foul.    \n",
    "\n",
    "Jimmy Butler is a remarkable defender by this measure. The following 3 lists have the years, games, steals, and fouls per game for every season of Jimmy Butler's career (not including his rookie year when he didn't play). Run the next code block so you have the variables available to answer problems 3-5. Answer the questions by writing Python code and using numpy functions, not just by figuring it out in your head.    "
   ]
  },
  {
   "cell_type": "code",
   "execution_count": 7,
   "id": "31b9786b",
   "metadata": {
    "execution": {
     "iopub.execute_input": "2025-10-20T06:29:27.044087Z",
     "iopub.status.busy": "2025-10-20T06:29:27.043928Z",
     "iopub.status.idle": "2025-10-20T06:29:27.047390Z",
     "shell.execute_reply": "2025-10-20T06:29:27.046671Z"
    }
   },
   "outputs": [],
   "source": [
    "years = np.arange(2012,2026)\n",
    "games = [82,67,65,67,75,59,10,55,58,52,57,64,60,55]\n",
    "steals = [1.0,1.9,1.8,1.6,1.9,2.0,2.4,1.8,1.8,2.1,1.6,1.8,1.3,1.7]\n",
    "fouls = [1.2,1.6,1.7,1.9,1.5,1.3,1.8,1.7,1.4,1.4,1.5,1.3,1.1,1.4]\n",
    "\n"
   ]
  },
  {
   "cell_type": "markdown",
   "id": "4e859edb",
   "metadata": {},
   "source": [
    "3. What was the highest steals per game in Jimmy Butler's career. Save this in the variable **best_steals**  What year did Jimmy Butler average the most steals? Save this in the variable **best_year**.  How many fouls did he commit per game in this year?  Save this in the variable **fouls_best_year**"
   ]
  },
  {
   "cell_type": "code",
   "execution_count": 8,
   "id": "ef5a85f0",
   "metadata": {
    "deletable": false,
    "execution": {
     "iopub.execute_input": "2025-10-20T06:29:27.049566Z",
     "iopub.status.busy": "2025-10-20T06:29:27.049369Z",
     "iopub.status.idle": "2025-10-20T06:29:27.180588Z",
     "shell.execute_reply": "2025-10-20T06:29:27.180085Z"
    },
    "nbgrader": {
     "cell_type": "code",
     "checksum": "38a883c87eecdcdfa466a25eef88defa",
     "grade": false,
     "grade_id": "cell-1e855958e42b3792",
     "locked": false,
     "schema_version": 3,
     "solution": true,
     "task": false
    }
   },
   "outputs": [
    {
     "ename": "NameError",
     "evalue": "name 'best_years_index' is not defined",
     "output_type": "error",
     "traceback": [
      "\u001b[31m---------------------------------------------------------------------------\u001b[39m",
      "\u001b[31mNameError\u001b[39m                                 Traceback (most recent call last)",
      "\u001b[36mCell\u001b[39m\u001b[36m \u001b[39m\u001b[32mIn[8]\u001b[39m\u001b[32m, line 3\u001b[39m\n\u001b[32m      1\u001b[39m best_steals = np.max(steals)\n\u001b[32m      2\u001b[39m best_year_index = np.argmax(steals)\n\u001b[32m----> \u001b[39m\u001b[32m3\u001b[39m best_year = years[\u001b[43mbest_years_index\u001b[49m]\n\u001b[32m      4\u001b[39m fouls_best_year= fouls[best_year_index]\n",
      "\u001b[31mNameError\u001b[39m: name 'best_years_index' is not defined"
     ]
    }
   ],
   "source": [
    "best_steals = np.max(steals)\n",
    "best_year_index = np.argmax(steals)\n",
    "best_year = years[best_years_index]\n",
    "fouls_best_year= fouls[best_year_index]\n"
   ]
  },
  {
   "cell_type": "code",
   "execution_count": 9,
   "id": "ff713809",
   "metadata": {
    "deletable": false,
    "editable": false,
    "execution": {
     "iopub.execute_input": "2025-10-20T06:29:27.183135Z",
     "iopub.status.busy": "2025-10-20T06:29:27.182923Z",
     "iopub.status.idle": "2025-10-20T06:29:27.185618Z",
     "shell.execute_reply": "2025-10-20T06:29:27.184956Z"
    },
    "nbgrader": {
     "cell_type": "code",
     "checksum": "df4d425bd0ebdeb8c1d1ab9b195a86cf",
     "grade": true,
     "grade_id": "cell-044d3ded57226e50",
     "locked": true,
     "points": 1,
     "schema_version": 3,
     "solution": false,
     "task": false
    }
   },
   "outputs": [],
   "source": [
    "assert(best_steals > 2.2)"
   ]
  },
  {
   "cell_type": "code",
   "execution_count": 10,
   "id": "60a6808e-967b-4b7e-bfe2-24080960abbf",
   "metadata": {
    "deletable": false,
    "editable": false,
    "execution": {
     "iopub.execute_input": "2025-10-20T06:29:27.187694Z",
     "iopub.status.busy": "2025-10-20T06:29:27.187518Z",
     "iopub.status.idle": "2025-10-20T06:29:27.207071Z",
     "shell.execute_reply": "2025-10-20T06:29:27.206639Z"
    },
    "nbgrader": {
     "cell_type": "code",
     "checksum": "9abb8a15ea37f3bfbfcb0decf073fcb3",
     "grade": true,
     "grade_id": "cell-dcf744191451f41c",
     "locked": true,
     "points": 2,
     "schema_version": 3,
     "solution": false,
     "task": false
    }
   },
   "outputs": [
    {
     "ename": "NameError",
     "evalue": "name 'best_year' is not defined",
     "output_type": "error",
     "traceback": [
      "\u001b[31m---------------------------------------------------------------------------\u001b[39m",
      "\u001b[31mNameError\u001b[39m                                 Traceback (most recent call last)",
      "\u001b[36mCell\u001b[39m\u001b[36m \u001b[39m\u001b[32mIn[10]\u001b[39m\u001b[32m, line 1\u001b[39m\n\u001b[32m----> \u001b[39m\u001b[32m1\u001b[39m \u001b[38;5;28;01massert\u001b[39;00m \u001b[43mbest_year\u001b[49m == \u001b[32m2018\u001b[39m\n",
      "\u001b[31mNameError\u001b[39m: name 'best_year' is not defined"
     ]
    }
   ],
   "source": [
    "assert best_year == 2018"
   ]
  },
  {
   "cell_type": "code",
   "execution_count": 11,
   "id": "70115ec8",
   "metadata": {
    "deletable": false,
    "editable": false,
    "execution": {
     "iopub.execute_input": "2025-10-20T06:29:27.209348Z",
     "iopub.status.busy": "2025-10-20T06:29:27.209183Z",
     "iopub.status.idle": "2025-10-20T06:29:27.235568Z",
     "shell.execute_reply": "2025-10-20T06:29:27.235114Z"
    },
    "nbgrader": {
     "cell_type": "code",
     "checksum": "f7efc30ed8ab304d94628b35c59a4337",
     "grade": true,
     "grade_id": "cell-9bdfb06a665f56c8",
     "locked": true,
     "points": 2,
     "schema_version": 3,
     "solution": false,
     "task": false
    }
   },
   "outputs": [
    {
     "ename": "NameError",
     "evalue": "name 'fouls_best_year' is not defined",
     "output_type": "error",
     "traceback": [
      "\u001b[31m---------------------------------------------------------------------------\u001b[39m",
      "\u001b[31mNameError\u001b[39m                                 Traceback (most recent call last)",
      "\u001b[36mCell\u001b[39m\u001b[36m \u001b[39m\u001b[32mIn[11]\u001b[39m\u001b[32m, line 1\u001b[39m\n\u001b[32m----> \u001b[39m\u001b[32m1\u001b[39m \u001b[38;5;28;01massert\u001b[39;00m \u001b[43mfouls_best_year\u001b[49m == \u001b[32m1.8\u001b[39m\n",
      "\u001b[31mNameError\u001b[39m: name 'fouls_best_year' is not defined"
     ]
    }
   ],
   "source": [
    "assert fouls_best_year == 1.8"
   ]
  },
  {
   "cell_type": "markdown",
   "id": "f2956d08",
   "metadata": {},
   "source": [
    "4.    Write a function `weightedaverage` that computes a weighted average.\n",
    "*  input arguments are the array **data** and an array **weights**.\n",
    "*  The function should multiply the **data** by **weights**.\n",
    "*  Then it should sum that product using `np.sum`\n",
    "*  Then divide by the sum of the **weights** also obtained using `np.sum`.\n",
    "\n",
    "This is how you compute a *weighted average*. \n",
    "\n",
    "Start your function like this\n",
    "\n",
    "    def weightedaverage(data,weights):\n",
    "\n",
    "be sure to end the function with a `return` statement to return the weighted average value to global namespace.  "
   ]
  },
  {
   "cell_type": "code",
   "execution_count": 12,
   "id": "087cc3cf",
   "metadata": {
    "deletable": false,
    "execution": {
     "iopub.execute_input": "2025-10-20T06:29:27.237913Z",
     "iopub.status.busy": "2025-10-20T06:29:27.237707Z",
     "iopub.status.idle": "2025-10-20T06:29:27.240544Z",
     "shell.execute_reply": "2025-10-20T06:29:27.240149Z"
    },
    "nbgrader": {
     "cell_type": "code",
     "checksum": "72428a741537024c82c2702934e43613",
     "grade": false,
     "grade_id": "cell-0d8820ed44c65f3f",
     "locked": false,
     "schema_version": 3,
     "solution": true,
     "task": false
    }
   },
   "outputs": [],
   "source": [
    "def weightedaverage(data,weights):\n",
    "    weightedaverage = data*weights\n",
    "    weightedaverage = np.sum(weightedaverage)\n",
    "    weightedaverage = weightedaverage/sum(weights)\n",
    "    return(weightedaverage)"
   ]
  },
  {
   "cell_type": "code",
   "execution_count": 13,
   "id": "ab847920",
   "metadata": {
    "deletable": false,
    "editable": false,
    "execution": {
     "iopub.execute_input": "2025-10-20T06:29:27.242764Z",
     "iopub.status.busy": "2025-10-20T06:29:27.242607Z",
     "iopub.status.idle": "2025-10-20T06:29:27.245368Z",
     "shell.execute_reply": "2025-10-20T06:29:27.244972Z"
    },
    "nbgrader": {
     "cell_type": "code",
     "checksum": "016602c056bc2330dfe625bcd5736e8a",
     "grade": true,
     "grade_id": "cell-ccc53701ebbe194a",
     "locked": true,
     "points": 2,
     "schema_version": 3,
     "solution": false,
     "task": false
    }
   },
   "outputs": [],
   "source": [
    "data = np.array([1,2,4])\n",
    "weights = np.array([2,2,1])\n",
    "wtavg = weightedaverage(data,weights)\n",
    "assert wtavg == 2"
   ]
  },
  {
   "cell_type": "code",
   "execution_count": 14,
   "id": "2c5cd74f",
   "metadata": {
    "deletable": false,
    "editable": false,
    "execution": {
     "iopub.execute_input": "2025-10-20T06:29:27.247411Z",
     "iopub.status.busy": "2025-10-20T06:29:27.247255Z",
     "iopub.status.idle": "2025-10-20T06:29:27.251876Z",
     "shell.execute_reply": "2025-10-20T06:29:27.251279Z"
    },
    "nbgrader": {
     "cell_type": "code",
     "checksum": "5b7651f3e00dc0ea1e45d72af062fe5a",
     "grade": true,
     "grade_id": "cell-324f1bd834a3b822",
     "locked": true,
     "points": 2,
     "schema_version": 3,
     "solution": false,
     "task": false
    }
   },
   "outputs": [],
   "source": [
    "data = np.array([1,2,3,4,5])\n",
    "weights = np.array([2,4,1,1,2])\n",
    "wtavg = weightedaverage(data,weights)\n",
    "assert wtavg == 2.7"
   ]
  },
  {
   "cell_type": "markdown",
   "id": "f1d6e283",
   "metadata": {},
   "source": [
    "5. We want to compute Jimmy Butler's career averages of steals and fouls.  The data provided are yearly averages.\n",
    "If we using a simple mean or median to compute Jimmy Butler's career average we dont take into account that he played a *different number of games each year*. For example. in one year he got injured and only played in 10 games (see **games**)\n",
    "* We want to *weight* the average of his yearly statistics by the number of games played each year. \n",
    "* The list **games** indicates the number of games played in each year.  \n",
    "* Use your function `weightedaverage` to compute a weighted average of Jimmy's steals per game in a variable named **average_steals** and a weighted average of the number of fouls per game in a variable named **average_fouls**.  "
   ]
  },
  {
   "cell_type": "code",
   "execution_count": 15,
   "id": "afcb7559",
   "metadata": {
    "deletable": false,
    "execution": {
     "iopub.execute_input": "2025-10-20T06:29:27.253200Z",
     "iopub.status.busy": "2025-10-20T06:29:27.253119Z",
     "iopub.status.idle": "2025-10-20T06:29:27.254688Z",
     "shell.execute_reply": "2025-10-20T06:29:27.254424Z"
    },
    "nbgrader": {
     "cell_type": "code",
     "checksum": "39f49af19525ff1b7161b1eb5e841b61",
     "grade": false,
     "grade_id": "cell-a6cb876518bc27b9",
     "locked": false,
     "schema_version": 3,
     "solution": true,
     "task": false
    }
   },
   "outputs": [],
   "source": [
    "average_steals = weightedaverage(np.array(steals),games)\n",
    "average_fouls = weightedaverage(np.array(fouls),games)"
   ]
  },
  {
   "cell_type": "code",
   "execution_count": 16,
   "id": "8d53cd9c",
   "metadata": {
    "deletable": false,
    "editable": false,
    "execution": {
     "iopub.execute_input": "2025-10-20T06:29:27.255623Z",
     "iopub.status.busy": "2025-10-20T06:29:27.255554Z",
     "iopub.status.idle": "2025-10-20T06:29:27.257036Z",
     "shell.execute_reply": "2025-10-20T06:29:27.256830Z"
    },
    "nbgrader": {
     "cell_type": "code",
     "checksum": "e3a90588bae39ec493cef69027cf8dfd",
     "grade": true,
     "grade_id": "cell-83ed95c7aa9c856a",
     "locked": true,
     "points": 4,
     "schema_version": 3,
     "solution": false,
     "task": false
    }
   },
   "outputs": [],
   "source": [
    "assert np.isclose(average_steals,1.71,rtol=0.05)\n",
    "assert np.isclose(average_fouls,1.47,rtol=0.05)\n"
   ]
  },
  {
   "cell_type": "code",
   "execution_count": null,
   "id": "fa9c92a8-b807-4e84-9aec-553c6c29d6ca",
   "metadata": {},
   "outputs": [],
   "source": []
  }
 ],
 "metadata": {
  "kernelspec": {
   "display_name": "mytest",
   "language": "python",
   "name": "python3"
  },
  "language_info": {
   "codemirror_mode": {
    "name": "ipython",
    "version": 3
   },
   "file_extension": ".py",
   "mimetype": "text/x-python",
   "name": "python",
   "nbconvert_exporter": "python",
   "pygments_lexer": "ipython3",
   "version": "3.13.7"
  }
 },
 "nbformat": 4,
 "nbformat_minor": 5
}
