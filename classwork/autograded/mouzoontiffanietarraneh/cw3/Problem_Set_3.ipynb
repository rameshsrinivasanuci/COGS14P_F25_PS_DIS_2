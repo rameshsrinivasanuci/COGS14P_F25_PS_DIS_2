{
 "cells": [
  {
   "cell_type": "markdown",
   "id": "3c50abc6",
   "metadata": {},
   "source": [
    "Before you turn this problem in, make sure everything runs as expected. First, **restart the kernel** (in the menubar, select  **Restart** and **Clear All Outputs**, then select **Run All**).\n",
    "\n",
    "Make sure you fill in any place that says `YOUR CODE HERE` or \"YOUR ANSWER HERE\", as well as your name and collaborators below:"
   ]
  },
  {
   "cell_type": "code",
   "execution_count": 1,
   "id": "3ed8be1a",
   "metadata": {
    "execution": {
     "iopub.execute_input": "2025-10-20T06:09:14.784633Z",
     "iopub.status.busy": "2025-10-20T06:09:14.784365Z",
     "iopub.status.idle": "2025-10-20T06:09:14.789315Z",
     "shell.execute_reply": "2025-10-20T06:09:14.788832Z"
    }
   },
   "outputs": [],
   "source": [
    "NAME = \"Tiffanie\"\n",
    "COLLABORATORS = \"GENOS\""
   ]
  },
  {
   "cell_type": "markdown",
   "id": "020760d9",
   "metadata": {},
   "source": [
    "---"
   ]
  },
  {
   "cell_type": "markdown",
   "id": "f560cb29-5c26-472a-bc56-ed82e9cc5f32",
   "metadata": {
    "tags": []
   },
   "source": [
    "## **Problem Set 3** Execution Control I\n",
    "\n",
    "This is a problem set. You can work on it with the help of your classmates, Google, or ask me any questions you would like.\n",
    "\n",
    "I encourage discussion during these problem sets.  "
   ]
  },
  {
   "cell_type": "code",
   "execution_count": 2,
   "id": "5b487076-710f-4572-a17f-fe9570c93ca4",
   "metadata": {
    "execution": {
     "iopub.execute_input": "2025-10-20T06:09:14.792260Z",
     "iopub.status.busy": "2025-10-20T06:09:14.791981Z",
     "iopub.status.idle": "2025-10-20T06:09:14.843514Z",
     "shell.execute_reply": "2025-10-20T06:09:14.843024Z"
    }
   },
   "outputs": [],
   "source": [
    "import numpy as np"
   ]
  },
  {
   "cell_type": "markdown",
   "id": "421c2a51",
   "metadata": {},
   "source": [
    "1. Write a function called **clip** that takes as input arguments an array of integers **x** and two values **upper** and **lower**.  The function replaces any values in the array greater than **upper** with the value **upper** and lower thant **lower** with the value **lower**.  The function should return the new array with modified values.  Solve the problem using logical indexing.       "
   ]
  },
  {
   "cell_type": "code",
   "execution_count": 3,
   "id": "0e4d9939",
   "metadata": {
    "deletable": false,
    "execution": {
     "iopub.execute_input": "2025-10-20T06:09:14.846145Z",
     "iopub.status.busy": "2025-10-20T06:09:14.845893Z",
     "iopub.status.idle": "2025-10-20T06:09:14.848797Z",
     "shell.execute_reply": "2025-10-20T06:09:14.848201Z"
    },
    "nbgrader": {
     "cell_type": "code",
     "checksum": "b14ddc5e9ae1fcd8c4d197d71881864c",
     "grade": false,
     "grade_id": "cell-ed628adef9122d0e",
     "locked": false,
     "schema_version": 3,
     "solution": true,
     "task": false
    }
   },
   "outputs": [],
   "source": [
    "# YOUR CODE HERE\n",
    "def clip (x, upper, lower):\n",
    "    x[x > upper] = upper \n",
    "    x[x < lower] = lower\n",
    "    return x\n",
    "    "
   ]
  },
  {
   "cell_type": "code",
   "execution_count": 4,
   "id": "e7575fa5",
   "metadata": {
    "deletable": false,
    "editable": false,
    "execution": {
     "iopub.execute_input": "2025-10-20T06:09:14.851038Z",
     "iopub.status.busy": "2025-10-20T06:09:14.850828Z",
     "iopub.status.idle": "2025-10-20T06:09:14.853894Z",
     "shell.execute_reply": "2025-10-20T06:09:14.853238Z"
    },
    "nbgrader": {
     "cell_type": "code",
     "checksum": "55004d4f118129e5afdae6ce6af281fb",
     "grade": true,
     "grade_id": "cell-338ae9bd6b6478af",
     "locked": true,
     "points": 2,
     "schema_version": 3,
     "solution": false,
     "task": false
    }
   },
   "outputs": [],
   "source": [
    "x = np.arange(10,200,10)\n",
    "upper = 100\n",
    "lower = 50\n",
    "x = clip(x, upper, lower)\n",
    "assert x[3] == 50  \n",
    "assert x[10] == 100      "
   ]
  },
  {
   "cell_type": "markdown",
   "id": "9f02ee08",
   "metadata": {},
   "source": [
    "2.  A store is having a sale based on what the customer spends. \n",
    "\n",
    "* If they spend less than 100, they receive no discount.\n",
    "* If the user spends between 100 and 150, they receive 25 off.\n",
    "* If they user spends 150 or more, they receive 50 off. \n",
    "\n",
    "Write a function **discount** that calculates the sale price the customer pays.\n",
    "\n",
    "The argument for this function is the price of the items the customer purchases. "
   ]
  },
  {
   "cell_type": "code",
   "execution_count": 5,
   "id": "c1120bbb",
   "metadata": {
    "deletable": false,
    "execution": {
     "iopub.execute_input": "2025-10-20T06:09:14.856119Z",
     "iopub.status.busy": "2025-10-20T06:09:14.855983Z",
     "iopub.status.idle": "2025-10-20T06:09:14.858741Z",
     "shell.execute_reply": "2025-10-20T06:09:14.858005Z"
    },
    "nbgrader": {
     "cell_type": "code",
     "checksum": "e2d5583b871394d7d164ccef2559f5cd",
     "grade": false,
     "grade_id": "cell-59ac799a002e3ebb",
     "locked": false,
     "schema_version": 3,
     "solution": true,
     "task": false
    }
   },
   "outputs": [],
   "source": [
    "# YOUR CODE HERE\n",
    "def discount(price):\n",
    "    if price < 100: \n",
    "        return price \n",
    "    elif price > 100 and price < 150:\n",
    "        return price - 25\n",
    "    else: \n",
    "        return price - 50 \n"
   ]
  },
  {
   "cell_type": "code",
   "execution_count": 6,
   "id": "4b9a2365",
   "metadata": {
    "deletable": false,
    "editable": false,
    "execution": {
     "iopub.execute_input": "2025-10-20T06:09:14.861010Z",
     "iopub.status.busy": "2025-10-20T06:09:14.860797Z",
     "iopub.status.idle": "2025-10-20T06:09:14.863412Z",
     "shell.execute_reply": "2025-10-20T06:09:14.862970Z"
    },
    "nbgrader": {
     "cell_type": "code",
     "checksum": "42ebc195c989dfea358b237a571c0392",
     "grade": true,
     "grade_id": "cell-15bef6706414f9c7",
     "locked": true,
     "points": 2,
     "schema_version": 3,
     "solution": false,
     "task": false
    }
   },
   "outputs": [],
   "source": [
    "price = 90\n",
    "saleprice = discount(price)\n",
    "assert saleprice == price"
   ]
  },
  {
   "cell_type": "code",
   "execution_count": 7,
   "id": "dd98f284",
   "metadata": {
    "deletable": false,
    "editable": false,
    "execution": {
     "iopub.execute_input": "2025-10-20T06:09:14.865435Z",
     "iopub.status.busy": "2025-10-20T06:09:14.865259Z",
     "iopub.status.idle": "2025-10-20T06:09:14.870010Z",
     "shell.execute_reply": "2025-10-20T06:09:14.867322Z"
    },
    "nbgrader": {
     "cell_type": "code",
     "checksum": "d646d6da7a9d8814d95dc472b8e8a1bd",
     "grade": true,
     "grade_id": "cell-3d940bd592341be5",
     "locked": true,
     "points": 2,
     "schema_version": 3,
     "solution": false,
     "task": false
    }
   },
   "outputs": [],
   "source": [
    "price = 120\n",
    "saleprice = discount(price)\n",
    "assert saleprice == price-25"
   ]
  },
  {
   "cell_type": "code",
   "execution_count": 8,
   "id": "8821e1a9",
   "metadata": {
    "deletable": false,
    "editable": false,
    "execution": {
     "iopub.execute_input": "2025-10-20T06:09:14.872192Z",
     "iopub.status.busy": "2025-10-20T06:09:14.871997Z",
     "iopub.status.idle": "2025-10-20T06:09:14.874597Z",
     "shell.execute_reply": "2025-10-20T06:09:14.874185Z"
    },
    "nbgrader": {
     "cell_type": "code",
     "checksum": "7ffeccca8bb3926d052b93c1a6270b1b",
     "grade": true,
     "grade_id": "cell-d02ff3e5ae414724",
     "locked": true,
     "points": 2,
     "schema_version": 3,
     "solution": false,
     "task": false
    }
   },
   "outputs": [],
   "source": [
    "price = 150\n",
    "saleprice = discount(price)\n",
    "assert saleprice == price-50"
   ]
  },
  {
   "cell_type": "markdown",
   "id": "e1460431",
   "metadata": {},
   "source": [
    "3. Write a function called **trianglename**. \n",
    "- The input arguments to the function are the lengths of the 3 sides of the triangle - a, b and c.  \n",
    "- Your function should use a statement of the type (`if`-`elif`-`else`) to determine if the triangle is 'equilateral', 'isosceles' or 'obtuse' and return the correct triangle name \n",
    "* 'equilateral' means all sides are equal, \n",
    "* 'isosceles' means two of the sides are equal but not the third one, \n",
    "* 'obtuse' means all 3 sides are different.\n",
    "- There is no preferred way to do this problem, and there are many possible solutions. \n",
    "- Note that I have created 3 test cases here. When testing a piece of code, you should always test that all possible cases work. "
   ]
  },
  {
   "cell_type": "code",
   "execution_count": 9,
   "id": "64edb1c1",
   "metadata": {
    "deletable": false,
    "execution": {
     "iopub.execute_input": "2025-10-20T06:09:14.876635Z",
     "iopub.status.busy": "2025-10-20T06:09:14.876483Z",
     "iopub.status.idle": "2025-10-20T06:09:14.879238Z",
     "shell.execute_reply": "2025-10-20T06:09:14.878641Z"
    },
    "nbgrader": {
     "cell_type": "code",
     "checksum": "5377333dab7b33f2e66b6f702d21929a",
     "grade": false,
     "grade_id": "cell-6a863cd8f2f710ce",
     "locked": false,
     "schema_version": 3,
     "solution": true,
     "task": false
    }
   },
   "outputs": [],
   "source": [
    "# YOUR CODE HERE\n",
    "def trianglename(a, b, c):\n",
    "    if a == b == c:\n",
    "        return 'equilateral'\n",
    "    elif (a == b)| (b == c) | (a == c):\n",
    "        return 'isosceles'\n",
    "    else: \n",
    "        return 'obtuse'\n",
    "    "
   ]
  },
  {
   "cell_type": "code",
   "execution_count": 10,
   "id": "48b56591",
   "metadata": {
    "deletable": false,
    "editable": false,
    "execution": {
     "iopub.execute_input": "2025-10-20T06:09:14.881355Z",
     "iopub.status.busy": "2025-10-20T06:09:14.881197Z",
     "iopub.status.idle": "2025-10-20T06:09:14.883799Z",
     "shell.execute_reply": "2025-10-20T06:09:14.883392Z"
    },
    "nbgrader": {
     "cell_type": "code",
     "checksum": "7a599bc7e5eba2331a92385b05c37afc",
     "grade": true,
     "grade_id": "cell-616f43338754cde7",
     "locked": true,
     "points": 2,
     "schema_version": 3,
     "solution": false,
     "task": false
    }
   },
   "outputs": [],
   "source": [
    "x = 6 \n",
    "y = 7\n",
    "z = 7\n",
    "triangle = trianglename(x,y,z)\n",
    "assert triangle == 'isosceles'"
   ]
  },
  {
   "cell_type": "code",
   "execution_count": 11,
   "id": "d35e2673",
   "metadata": {
    "deletable": false,
    "editable": false,
    "execution": {
     "iopub.execute_input": "2025-10-20T06:09:14.885935Z",
     "iopub.status.busy": "2025-10-20T06:09:14.885777Z",
     "iopub.status.idle": "2025-10-20T06:09:14.888264Z",
     "shell.execute_reply": "2025-10-20T06:09:14.887721Z"
    },
    "nbgrader": {
     "cell_type": "code",
     "checksum": "2359babd1ddd96a0b0fd9f7cfb1ae65a",
     "grade": true,
     "grade_id": "cell-bf336b105b6ecee5",
     "locked": true,
     "points": 2,
     "schema_version": 3,
     "solution": false,
     "task": false
    }
   },
   "outputs": [],
   "source": [
    "x = 7 \n",
    "y = 7\n",
    "z = 7\n",
    "triangle = trianglename(x,y,z)\n",
    "assert triangle == 'equilateral'"
   ]
  },
  {
   "cell_type": "code",
   "execution_count": 12,
   "id": "03fb174a",
   "metadata": {
    "deletable": false,
    "editable": false,
    "execution": {
     "iopub.execute_input": "2025-10-20T06:09:14.890679Z",
     "iopub.status.busy": "2025-10-20T06:09:14.890473Z",
     "iopub.status.idle": "2025-10-20T06:09:14.893087Z",
     "shell.execute_reply": "2025-10-20T06:09:14.892665Z"
    },
    "nbgrader": {
     "cell_type": "code",
     "checksum": "f5ac74f7419830a4a346664549fd6ebf",
     "grade": true,
     "grade_id": "cell-d88d286035d01233",
     "locked": true,
     "points": 2,
     "schema_version": 3,
     "solution": false,
     "task": false
    }
   },
   "outputs": [],
   "source": [
    "x = 6 \n",
    "y = 7\n",
    "z = 8\n",
    "triangle = trianglename(x,y,z)\n",
    "assert triangle == 'obtuse'"
   ]
  },
  {
   "cell_type": "markdown",
   "id": "8405501c",
   "metadata": {},
   "source": [
    "4.  Write a function  that checks if a positive whole number provided as an argument is a prime number. The function should return the string 'prime' if the number is prime, and 'not prime' if the number is not prime. A prime number is divisible by exactly two numbers: itself and 1.  Do not use any loops (if you know how to use them).\n",
    "\n",
    "   Hint:  \n",
    "* % tells you the remainder when dividing a number by a number or an array\n",
    "* np.arange can be used to make an array"
   ]
  },
  {
   "cell_type": "code",
   "execution_count": 13,
   "id": "9be46d7f",
   "metadata": {
    "deletable": false,
    "execution": {
     "iopub.execute_input": "2025-10-20T06:09:14.896064Z",
     "iopub.status.busy": "2025-10-20T06:09:14.895855Z",
     "iopub.status.idle": "2025-10-20T06:09:14.898474Z",
     "shell.execute_reply": "2025-10-20T06:09:14.898061Z"
    },
    "nbgrader": {
     "cell_type": "code",
     "checksum": "464448a66831d65a84781ede63834992",
     "grade": false,
     "grade_id": "cell-abac5d0d0749ddd6",
     "locked": false,
     "schema_version": 3,
     "solution": true,
     "task": false
    }
   },
   "outputs": [],
   "source": [
    "# YOUR CODE HERE\n",
    "def isprime(x):\n",
    "    if np.any (x % np.arange(2,x)== 0):\n",
    "        return 'not prime'\n",
    "    elif x == 1:\n",
    "        return 'not prime'\n",
    "    else:\n",
    "        return 'prime' "
   ]
  },
  {
   "cell_type": "code",
   "execution_count": 14,
   "id": "8daed8d5",
   "metadata": {
    "deletable": false,
    "editable": false,
    "execution": {
     "iopub.execute_input": "2025-10-20T06:09:14.900438Z",
     "iopub.status.busy": "2025-10-20T06:09:14.900248Z",
     "iopub.status.idle": "2025-10-20T06:09:14.902883Z",
     "shell.execute_reply": "2025-10-20T06:09:14.902240Z"
    },
    "nbgrader": {
     "cell_type": "code",
     "checksum": "5c881501447dd790da5436a7e1fa7b39",
     "grade": true,
     "grade_id": "cell-735b98f4df1eca7d",
     "locked": true,
     "points": 2,
     "schema_version": 3,
     "solution": false,
     "task": false
    }
   },
   "outputs": [],
   "source": [
    "assert isprime(8) == 'not prime'\n",
    "### BEGIN HIDDEN TESTS ###\n",
    "assert isprime(7) == 'prime'\n",
    "### END HIDDEN TESTS ###"
   ]
  },
  {
   "cell_type": "code",
   "execution_count": 15,
   "id": "bd6e86d5-d065-4279-9e41-a9a5f5fac713",
   "metadata": {
    "deletable": false,
    "editable": false,
    "execution": {
     "iopub.execute_input": "2025-10-20T06:09:14.904903Z",
     "iopub.status.busy": "2025-10-20T06:09:14.904738Z",
     "iopub.status.idle": "2025-10-20T06:09:14.907408Z",
     "shell.execute_reply": "2025-10-20T06:09:14.906699Z"
    },
    "nbgrader": {
     "cell_type": "code",
     "checksum": "834bdb02c5c1ebcdef322190c0e19512",
     "grade": true,
     "grade_id": "cell-13196bb4dcd60f06",
     "locked": true,
     "points": 2,
     "schema_version": 3,
     "solution": false,
     "task": false
    }
   },
   "outputs": [],
   "source": [
    "assert isprime(31) == 'prime'\n",
    "### BEGIN HIDDEN TESTS ###\n",
    "assert isprime(30) == 'not prime'\n",
    "### END HIDDEN TESTS ###"
   ]
  },
  {
   "cell_type": "code",
   "execution_count": 16,
   "id": "04dee51c-16ab-46e2-9ccb-1d18d3cb70c8",
   "metadata": {
    "deletable": false,
    "editable": false,
    "execution": {
     "iopub.execute_input": "2025-10-20T06:09:14.909720Z",
     "iopub.status.busy": "2025-10-20T06:09:14.909445Z",
     "iopub.status.idle": "2025-10-20T06:09:14.912218Z",
     "shell.execute_reply": "2025-10-20T06:09:14.911516Z"
    },
    "nbgrader": {
     "cell_type": "code",
     "checksum": "944e2dc6f92a22797d37e02e98fdef42",
     "grade": true,
     "grade_id": "cell-634914584a356eb3",
     "locked": true,
     "points": 2,
     "schema_version": 3,
     "solution": false,
     "task": false
    }
   },
   "outputs": [],
   "source": [
    "assert isprime(1) == 'not prime'"
   ]
  }
 ],
 "metadata": {
  "kernelspec": {
   "display_name": "Python 3 (ipykernel)",
   "language": "python",
   "name": "python3"
  },
  "language_info": {
   "codemirror_mode": {
    "name": "ipython",
    "version": 3
   },
   "file_extension": ".py",
   "mimetype": "text/x-python",
   "name": "python",
   "nbconvert_exporter": "python",
   "pygments_lexer": "ipython3",
   "version": "3.13.7"
  }
 },
 "nbformat": 4,
 "nbformat_minor": 5
}
