{
 "cells": [
  {
   "cell_type": "markdown",
   "id": "3c50abc6",
   "metadata": {},
   "source": [
    "Before you turn this problem in, make sure everything runs as expected. First, **restart the kernel** (in the menubar, select  **Restart** and **Clear All Outputs**, then select **Run All**).\n",
    "\n",
    "Make sure you fill in any place that says `YOUR CODE HERE` or \"YOUR ANSWER HERE\", as well as your name and collaborators below:"
   ]
  },
  {
   "cell_type": "code",
   "execution_count": 1,
   "id": "3ed8be1a",
   "metadata": {
    "execution": {
     "iopub.execute_input": "2025-10-20T06:09:40.172320Z",
     "iopub.status.busy": "2025-10-20T06:09:40.172062Z",
     "iopub.status.idle": "2025-10-20T06:09:40.177523Z",
     "shell.execute_reply": "2025-10-20T06:09:40.176966Z"
    }
   },
   "outputs": [],
   "source": [
    "NAME = \"Yuqiang Wang\"\n",
    "COLLABORATORS = \"GENOS\""
   ]
  },
  {
   "cell_type": "markdown",
   "id": "020760d9",
   "metadata": {},
   "source": [
    "---"
   ]
  },
  {
   "cell_type": "markdown",
   "id": "f560cb29-5c26-472a-bc56-ed82e9cc5f32",
   "metadata": {
    "tags": []
   },
   "source": [
    "## **Problem Set 3** Execution Control I\n",
    "\n",
    "This is a problem set. You can work on it with the help of your classmates, Google, or ask me any questions you would like.\n",
    "\n",
    "I encourage discussion during these problem sets.  "
   ]
  },
  {
   "cell_type": "code",
   "execution_count": 2,
   "id": "5b487076-710f-4572-a17f-fe9570c93ca4",
   "metadata": {
    "execution": {
     "iopub.execute_input": "2025-10-20T06:09:40.181008Z",
     "iopub.status.busy": "2025-10-20T06:09:40.180803Z",
     "iopub.status.idle": "2025-10-20T06:09:40.238398Z",
     "shell.execute_reply": "2025-10-20T06:09:40.237912Z"
    }
   },
   "outputs": [],
   "source": [
    "import numpy as np"
   ]
  },
  {
   "cell_type": "markdown",
   "id": "421c2a51",
   "metadata": {},
   "source": [
    "1. Write a function called **clip** that takes as input arguments an array of integers **x** and two values **upper** and **lower**.  The function replaces any values in the array greater than **upper** with the value **upper** and lower thant **lower** with the value **lower**.  The function should return the new array with modified values.  Solve the problem using logical indexing.       "
   ]
  },
  {
   "cell_type": "code",
   "execution_count": 3,
   "id": "0e4d9939",
   "metadata": {
    "deletable": false,
    "execution": {
     "iopub.execute_input": "2025-10-20T06:09:40.241095Z",
     "iopub.status.busy": "2025-10-20T06:09:40.240812Z",
     "iopub.status.idle": "2025-10-20T06:09:40.394991Z",
     "shell.execute_reply": "2025-10-20T06:09:40.394477Z"
    },
    "nbgrader": {
     "cell_type": "code",
     "checksum": "b14ddc5e9ae1fcd8c4d197d71881864c",
     "grade": false,
     "grade_id": "cell-ed628adef9122d0e",
     "locked": false,
     "schema_version": 3,
     "solution": true,
     "task": false
    }
   },
   "outputs": [
    {
     "ename": "NameError",
     "evalue": "name 'clip' is not defined",
     "output_type": "error",
     "traceback": [
      "\u001b[31m---------------------------------------------------------------------------\u001b[39m",
      "\u001b[31mNameError\u001b[39m                                 Traceback (most recent call last)",
      "\u001b[36mCell\u001b[39m\u001b[36m \u001b[39m\u001b[32mIn[3]\u001b[39m\u001b[32m, line 6\u001b[39m\n\u001b[32m      4\u001b[39m upper = \u001b[32m100\u001b[39m\n\u001b[32m      5\u001b[39m lower = \u001b[32m50\u001b[39m\n\u001b[32m----> \u001b[39m\u001b[32m6\u001b[39m x = \u001b[43mclip\u001b[49m(x, upper, lower)\n\u001b[32m      7\u001b[39m \u001b[38;5;28;01massert\u001b[39;00m x[\u001b[32m3\u001b[39m] == \u001b[32m50\u001b[39m\n\u001b[32m      8\u001b[39m \u001b[38;5;28;01massert\u001b[39;00m x[\u001b[32m10\u001b[39m] == \u001b[32m100\u001b[39m\n",
      "\u001b[31mNameError\u001b[39m: name 'clip' is not defined"
     ]
    }
   ],
   "source": [
    "import numpy as np\n",
    "\n",
    "x = np.arange(10, 200, 10)\n",
    "upper = 100\n",
    "lower = 50\n",
    "x = clip(x, upper, lower)\n",
    "assert x[3] == 50\n",
    "assert x[10] == 100\n",
    "print(x)"
   ]
  },
  {
   "cell_type": "code",
   "execution_count": 4,
   "id": "e7575fa5",
   "metadata": {
    "deletable": false,
    "editable": false,
    "execution": {
     "iopub.execute_input": "2025-10-20T06:09:40.397449Z",
     "iopub.status.busy": "2025-10-20T06:09:40.397271Z",
     "iopub.status.idle": "2025-10-20T06:09:40.418723Z",
     "shell.execute_reply": "2025-10-20T06:09:40.418201Z"
    },
    "nbgrader": {
     "cell_type": "code",
     "checksum": "55004d4f118129e5afdae6ce6af281fb",
     "grade": true,
     "grade_id": "cell-338ae9bd6b6478af",
     "locked": true,
     "points": 2,
     "schema_version": 3,
     "solution": false,
     "task": false
    }
   },
   "outputs": [
    {
     "ename": "NameError",
     "evalue": "name 'clip' is not defined",
     "output_type": "error",
     "traceback": [
      "\u001b[31m---------------------------------------------------------------------------\u001b[39m",
      "\u001b[31mNameError\u001b[39m                                 Traceback (most recent call last)",
      "\u001b[36mCell\u001b[39m\u001b[36m \u001b[39m\u001b[32mIn[4]\u001b[39m\u001b[32m, line 4\u001b[39m\n\u001b[32m      2\u001b[39m upper = \u001b[32m100\u001b[39m\n\u001b[32m      3\u001b[39m lower = \u001b[32m50\u001b[39m\n\u001b[32m----> \u001b[39m\u001b[32m4\u001b[39m x = \u001b[43mclip\u001b[49m(x, upper, lower)\n\u001b[32m      5\u001b[39m \u001b[38;5;28;01massert\u001b[39;00m x[\u001b[32m3\u001b[39m] == \u001b[32m50\u001b[39m  \n\u001b[32m      6\u001b[39m \u001b[38;5;28;01massert\u001b[39;00m x[\u001b[32m10\u001b[39m] == \u001b[32m100\u001b[39m      \n",
      "\u001b[31mNameError\u001b[39m: name 'clip' is not defined"
     ]
    }
   ],
   "source": [
    "x = np.arange(10,200,10)\n",
    "upper = 100\n",
    "lower = 50\n",
    "x = clip(x, upper, lower)\n",
    "assert x[3] == 50  \n",
    "assert x[10] == 100      "
   ]
  },
  {
   "cell_type": "markdown",
   "id": "9f02ee08",
   "metadata": {},
   "source": [
    "2.  A store is having a sale based on what the customer spends. \n",
    "\n",
    "* If they spend less than 100, they receive no discount.\n",
    "* If the user spends between 100 and 150, they receive 25 off.\n",
    "* If they user spends 150 or more, they receive 50 off. \n",
    "\n",
    "Write a function **discount** that calculates the sale price the customer pays.\n",
    "\n",
    "The argument for this function is the price of the items the customer purchases. "
   ]
  },
  {
   "cell_type": "code",
   "execution_count": 5,
   "id": "c1120bbb",
   "metadata": {
    "deletable": false,
    "execution": {
     "iopub.execute_input": "2025-10-20T06:09:40.421098Z",
     "iopub.status.busy": "2025-10-20T06:09:40.420932Z",
     "iopub.status.idle": "2025-10-20T06:09:40.423854Z",
     "shell.execute_reply": "2025-10-20T06:09:40.423313Z"
    },
    "nbgrader": {
     "cell_type": "code",
     "checksum": "e2d5583b871394d7d164ccef2559f5cd",
     "grade": false,
     "grade_id": "cell-59ac799a002e3ebb",
     "locked": false,
     "schema_version": 3,
     "solution": true,
     "task": false
    }
   },
   "outputs": [],
   "source": [
    "def discount(spend):\n",
    "    if spend < 100:\n",
    "        return spend\n",
    "    elif spend >= 100 and spend < 150:\n",
    "        return spend -25\n",
    "    else:\n",
    "        return spend -50"
   ]
  },
  {
   "cell_type": "code",
   "execution_count": 6,
   "id": "4b9a2365",
   "metadata": {
    "deletable": false,
    "editable": false,
    "execution": {
     "iopub.execute_input": "2025-10-20T06:09:40.426119Z",
     "iopub.status.busy": "2025-10-20T06:09:40.425908Z",
     "iopub.status.idle": "2025-10-20T06:09:40.428545Z",
     "shell.execute_reply": "2025-10-20T06:09:40.427917Z"
    },
    "nbgrader": {
     "cell_type": "code",
     "checksum": "42ebc195c989dfea358b237a571c0392",
     "grade": true,
     "grade_id": "cell-15bef6706414f9c7",
     "locked": true,
     "points": 2,
     "schema_version": 3,
     "solution": false,
     "task": false
    }
   },
   "outputs": [],
   "source": [
    "price = 90\n",
    "saleprice = discount(price)\n",
    "assert saleprice == price"
   ]
  },
  {
   "cell_type": "code",
   "execution_count": 7,
   "id": "dd98f284",
   "metadata": {
    "deletable": false,
    "editable": false,
    "execution": {
     "iopub.execute_input": "2025-10-20T06:09:40.430710Z",
     "iopub.status.busy": "2025-10-20T06:09:40.430505Z",
     "iopub.status.idle": "2025-10-20T06:09:40.435268Z",
     "shell.execute_reply": "2025-10-20T06:09:40.432648Z"
    },
    "nbgrader": {
     "cell_type": "code",
     "checksum": "d646d6da7a9d8814d95dc472b8e8a1bd",
     "grade": true,
     "grade_id": "cell-3d940bd592341be5",
     "locked": true,
     "points": 2,
     "schema_version": 3,
     "solution": false,
     "task": false
    }
   },
   "outputs": [],
   "source": [
    "price = 120\n",
    "saleprice = discount(price)\n",
    "assert saleprice == price-25"
   ]
  },
  {
   "cell_type": "code",
   "execution_count": 8,
   "id": "8821e1a9",
   "metadata": {
    "deletable": false,
    "editable": false,
    "execution": {
     "iopub.execute_input": "2025-10-20T06:09:40.440758Z",
     "iopub.status.busy": "2025-10-20T06:09:40.440577Z",
     "iopub.status.idle": "2025-10-20T06:09:40.444646Z",
     "shell.execute_reply": "2025-10-20T06:09:40.443564Z"
    },
    "nbgrader": {
     "cell_type": "code",
     "checksum": "7ffeccca8bb3926d052b93c1a6270b1b",
     "grade": true,
     "grade_id": "cell-d02ff3e5ae414724",
     "locked": true,
     "points": 2,
     "schema_version": 3,
     "solution": false,
     "task": false
    }
   },
   "outputs": [],
   "source": [
    "price = 150\n",
    "saleprice = discount(price)\n",
    "assert saleprice == price-50"
   ]
  },
  {
   "cell_type": "markdown",
   "id": "e1460431",
   "metadata": {},
   "source": [
    "3. Write a function called **trianglename**. \n",
    "- The input arguments to the function are the lengths of the 3 sides of the triangle - a, b and c.  \n",
    "- Your function should use a statement of the type (`if`-`elif`-`else`) to determine if the triangle is 'equilateral', 'isosceles' or 'obtuse' and return the correct triangle name \n",
    "* 'equilateral' means all sides are equal, \n",
    "* 'isosceles' means two of the sides are equal but not the third one, \n",
    "* 'obtuse' means all 3 sides are different.\n",
    "- There is no preferred way to do this problem, and there are many possible solutions. \n",
    "- Note that I have created 3 test cases here. When testing a piece of code, you should always test that all possible cases work. "
   ]
  },
  {
   "cell_type": "code",
   "execution_count": 9,
   "id": "64edb1c1",
   "metadata": {
    "deletable": false,
    "execution": {
     "iopub.execute_input": "2025-10-20T06:09:40.447132Z",
     "iopub.status.busy": "2025-10-20T06:09:40.446892Z",
     "iopub.status.idle": "2025-10-20T06:09:40.449892Z",
     "shell.execute_reply": "2025-10-20T06:09:40.449403Z"
    },
    "nbgrader": {
     "cell_type": "code",
     "checksum": "5377333dab7b33f2e66b6f702d21929a",
     "grade": false,
     "grade_id": "cell-6a863cd8f2f710ce",
     "locked": false,
     "schema_version": 3,
     "solution": true,
     "task": false
    }
   },
   "outputs": [],
   "source": [
    "def trianglename(a, b, c):\n",
    "    if a == b == c:\n",
    "        return 'equilateral'\n",
    "    elif a == b or b == c or a == c:\n",
    "        return 'isosceles'\n",
    "    else:\n",
    "        return 'obtuse'"
   ]
  },
  {
   "cell_type": "code",
   "execution_count": 10,
   "id": "48b56591",
   "metadata": {
    "deletable": false,
    "editable": false,
    "execution": {
     "iopub.execute_input": "2025-10-20T06:09:40.452067Z",
     "iopub.status.busy": "2025-10-20T06:09:40.451875Z",
     "iopub.status.idle": "2025-10-20T06:09:40.454575Z",
     "shell.execute_reply": "2025-10-20T06:09:40.454100Z"
    },
    "nbgrader": {
     "cell_type": "code",
     "checksum": "7a599bc7e5eba2331a92385b05c37afc",
     "grade": true,
     "grade_id": "cell-616f43338754cde7",
     "locked": true,
     "points": 2,
     "schema_version": 3,
     "solution": false,
     "task": false
    }
   },
   "outputs": [],
   "source": [
    "x = 6 \n",
    "y = 7\n",
    "z = 7\n",
    "triangle = trianglename(x,y,z)\n",
    "assert triangle == 'isosceles'"
   ]
  },
  {
   "cell_type": "code",
   "execution_count": 11,
   "id": "d35e2673",
   "metadata": {
    "deletable": false,
    "editable": false,
    "execution": {
     "iopub.execute_input": "2025-10-20T06:09:40.456899Z",
     "iopub.status.busy": "2025-10-20T06:09:40.456738Z",
     "iopub.status.idle": "2025-10-20T06:09:40.459590Z",
     "shell.execute_reply": "2025-10-20T06:09:40.459179Z"
    },
    "nbgrader": {
     "cell_type": "code",
     "checksum": "2359babd1ddd96a0b0fd9f7cfb1ae65a",
     "grade": true,
     "grade_id": "cell-bf336b105b6ecee5",
     "locked": true,
     "points": 2,
     "schema_version": 3,
     "solution": false,
     "task": false
    }
   },
   "outputs": [],
   "source": [
    "x = 7 \n",
    "y = 7\n",
    "z = 7\n",
    "triangle = trianglename(x,y,z)\n",
    "assert triangle == 'equilateral'"
   ]
  },
  {
   "cell_type": "code",
   "execution_count": 12,
   "id": "03fb174a",
   "metadata": {
    "deletable": false,
    "editable": false,
    "execution": {
     "iopub.execute_input": "2025-10-20T06:09:40.461760Z",
     "iopub.status.busy": "2025-10-20T06:09:40.461557Z",
     "iopub.status.idle": "2025-10-20T06:09:40.463259Z",
     "shell.execute_reply": "2025-10-20T06:09:40.463013Z"
    },
    "nbgrader": {
     "cell_type": "code",
     "checksum": "f5ac74f7419830a4a346664549fd6ebf",
     "grade": true,
     "grade_id": "cell-d88d286035d01233",
     "locked": true,
     "points": 2,
     "schema_version": 3,
     "solution": false,
     "task": false
    }
   },
   "outputs": [],
   "source": [
    "x = 6 \n",
    "y = 7\n",
    "z = 8\n",
    "triangle = trianglename(x,y,z)\n",
    "assert triangle == 'obtuse'"
   ]
  },
  {
   "cell_type": "markdown",
   "id": "8405501c",
   "metadata": {},
   "source": [
    "4.  Write a function  that checks if a positive whole number provided as an argument is a prime number. The function should return the string 'prime' if the number is prime, and 'not prime' if the number is not prime. A prime number is divisible by exactly two numbers: itself and 1.  Do not use any loops (if you know how to use them).\n",
    "\n",
    "   Hint:  \n",
    "* % tells you the remainder when dividing a number by a number or an array\n",
    "* np.arange can be used to make an array"
   ]
  },
  {
   "cell_type": "code",
   "execution_count": 13,
   "id": "9be46d7f",
   "metadata": {
    "deletable": false,
    "execution": {
     "iopub.execute_input": "2025-10-20T06:09:40.464384Z",
     "iopub.status.busy": "2025-10-20T06:09:40.464318Z",
     "iopub.status.idle": "2025-10-20T06:09:40.466004Z",
     "shell.execute_reply": "2025-10-20T06:09:40.465793Z"
    },
    "nbgrader": {
     "cell_type": "code",
     "checksum": "464448a66831d65a84781ede63834992",
     "grade": false,
     "grade_id": "cell-abac5d0d0749ddd6",
     "locked": false,
     "schema_version": 3,
     "solution": true,
     "task": false
    }
   },
   "outputs": [],
   "source": [
    "import numpy as np\n",
    "\n",
    "def isprime(n):\n",
    "    if n <= 1:\n",
    "        return 'not prime'\n",
    "    divisors = np.arange(2, n)\n",
    "    if np.any(n % divisors == 0):\n",
    "        return 'not prime'\n",
    "    else:\n",
    "        return 'prime'"
   ]
  },
  {
   "cell_type": "code",
   "execution_count": 14,
   "id": "8daed8d5",
   "metadata": {
    "deletable": false,
    "editable": false,
    "execution": {
     "iopub.execute_input": "2025-10-20T06:09:40.466956Z",
     "iopub.status.busy": "2025-10-20T06:09:40.466879Z",
     "iopub.status.idle": "2025-10-20T06:09:40.468328Z",
     "shell.execute_reply": "2025-10-20T06:09:40.468119Z"
    },
    "nbgrader": {
     "cell_type": "code",
     "checksum": "5c881501447dd790da5436a7e1fa7b39",
     "grade": true,
     "grade_id": "cell-735b98f4df1eca7d",
     "locked": true,
     "points": 2,
     "schema_version": 3,
     "solution": false,
     "task": false
    }
   },
   "outputs": [],
   "source": [
    "assert isprime(8) == 'not prime'\n",
    "### BEGIN HIDDEN TESTS ###\n",
    "assert isprime(7) == 'prime'\n",
    "### END HIDDEN TESTS ###"
   ]
  },
  {
   "cell_type": "code",
   "execution_count": 15,
   "id": "bd6e86d5-d065-4279-9e41-a9a5f5fac713",
   "metadata": {
    "deletable": false,
    "editable": false,
    "execution": {
     "iopub.execute_input": "2025-10-20T06:09:40.469270Z",
     "iopub.status.busy": "2025-10-20T06:09:40.469201Z",
     "iopub.status.idle": "2025-10-20T06:09:40.470622Z",
     "shell.execute_reply": "2025-10-20T06:09:40.470436Z"
    },
    "nbgrader": {
     "cell_type": "code",
     "checksum": "834bdb02c5c1ebcdef322190c0e19512",
     "grade": true,
     "grade_id": "cell-13196bb4dcd60f06",
     "locked": true,
     "points": 2,
     "schema_version": 3,
     "solution": false,
     "task": false
    }
   },
   "outputs": [],
   "source": [
    "assert isprime(31) == 'prime'\n",
    "### BEGIN HIDDEN TESTS ###\n",
    "assert isprime(30) == 'not prime'\n",
    "### END HIDDEN TESTS ###"
   ]
  },
  {
   "cell_type": "code",
   "execution_count": 16,
   "id": "04dee51c-16ab-46e2-9ccb-1d18d3cb70c8",
   "metadata": {
    "deletable": false,
    "editable": false,
    "execution": {
     "iopub.execute_input": "2025-10-20T06:09:40.471608Z",
     "iopub.status.busy": "2025-10-20T06:09:40.471532Z",
     "iopub.status.idle": "2025-10-20T06:09:40.472883Z",
     "shell.execute_reply": "2025-10-20T06:09:40.472675Z"
    },
    "nbgrader": {
     "cell_type": "code",
     "checksum": "944e2dc6f92a22797d37e02e98fdef42",
     "grade": true,
     "grade_id": "cell-634914584a356eb3",
     "locked": true,
     "points": 2,
     "schema_version": 3,
     "solution": false,
     "task": false
    }
   },
   "outputs": [],
   "source": [
    "assert isprime(1) == 'not prime'"
   ]
  },
  {
   "cell_type": "code",
   "execution_count": null,
   "id": "126c08c2-f953-4c18-9627-71f9df2bffda",
   "metadata": {},
   "outputs": [],
   "source": []
  }
 ],
 "metadata": {
  "kernelspec": {
   "display_name": "Python 3 (ipykernel)",
   "language": "python",
   "name": "python3"
  },
  "language_info": {
   "codemirror_mode": {
    "name": "ipython",
    "version": 3
   },
   "file_extension": ".py",
   "mimetype": "text/x-python",
   "name": "python",
   "nbconvert_exporter": "python",
   "pygments_lexer": "ipython3",
   "version": "3.13.7"
  }
 },
 "nbformat": 4,
 "nbformat_minor": 5
}
