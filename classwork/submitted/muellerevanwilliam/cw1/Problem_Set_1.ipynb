{
 "cells": [
  {
   "cell_type": "markdown",
   "id": "746888fd",
   "metadata": {},
   "source": [
    "Before you turn this problem in, make sure everything runs as expected. First, **restart the kernel** (in the menubar, select  **Restart** and **Clear All Outputs**, then select **Run All**).\n",
    "\n",
    "Make sure you fill in any place that says `YOUR CODE HERE` or \"YOUR ANSWER HERE\", as well as your name and collaborators below:"
   ]
  },
  {
   "cell_type": "code",
   "execution_count": 1,
   "id": "ff886789",
   "metadata": {
    "execution": {
     "iopub.execute_input": "2025-10-03T21:40:50.137854Z",
     "iopub.status.busy": "2025-10-03T21:40:50.137693Z",
     "iopub.status.idle": "2025-10-03T21:40:50.140791Z",
     "shell.execute_reply": "2025-10-03T21:40:50.140124Z",
     "shell.execute_reply.started": "2025-10-03T21:40:50.137840Z"
    }
   },
   "outputs": [],
   "source": [
    "NAME = \"Evan Mueller\"\n",
    "COLLABORATORS = \"Sakomoto\""
   ]
  },
  {
   "cell_type": "markdown",
   "id": "b434b16c",
   "metadata": {},
   "source": [
    "---"
   ]
  },
  {
   "cell_type": "markdown",
   "id": "a9bfcbd5-7ea2-41b2-a847-f4327e17ab82",
   "metadata": {
    "tags": []
   },
   "source": [
    "# **Problem Set 1**:  List, Arrays, and Indexing Methods\n",
    "\n",
    "### This is a problem set.  You can work on it with the help of your classmates, Google, or ask me any questions you would like. \n",
    "### There are some new methods introduced in the problem set. \n",
    "### I encourage discussion during these problem sets.   \n",
    "### The problem set is due at 2:50 pm.   \n",
    "### However, you may continue to work on problems you dont finish, or you want to correct up to Wednesday. You will get 1/2 credit for that additional work.   \n",
    "### VERY IMPORTANT\n",
    "### In order for automatic grading and validation to work, it is very important that you make use of the exact variable names specified in the problem statement.\n",
    "### I will always place these variable names that must be used for automatic grading in **bold**"
   ]
  },
  {
   "cell_type": "code",
   "execution_count": 2,
   "id": "1a710a17-1378-4a7a-85b7-f518ed4d0bca",
   "metadata": {
    "execution": {
     "iopub.execute_input": "2025-10-03T21:40:50.146023Z",
     "iopub.status.busy": "2025-10-03T21:40:50.145778Z",
     "iopub.status.idle": "2025-10-03T21:40:50.169035Z",
     "shell.execute_reply": "2025-10-03T21:40:50.168296Z",
     "shell.execute_reply.started": "2025-10-03T21:40:50.146001Z"
    }
   },
   "outputs": [],
   "source": [
    "# your going to need numpy to do this assignment \n",
    "import numpy as np \n",
    "#frankly, in this class, you will always need numpy.  "
   ]
  },
  {
   "cell_type": "markdown",
   "id": "3d421e26",
   "metadata": {},
   "source": [
    "1. Create a list called **food** with the following elements 'onion', 'egg', 'bacon', 'tomato', 'ham', 'cheese'. "
   ]
  },
  {
   "cell_type": "code",
   "execution_count": 3,
   "id": "1cdaadd4",
   "metadata": {
    "deletable": false,
    "execution": {
     "iopub.execute_input": "2025-10-03T21:40:50.185059Z",
     "iopub.status.busy": "2025-10-03T21:40:50.184807Z",
     "iopub.status.idle": "2025-10-03T21:40:50.195253Z",
     "shell.execute_reply": "2025-10-03T21:40:50.194669Z",
     "shell.execute_reply.started": "2025-10-03T21:40:50.185036Z"
    },
    "nbgrader": {
     "cell_type": "code",
     "checksum": "5c9b1bcf73e618a89fe1c2ff81bdb14a",
     "grade": false,
     "grade_id": "cell-2a0fce76f8a4fcc5",
     "locked": false,
     "schema_version": 3,
     "solution": true,
     "task": false
    }
   },
   "outputs": [],
   "source": [
    "# YOUR CODE HERE\n",
    "food = ['onion','egg','bacon','tomato','ham','cheese']"
   ]
  },
  {
   "cell_type": "code",
   "execution_count": 4,
   "id": "03472f19",
   "metadata": {
    "deletable": false,
    "editable": false,
    "execution": {
     "iopub.execute_input": "2025-10-03T21:40:50.212099Z",
     "iopub.status.busy": "2025-10-03T21:40:50.211892Z",
     "iopub.status.idle": "2025-10-03T21:40:50.224695Z",
     "shell.execute_reply": "2025-10-03T21:40:50.223965Z",
     "shell.execute_reply.started": "2025-10-03T21:40:50.212084Z"
    },
    "nbgrader": {
     "cell_type": "code",
     "checksum": "7a12cb65ac4192a0e745901a443f4fc9",
     "grade": true,
     "grade_id": "cell-c55d53d08cf6fea6",
     "locked": true,
     "points": 3,
     "schema_version": 3,
     "solution": false,
     "task": false
    }
   },
   "outputs": [],
   "source": [
    "assert len(food)== 6"
   ]
  },
  {
   "cell_type": "markdown",
   "id": "4fce0eec",
   "metadata": {},
   "source": [
    "2. Use *indexing* into the list **food** to make a new list **meat** containing only 'bacon' and 'ham'. Again, using indexing, make a list **veggie** containing 'tomato' and 'onion' in that order. "
   ]
  },
  {
   "cell_type": "code",
   "execution_count": 5,
   "id": "4222474d",
   "metadata": {
    "deletable": false,
    "execution": {
     "iopub.execute_input": "2025-10-03T21:40:50.236692Z",
     "iopub.status.busy": "2025-10-03T21:40:50.236526Z",
     "iopub.status.idle": "2025-10-03T21:40:50.248039Z",
     "shell.execute_reply": "2025-10-03T21:40:50.247408Z",
     "shell.execute_reply.started": "2025-10-03T21:40:50.236678Z"
    },
    "nbgrader": {
     "cell_type": "code",
     "checksum": "1b7e9c94c77bf9ae0a48dae4f6c37d54",
     "grade": false,
     "grade_id": "cell-b6350c0476590c1e",
     "locked": false,
     "schema_version": 3,
     "solution": true,
     "task": false
    }
   },
   "outputs": [],
   "source": [
    "# YOUR CODE HERE\n",
    "meat = food[2],food[4]\n",
    "veggie = food[3],food[0]"
   ]
  },
  {
   "cell_type": "code",
   "execution_count": 6,
   "id": "a078aebb",
   "metadata": {
    "deletable": false,
    "editable": false,
    "execution": {
     "iopub.execute_input": "2025-10-03T21:40:50.260096Z",
     "iopub.status.busy": "2025-10-03T21:40:50.259927Z",
     "iopub.status.idle": "2025-10-03T21:40:50.271048Z",
     "shell.execute_reply": "2025-10-03T21:40:50.270562Z",
     "shell.execute_reply.started": "2025-10-03T21:40:50.260082Z"
    },
    "nbgrader": {
     "cell_type": "code",
     "checksum": "41a44bb4af68ba749baa936468868cc9",
     "grade": true,
     "grade_id": "cell-a2fb6ef5fc1c48a6",
     "locked": true,
     "points": 2,
     "schema_version": 3,
     "solution": false,
     "task": false
    }
   },
   "outputs": [],
   "source": [
    "assert meat[0] == 'bacon'\n",
    "assert len(meat) == 2"
   ]
  },
  {
   "cell_type": "code",
   "execution_count": 7,
   "id": "ebd6b18c-9d29-455f-9d24-692480d69412",
   "metadata": {
    "deletable": false,
    "editable": false,
    "execution": {
     "iopub.execute_input": "2025-10-03T21:40:50.283011Z",
     "iopub.status.busy": "2025-10-03T21:40:50.282546Z",
     "iopub.status.idle": "2025-10-03T21:40:50.293132Z",
     "shell.execute_reply": "2025-10-03T21:40:50.292566Z",
     "shell.execute_reply.started": "2025-10-03T21:40:50.282995Z"
    },
    "nbgrader": {
     "cell_type": "code",
     "checksum": "7f4931a84f7116cb8c2af4a1527dd29b",
     "grade": true,
     "grade_id": "cell-6a99beb4a531ef02",
     "locked": true,
     "points": 2,
     "schema_version": 3,
     "solution": false,
     "task": false
    }
   },
   "outputs": [],
   "source": [
    "assert veggie[0] == 'tomato'\n",
    "assert len(veggie) == 2"
   ]
  },
  {
   "cell_type": "markdown",
   "id": "d87b7d4e",
   "metadata": {},
   "source": [
    "3. Create a numpy array called **numbers** containing the numbers 6,24,13,16,8,10,21 in that order. Create an array called **skip1** that starts at element with index 0 and takes every other element of the array **numbers**, by using the `start:stop:step` syntax to index into the array."
   ]
  },
  {
   "cell_type": "code",
   "execution_count": 8,
   "id": "31b9786b",
   "metadata": {
    "deletable": false,
    "execution": {
     "iopub.execute_input": "2025-10-03T21:40:50.308108Z",
     "iopub.status.busy": "2025-10-03T21:40:50.307765Z",
     "iopub.status.idle": "2025-10-03T21:40:50.321828Z",
     "shell.execute_reply": "2025-10-03T21:40:50.321299Z",
     "shell.execute_reply.started": "2025-10-03T21:40:50.308092Z"
    },
    "nbgrader": {
     "cell_type": "code",
     "checksum": "d9a96608a0b3c2991c31e150d73d7543",
     "grade": false,
     "grade_id": "cell-c9c71eda64dac60b",
     "locked": false,
     "schema_version": 3,
     "solution": true,
     "task": false
    }
   },
   "outputs": [],
   "source": [
    "# YOUR CODE HERE\n",
    "numbers = np.array([6,24,13,16,8,10,21])\n",
    "\n",
    "skip1 = numbers[0:7:2]"
   ]
  },
  {
   "cell_type": "code",
   "execution_count": 9,
   "id": "ff713809",
   "metadata": {
    "deletable": false,
    "editable": false,
    "execution": {
     "iopub.execute_input": "2025-10-03T21:40:50.335013Z",
     "iopub.status.busy": "2025-10-03T21:40:50.334852Z",
     "iopub.status.idle": "2025-10-03T21:40:50.350393Z",
     "shell.execute_reply": "2025-10-03T21:40:50.349866Z",
     "shell.execute_reply.started": "2025-10-03T21:40:50.334999Z"
    },
    "nbgrader": {
     "cell_type": "code",
     "checksum": "50f9c682041363f8322cc780e24cf466",
     "grade": true,
     "grade_id": "cell-044d3ded57226e50",
     "locked": true,
     "points": 1,
     "schema_version": 3,
     "solution": false,
     "task": false
    }
   },
   "outputs": [],
   "source": [
    "assert len(numbers) == 7"
   ]
  },
  {
   "cell_type": "code",
   "execution_count": 10,
   "id": "dc355488",
   "metadata": {
    "deletable": false,
    "editable": false,
    "execution": {
     "iopub.execute_input": "2025-10-03T21:40:50.362356Z",
     "iopub.status.busy": "2025-10-03T21:40:50.362146Z",
     "iopub.status.idle": "2025-10-03T21:40:50.376865Z",
     "shell.execute_reply": "2025-10-03T21:40:50.376127Z",
     "shell.execute_reply.started": "2025-10-03T21:40:50.362340Z"
    },
    "nbgrader": {
     "cell_type": "code",
     "checksum": "1d4186680e51f644bdd5a6a4d67d3c13",
     "grade": true,
     "grade_id": "cell-3bb4e599e35e1645",
     "locked": true,
     "points": 2,
     "schema_version": 3,
     "solution": false,
     "task": false
    }
   },
   "outputs": [],
   "source": [
    "assert len(skip1) == 4\n",
    "assert skip1[-1] == 21\n",
    "assert skip1[1] == 13"
   ]
  },
  {
   "cell_type": "markdown",
   "id": "92ff343a",
   "metadata": {},
   "source": [
    "4. Make a numpy array called **z** using the numpy function `linspace`, containing values from -100 to 100, including -100 and 100, in steps of 10.  "
   ]
  },
  {
   "cell_type": "code",
   "execution_count": 11,
   "id": "3f9ae5d9",
   "metadata": {
    "deletable": false,
    "execution": {
     "iopub.execute_input": "2025-10-03T21:40:50.388994Z",
     "iopub.status.busy": "2025-10-03T21:40:50.388611Z",
     "iopub.status.idle": "2025-10-03T21:40:50.402319Z",
     "shell.execute_reply": "2025-10-03T21:40:50.401649Z",
     "shell.execute_reply.started": "2025-10-03T21:40:50.388977Z"
    },
    "nbgrader": {
     "cell_type": "code",
     "checksum": "68dfdcbf010074e23c75ad3207b1d4b1",
     "grade": false,
     "grade_id": "cell-f95007e3ee1a7d98",
     "locked": false,
     "schema_version": 3,
     "solution": true,
     "task": false
    }
   },
   "outputs": [],
   "source": [
    "# YOUR CODE HERE\n",
    "z = np.linspace(-100, 100, 21)"
   ]
  },
  {
   "cell_type": "code",
   "execution_count": 12,
   "id": "1cb4fd87",
   "metadata": {
    "deletable": false,
    "editable": false,
    "execution": {
     "iopub.execute_input": "2025-10-03T21:40:50.414370Z",
     "iopub.status.busy": "2025-10-03T21:40:50.414163Z",
     "iopub.status.idle": "2025-10-03T21:40:50.426646Z",
     "shell.execute_reply": "2025-10-03T21:40:50.426060Z",
     "shell.execute_reply.started": "2025-10-03T21:40:50.414354Z"
    },
    "nbgrader": {
     "cell_type": "code",
     "checksum": "b103a7452d40aab08a294301384c1847",
     "grade": true,
     "grade_id": "cell-536cfe4c84bf740a",
     "locked": true,
     "points": 3,
     "schema_version": 3,
     "solution": false,
     "task": false
    }
   },
   "outputs": [],
   "source": [
    "assert np.all(np.diff(z) == 10)"
   ]
  },
  {
   "cell_type": "markdown",
   "id": "d0f3df9b",
   "metadata": {},
   "source": [
    "5. Create a numpy array **x** with all the odd numbers less than 20 using the numpy function `arange`.  "
   ]
  },
  {
   "cell_type": "code",
   "execution_count": 13,
   "id": "6cb1c3e1",
   "metadata": {
    "deletable": false,
    "execution": {
     "iopub.execute_input": "2025-10-03T21:40:50.438590Z",
     "iopub.status.busy": "2025-10-03T21:40:50.438211Z",
     "iopub.status.idle": "2025-10-03T21:40:50.452811Z",
     "shell.execute_reply": "2025-10-03T21:40:50.452207Z",
     "shell.execute_reply.started": "2025-10-03T21:40:50.438573Z"
    },
    "nbgrader": {
     "cell_type": "code",
     "checksum": "90e6f278850ae1af61eb97f12cd90cf9",
     "grade": false,
     "grade_id": "cell-6bfea95ba011db9d",
     "locked": false,
     "schema_version": 3,
     "solution": true,
     "task": false
    }
   },
   "outputs": [],
   "source": [
    "# YOUR CODE HERE\n",
    "x = np.arange (1, 20, 2)"
   ]
  },
  {
   "cell_type": "code",
   "execution_count": 14,
   "id": "de3b2a03",
   "metadata": {
    "deletable": false,
    "editable": false,
    "execution": {
     "iopub.execute_input": "2025-10-03T21:40:50.464996Z",
     "iopub.status.busy": "2025-10-03T21:40:50.464755Z",
     "iopub.status.idle": "2025-10-03T21:40:50.476665Z",
     "shell.execute_reply": "2025-10-03T21:40:50.476180Z",
     "shell.execute_reply.started": "2025-10-03T21:40:50.464975Z"
    },
    "nbgrader": {
     "cell_type": "code",
     "checksum": "5c4a1945fe6b75adb9b862743f0761f2",
     "grade": true,
     "grade_id": "cell-925a224d993057b4",
     "locked": true,
     "points": 3,
     "schema_version": 3,
     "solution": false,
     "task": false
    }
   },
   "outputs": [],
   "source": [
    "assert ~np.any(x%2 == 0)"
   ]
  },
  {
   "cell_type": "markdown",
   "id": "f2956d08",
   "metadata": {},
   "source": [
    "6. Create an array **power** than has all of the powers of 2 from $2^1$ to $2^8$.  There are a number of ways you could tackle this problem and I will accept any of them as long as you produce the array by calculating the powers using python code. "
   ]
  },
  {
   "cell_type": "code",
   "execution_count": 15,
   "id": "afcb7559",
   "metadata": {
    "deletable": false,
    "execution": {
     "iopub.execute_input": "2025-10-03T21:40:50.489160Z",
     "iopub.status.busy": "2025-10-03T21:40:50.488774Z",
     "iopub.status.idle": "2025-10-03T21:40:50.502115Z",
     "shell.execute_reply": "2025-10-03T21:40:50.501522Z",
     "shell.execute_reply.started": "2025-10-03T21:40:50.489139Z"
    },
    "nbgrader": {
     "cell_type": "code",
     "checksum": "39f49af19525ff1b7161b1eb5e841b61",
     "grade": false,
     "grade_id": "cell-a6cb876518bc27b9",
     "locked": false,
     "schema_version": 3,
     "solution": true,
     "task": false
    }
   },
   "outputs": [],
   "source": [
    "# YOUR CODE HERE\n",
    "expon = np.arange (1, 9, 1)\n",
    "power = 2 ** expon"
   ]
  },
  {
   "cell_type": "code",
   "execution_count": 16,
   "id": "8d53cd9c",
   "metadata": {
    "deletable": false,
    "editable": false,
    "execution": {
     "iopub.execute_input": "2025-10-03T21:40:50.517852Z",
     "iopub.status.busy": "2025-10-03T21:40:50.517637Z",
     "iopub.status.idle": "2025-10-03T21:40:50.534754Z",
     "shell.execute_reply": "2025-10-03T21:40:50.534127Z",
     "shell.execute_reply.started": "2025-10-03T21:40:50.517837Z"
    },
    "nbgrader": {
     "cell_type": "code",
     "checksum": "ba288b9d472bb54105f773bf3eb8cb45",
     "grade": true,
     "grade_id": "cell-83ed95c7aa9c856a",
     "locked": true,
     "points": 4,
     "schema_version": 3,
     "solution": false,
     "task": false
    }
   },
   "outputs": [],
   "source": [
    "assert len(power) == 8\n",
    "assert np,max(power) == 2**8\n",
    "assert np.min(power) == 2"
   ]
  },
  {
   "cell_type": "code",
   "execution_count": null,
   "id": "e67d8468-0891-492c-b334-1199f5558893",
   "metadata": {},
   "outputs": [],
   "source": []
  }
 ],
 "metadata": {
  "kernelspec": {
   "display_name": "anaconda-panel-2023.05-py310",
   "language": "python",
   "name": "conda-env-anaconda-panel-2023.05-py310-py"
  },
  "language_info": {
   "codemirror_mode": {
    "name": "ipython",
    "version": 3
   },
   "file_extension": ".py",
   "mimetype": "text/x-python",
   "name": "python",
   "nbconvert_exporter": "python",
   "pygments_lexer": "ipython3",
   "version": "3.11.5"
  }
 },
 "nbformat": 4,
 "nbformat_minor": 5
}
